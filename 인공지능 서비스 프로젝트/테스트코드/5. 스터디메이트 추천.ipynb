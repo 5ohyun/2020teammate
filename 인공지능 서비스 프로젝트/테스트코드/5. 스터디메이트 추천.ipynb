{
 "metadata": {
  "language_info": {
   "codemirror_mode": {
    "name": "ipython",
    "version": 3
   },
   "file_extension": ".py",
   "mimetype": "text/x-python",
   "name": "python",
   "nbconvert_exporter": "python",
   "pygments_lexer": "ipython3",
   "version": "3.7.7-final"
  },
  "orig_nbformat": 2,
  "kernelspec": {
   "name": "python_defaultSpec_1599808950969",
   "display_name": "Python 3.7.7 64-bit ('base': conda)"
  }
 },
 "nbformat": 4,
 "nbformat_minor": 2,
 "cells": [
  {
   "cell_type": "code",
   "execution_count": 1,
   "metadata": {},
   "outputs": [
    {
     "output_type": "display_data",
     "data": {
      "text/plain": "      웹  머신러닝  통계  딥러닝  알고리즘  NLP  디자인  총점평균  데이터분석   모델링\n1     7     3   5    8     2    9    9  6.14    4.0  5.50\n2     7    10  10    1     8    3    2  5.86   10.0  5.50\n3     1     5   1    9     1    5   10  4.57    3.0  5.00\n4     6     4  10    2     9   10    4  6.43    7.0  6.25\n5    10     2   2    7     5    4    1  4.43    2.0  4.50\n..   ..   ...  ..  ...   ...  ...  ...   ...    ...   ...\n176   6     1   4    5     1   10    1  4.00    2.5  4.25\n177   4     3   3   10     9    6    2  5.29    3.0  7.00\n178   2     2   8    6     2   10    1  4.43    5.0  5.00\n179  10     1   6    4     9    9    5  6.29    3.5  5.75\n180   5     6   1    7     1    1    2  3.29    3.5  3.75\n\n[180 rows x 10 columns]",
      "text/html": "<div>\n<style scoped>\n    .dataframe tbody tr th:only-of-type {\n        vertical-align: middle;\n    }\n\n    .dataframe tbody tr th {\n        vertical-align: top;\n    }\n\n    .dataframe thead th {\n        text-align: right;\n    }\n</style>\n<table border=\"1\" class=\"dataframe\">\n  <thead>\n    <tr style=\"text-align: right;\">\n      <th></th>\n      <th>웹</th>\n      <th>머신러닝</th>\n      <th>통계</th>\n      <th>딥러닝</th>\n      <th>알고리즘</th>\n      <th>NLP</th>\n      <th>디자인</th>\n      <th>총점평균</th>\n      <th>데이터분석</th>\n      <th>모델링</th>\n    </tr>\n  </thead>\n  <tbody>\n    <tr>\n      <th>1</th>\n      <td>7</td>\n      <td>3</td>\n      <td>5</td>\n      <td>8</td>\n      <td>2</td>\n      <td>9</td>\n      <td>9</td>\n      <td>6.14</td>\n      <td>4.0</td>\n      <td>5.50</td>\n    </tr>\n    <tr>\n      <th>2</th>\n      <td>7</td>\n      <td>10</td>\n      <td>10</td>\n      <td>1</td>\n      <td>8</td>\n      <td>3</td>\n      <td>2</td>\n      <td>5.86</td>\n      <td>10.0</td>\n      <td>5.50</td>\n    </tr>\n    <tr>\n      <th>3</th>\n      <td>1</td>\n      <td>5</td>\n      <td>1</td>\n      <td>9</td>\n      <td>1</td>\n      <td>5</td>\n      <td>10</td>\n      <td>4.57</td>\n      <td>3.0</td>\n      <td>5.00</td>\n    </tr>\n    <tr>\n      <th>4</th>\n      <td>6</td>\n      <td>4</td>\n      <td>10</td>\n      <td>2</td>\n      <td>9</td>\n      <td>10</td>\n      <td>4</td>\n      <td>6.43</td>\n      <td>7.0</td>\n      <td>6.25</td>\n    </tr>\n    <tr>\n      <th>5</th>\n      <td>10</td>\n      <td>2</td>\n      <td>2</td>\n      <td>7</td>\n      <td>5</td>\n      <td>4</td>\n      <td>1</td>\n      <td>4.43</td>\n      <td>2.0</td>\n      <td>4.50</td>\n    </tr>\n    <tr>\n      <th>...</th>\n      <td>...</td>\n      <td>...</td>\n      <td>...</td>\n      <td>...</td>\n      <td>...</td>\n      <td>...</td>\n      <td>...</td>\n      <td>...</td>\n      <td>...</td>\n      <td>...</td>\n    </tr>\n    <tr>\n      <th>176</th>\n      <td>6</td>\n      <td>1</td>\n      <td>4</td>\n      <td>5</td>\n      <td>1</td>\n      <td>10</td>\n      <td>1</td>\n      <td>4.00</td>\n      <td>2.5</td>\n      <td>4.25</td>\n    </tr>\n    <tr>\n      <th>177</th>\n      <td>4</td>\n      <td>3</td>\n      <td>3</td>\n      <td>10</td>\n      <td>9</td>\n      <td>6</td>\n      <td>2</td>\n      <td>5.29</td>\n      <td>3.0</td>\n      <td>7.00</td>\n    </tr>\n    <tr>\n      <th>178</th>\n      <td>2</td>\n      <td>2</td>\n      <td>8</td>\n      <td>6</td>\n      <td>2</td>\n      <td>10</td>\n      <td>1</td>\n      <td>4.43</td>\n      <td>5.0</td>\n      <td>5.00</td>\n    </tr>\n    <tr>\n      <th>179</th>\n      <td>10</td>\n      <td>1</td>\n      <td>6</td>\n      <td>4</td>\n      <td>9</td>\n      <td>9</td>\n      <td>5</td>\n      <td>6.29</td>\n      <td>3.5</td>\n      <td>5.75</td>\n    </tr>\n    <tr>\n      <th>180</th>\n      <td>5</td>\n      <td>6</td>\n      <td>1</td>\n      <td>7</td>\n      <td>1</td>\n      <td>1</td>\n      <td>2</td>\n      <td>3.29</td>\n      <td>3.5</td>\n      <td>3.75</td>\n    </tr>\n  </tbody>\n</table>\n<p>180 rows × 10 columns</p>\n</div>"
     },
     "metadata": {}
    }
   ],
   "source": [
    "import numpy as np\n",
    "import pandas as pd\n",
    "\n",
    "# 프로필 데이터를 얻어왔다고 가정\n",
    "user_grade = pd.DataFrame(np.random.randint(1,11,size=(180,7)) , index=range(1,181), columns=['웹','머신러닝','통계','딥러닝','알고리즘','NLP','디자인'])\n",
    "\n",
    "# 7개의 과목에 대한 총점 평균\n",
    "user_grade['총점평균'] = np.around(user_grade.mean(axis=1),2)\n",
    "# 데이터 분석 점수\n",
    "user_grade['데이터분석'] = user_grade.loc[:,['통계','머신러닝']].mean(axis=1)\n",
    "# 모델링 점수\n",
    "user_grade['모델링'] = user_grade.loc[:,['머신러닝','딥러닝','알고리즘','NLP']].mean(axis=1)\n",
    "\n",
    "display(user_grade)"
   ]
  },
  {
   "cell_type": "code",
   "execution_count": 2,
   "metadata": {},
   "outputs": [],
   "source": [
    "# 실제 코드에는 쓰이지 않을 랜덤값 생성 함수\n",
    "\n",
    "import random\n",
    "\n",
    "def get_heart_list(x):\n",
    "    heart_list = [0 for _ in range(0,x)]\n",
    "    for _ in range(x):\n",
    "        rand_idx = random.randint(0,x-1)\n",
    "        rand_point = random.randint(0,10)\n",
    "        heart_list[rand_idx] += rand_point\n",
    "        if sum(heart_list) >= 10:\n",
    "            heart_list[rand_idx] -= rand_point\n",
    "            break\n",
    "    heart_list[random.randint(0,x-1)] += 10 - sum(heart_list)\n",
    "    return heart_list\n",
    "\n",
    "def get_all_heart_list(x, y):\n",
    "    all_list = []\n",
    "    for _ in range(0, y):\n",
    "        all_list.append(get_heart_list(x))\n",
    "    return np.array(all_list)"
   ]
  },
  {
   "cell_type": "code",
   "execution_count": 3,
   "metadata": {},
   "outputs": [
    {
     "output_type": "display_data",
     "data": {
      "text/plain": "     통계  NLP  웹  딥러닝  머신러닝  알고리즘  디자인  기초파이썬  데이터분석  음성인식  컴퓨터비전  추천시스템  강화학습\n1     0    0  0    0     0     0    0      0      0     0      1      5     4\n2     5    0  0    0     5     0    0      0      0     0      0      0     0\n3     0    0  9    0     0     0    0      0      0     0      1      0     0\n4     0    4  0    0     0     0    0      4      2     0      0      0     0\n5     7    0  0    0     1     0    0      0      0     2      0      0     0\n..   ..  ... ..  ...   ...   ...  ...    ...    ...   ...    ...    ...   ...\n176   7    0  0    0     0     0    0      0      0     3      0      0     0\n177   1    0  1    4     0     1    1      0      0     0      0      2     0\n178   0    0  0    0     0     0    0      9      1     0      0      0     0\n179   0    7  0    1     0     1    0      0      0     0      0      1     0\n180   0    0  0    3     0     0    4      0      0     3      0      0     0\n\n[180 rows x 13 columns]",
      "text/html": "<div>\n<style scoped>\n    .dataframe tbody tr th:only-of-type {\n        vertical-align: middle;\n    }\n\n    .dataframe tbody tr th {\n        vertical-align: top;\n    }\n\n    .dataframe thead th {\n        text-align: right;\n    }\n</style>\n<table border=\"1\" class=\"dataframe\">\n  <thead>\n    <tr style=\"text-align: right;\">\n      <th></th>\n      <th>통계</th>\n      <th>NLP</th>\n      <th>웹</th>\n      <th>딥러닝</th>\n      <th>머신러닝</th>\n      <th>알고리즘</th>\n      <th>디자인</th>\n      <th>기초파이썬</th>\n      <th>데이터분석</th>\n      <th>음성인식</th>\n      <th>컴퓨터비전</th>\n      <th>추천시스템</th>\n      <th>강화학습</th>\n    </tr>\n  </thead>\n  <tbody>\n    <tr>\n      <th>1</th>\n      <td>0</td>\n      <td>0</td>\n      <td>0</td>\n      <td>0</td>\n      <td>0</td>\n      <td>0</td>\n      <td>0</td>\n      <td>0</td>\n      <td>0</td>\n      <td>0</td>\n      <td>1</td>\n      <td>5</td>\n      <td>4</td>\n    </tr>\n    <tr>\n      <th>2</th>\n      <td>5</td>\n      <td>0</td>\n      <td>0</td>\n      <td>0</td>\n      <td>5</td>\n      <td>0</td>\n      <td>0</td>\n      <td>0</td>\n      <td>0</td>\n      <td>0</td>\n      <td>0</td>\n      <td>0</td>\n      <td>0</td>\n    </tr>\n    <tr>\n      <th>3</th>\n      <td>0</td>\n      <td>0</td>\n      <td>9</td>\n      <td>0</td>\n      <td>0</td>\n      <td>0</td>\n      <td>0</td>\n      <td>0</td>\n      <td>0</td>\n      <td>0</td>\n      <td>1</td>\n      <td>0</td>\n      <td>0</td>\n    </tr>\n    <tr>\n      <th>4</th>\n      <td>0</td>\n      <td>4</td>\n      <td>0</td>\n      <td>0</td>\n      <td>0</td>\n      <td>0</td>\n      <td>0</td>\n      <td>4</td>\n      <td>2</td>\n      <td>0</td>\n      <td>0</td>\n      <td>0</td>\n      <td>0</td>\n    </tr>\n    <tr>\n      <th>5</th>\n      <td>7</td>\n      <td>0</td>\n      <td>0</td>\n      <td>0</td>\n      <td>1</td>\n      <td>0</td>\n      <td>0</td>\n      <td>0</td>\n      <td>0</td>\n      <td>2</td>\n      <td>0</td>\n      <td>0</td>\n      <td>0</td>\n    </tr>\n    <tr>\n      <th>...</th>\n      <td>...</td>\n      <td>...</td>\n      <td>...</td>\n      <td>...</td>\n      <td>...</td>\n      <td>...</td>\n      <td>...</td>\n      <td>...</td>\n      <td>...</td>\n      <td>...</td>\n      <td>...</td>\n      <td>...</td>\n      <td>...</td>\n    </tr>\n    <tr>\n      <th>176</th>\n      <td>7</td>\n      <td>0</td>\n      <td>0</td>\n      <td>0</td>\n      <td>0</td>\n      <td>0</td>\n      <td>0</td>\n      <td>0</td>\n      <td>0</td>\n      <td>3</td>\n      <td>0</td>\n      <td>0</td>\n      <td>0</td>\n    </tr>\n    <tr>\n      <th>177</th>\n      <td>1</td>\n      <td>0</td>\n      <td>1</td>\n      <td>4</td>\n      <td>0</td>\n      <td>1</td>\n      <td>1</td>\n      <td>0</td>\n      <td>0</td>\n      <td>0</td>\n      <td>0</td>\n      <td>2</td>\n      <td>0</td>\n    </tr>\n    <tr>\n      <th>178</th>\n      <td>0</td>\n      <td>0</td>\n      <td>0</td>\n      <td>0</td>\n      <td>0</td>\n      <td>0</td>\n      <td>0</td>\n      <td>9</td>\n      <td>1</td>\n      <td>0</td>\n      <td>0</td>\n      <td>0</td>\n      <td>0</td>\n    </tr>\n    <tr>\n      <th>179</th>\n      <td>0</td>\n      <td>7</td>\n      <td>0</td>\n      <td>1</td>\n      <td>0</td>\n      <td>1</td>\n      <td>0</td>\n      <td>0</td>\n      <td>0</td>\n      <td>0</td>\n      <td>0</td>\n      <td>1</td>\n      <td>0</td>\n    </tr>\n    <tr>\n      <th>180</th>\n      <td>0</td>\n      <td>0</td>\n      <td>0</td>\n      <td>3</td>\n      <td>0</td>\n      <td>0</td>\n      <td>4</td>\n      <td>0</td>\n      <td>0</td>\n      <td>3</td>\n      <td>0</td>\n      <td>0</td>\n      <td>0</td>\n    </tr>\n  </tbody>\n</table>\n<p>180 rows × 13 columns</p>\n</div>"
     },
     "metadata": {}
    }
   ],
   "source": [
    "user_hope_course = pd.DataFrame(get_all_heart_list(13, 180) , index=range(1,181), columns=['통계','NLP','웹','딥러닝','머신러닝','알고리즘','디자인','기초파이썬','데이터분석','음성인식','컴퓨터비전','추천시스템','강화학습'])\n",
    "display(user_hope_course)"
   ]
  },
  {
   "cell_type": "code",
   "execution_count": 27,
   "metadata": {},
   "outputs": [],
   "source": [
    "def get_not_zero_hope_course(input_num):\n",
    "    # 스터디 과목중 하트를 하나라도 준 과목들 리스트 리턴하는 함수\n",
    "    return user_hope_course.loc[input_num][user_hope_course.loc[input_num] != 0].index.tolist()\n",
    "\n",
    "def course_to_ability(course_list):\n",
    "    # 스터디 과목 리스트를 받아 그에 맞는 성적으로 매칭, 리스트로 정리해 리턴하는 함수\n",
    "    ablility = []\n",
    "    for course in course_list:\n",
    "        if course in ['음성인식','컴퓨터비전','추천시스템','강화학습']:\n",
    "            if '모델링' not in ablility:\n",
    "                ablility.append('모델링')\n",
    "        elif course == '기초파이썬':\n",
    "            if '총점평균' not in ablility:\n",
    "                ablility.append('총점평균')\n",
    "        else:\n",
    "            if course not in ablility:\n",
    "                ablility.append(course)\n",
    "    return ablility"
   ]
  },
  {
   "cell_type": "code",
   "execution_count": 32,
   "metadata": {
    "tags": []
   },
   "outputs": [
    {
     "output_type": "execute_result",
     "data": {
      "text/plain": "      모델링\n1    5.50\n2    5.50\n3    5.00\n4    6.25\n5    4.50\n..    ...\n176  4.25\n177  7.00\n178  5.00\n179  5.75\n180  3.75\n\n[180 rows x 1 columns]",
      "text/html": "<div>\n<style scoped>\n    .dataframe tbody tr th:only-of-type {\n        vertical-align: middle;\n    }\n\n    .dataframe tbody tr th {\n        vertical-align: top;\n    }\n\n    .dataframe thead th {\n        text-align: right;\n    }\n</style>\n<table border=\"1\" class=\"dataframe\">\n  <thead>\n    <tr style=\"text-align: right;\">\n      <th></th>\n      <th>모델링</th>\n    </tr>\n  </thead>\n  <tbody>\n    <tr>\n      <th>1</th>\n      <td>5.50</td>\n    </tr>\n    <tr>\n      <th>2</th>\n      <td>5.50</td>\n    </tr>\n    <tr>\n      <th>3</th>\n      <td>5.00</td>\n    </tr>\n    <tr>\n      <th>4</th>\n      <td>6.25</td>\n    </tr>\n    <tr>\n      <th>5</th>\n      <td>4.50</td>\n    </tr>\n    <tr>\n      <th>...</th>\n      <td>...</td>\n    </tr>\n    <tr>\n      <th>176</th>\n      <td>4.25</td>\n    </tr>\n    <tr>\n      <th>177</th>\n      <td>7.00</td>\n    </tr>\n    <tr>\n      <th>178</th>\n      <td>5.00</td>\n    </tr>\n    <tr>\n      <th>179</th>\n      <td>5.75</td>\n    </tr>\n    <tr>\n      <th>180</th>\n      <td>3.75</td>\n    </tr>\n  </tbody>\n</table>\n<p>180 rows × 1 columns</p>\n</div>"
     },
     "metadata": {},
     "execution_count": 32
    }
   ],
   "source": [
    "def get_grade_for_hope_course(input_num):\n",
    "    # 사용자 번호를 받아 해당 사용자가 하트를 준 스터디과목만 골라\n",
    "    # 전체 사용자의 해당 과목 성적을 리턴하는 함수\n",
    "    necessary_ability_list = course_to_ability(get_not_zero_hope_course(input_num))\n",
    "    return user_grade[necessary_ability_list]\n",
    "get_grade_for_hope_course(1)"
   ]
  },
  {
   "cell_type": "code",
   "execution_count": 33,
   "metadata": {
    "tags": []
   },
   "outputs": [
    {
     "output_type": "execute_result",
     "data": {
      "text/plain": "1      0.00\n2      0.00\n3      0.50\n4      0.75\n5      1.00\n       ... \n176    1.25\n177    1.50\n178    0.50\n179    0.25\n180    1.75\nLength: 180, dtype: float64"
     },
     "metadata": {},
     "execution_count": 33
    }
   ],
   "source": [
    "def get_grade_sub_for_hope_course(input_num):\n",
    "    # 사용자 번호를 받아 해당 사용자가 하트를 준 스터디과목만 골라 정리하고\n",
    "    # 전체성적에서 사용자의 성적을 뺀 절대값을 리턴하는 함수\n",
    "    grade_sub_only_hope_course = np.abs(get_grade_for_hope_course(input_num) - get_grade_for_hope_course(input_num).loc[input_num]).mean(axis=1)\n",
    "    return grade_sub_only_hope_course\n",
    "get_grade_sub_for_hope_course(1)"
   ]
  },
  {
   "cell_type": "code",
   "execution_count": 34,
   "metadata": {},
   "outputs": [],
   "source": [
    "from sklearn.metrics.pairwise import cosine_similarity\n",
    "\n",
    "hope_course_similarity = cosine_similarity(user_hope_course, user_hope_course)"
   ]
  },
  {
   "cell_type": "code",
   "execution_count": 35,
   "metadata": {
    "tags": []
   },
   "outputs": [
    {
     "output_type": "stream",
     "name": "stdout",
     "text": "[프로필 성적]\n모델링 5.5 \n[희망 스터디 과목]\n컴퓨터비전 1 추천시스템 5 강화학습 4 \n"
    }
   ],
   "source": [
    "def get_info(input_num, std_num):\n",
    "    print(\"[프로필 성적]\")\n",
    "    grade_for_hope_course = get_grade_for_hope_course(std_num)\n",
    "    for i in range(len(grade_for_hope_course.loc[input_num])):\n",
    "        print(grade_for_hope_course.loc[input_num].index[i], grade_for_hope_course.loc[input_num][i], end=\" \")\n",
    "    print(\"\\n[희망 스터디 과목]\")\n",
    "    hope_course = user_hope_course[get_not_zero_hope_course(std_num)].loc[input_num]\n",
    "    for i in range(len(hope_course)):\n",
    "        print(hope_course.index[i], hope_course[i], end=\" \")\n",
    "    print()\n",
    "get_info(1,1)"
   ]
  },
  {
   "cell_type": "code",
   "execution_count": 38,
   "metadata": {
    "tags": []
   },
   "outputs": [
    {
     "output_type": "stream",
     "name": "stdout",
     "text": "===========내성적===========\n[프로필 성적]\n모델링 5.5 \n[희망 스터디 과목]\n컴퓨터비전 1 추천시스템 5 강화학습 4 \n===========추천도0순위===========\n[프로필 성적]\n모델링 5.5 \n[희망 스터디 과목]\n컴퓨터비전 1 추천시스템 5 강화학습 4 \n===========추천도1순위===========\n[프로필 성적]\n모델링 5.0 \n[희망 스터디 과목]\n컴퓨터비전 0 추천시스템 4 강화학습 6 \n===========추천도2순위===========\n[프로필 성적]\n모델링 4.5 \n[희망 스터디 과목]\n컴퓨터비전 0 추천시스템 3 강화학습 7 \n===========추천도3순위===========\n[프로필 성적]\n모델링 6.0 \n[희망 스터디 과목]\n컴퓨터비전 0 추천시스템 7 강화학습 0 \n===========추천도4순위===========\n[프로필 성적]\n모델링 7.25 \n[희망 스터디 과목]\n컴퓨터비전 0 추천시스템 2 강화학습 8 \n===========추천도5순위===========\n[프로필 성적]\n모델링 5.75 \n[희망 스터디 과목]\n컴퓨터비전 0 추천시스템 4 강화학습 1 \n===========추천도6순위===========\n[프로필 성적]\n모델링 7.25 \n[희망 스터디 과목]\n컴퓨터비전 1 추천시스템 7 강화학습 0 \n===========추천도7순위===========\n[프로필 성적]\n모델링 4.75 \n[희망 스터디 과목]\n컴퓨터비전 3 추천시스템 4 강화학습 0 \n===========추천도8순위===========\n[프로필 성적]\n모델링 6.0 \n[희망 스터디 과목]\n컴퓨터비전 0 추천시스템 0 강화학습 9 \n===========추천도9순위===========\n[프로필 성적]\n모델링 4.75 \n[희망 스터디 과목]\n컴퓨터비전 2 추천시스템 4 강화학습 0 \n"
    }
   ],
   "source": [
    "input_num = int(input())\n",
    "\n",
    "grade_subs = get_grade_sub_for_hope_course(input_num) * 0.1\n",
    "grade_similarity = cosine_similarity(get_grade_for_hope_course(input_num), get_grade_for_hope_course(input_num))\n",
    "\n",
    "evaluation_value = grade_subs - hope_course_similarity[input_num-1] - grade_similarity[input_num-1]\n",
    "top10 = evaluation_value.sort_values()[:10].index.tolist()\n",
    "\n",
    "print(\"===========내성적===========\")\n",
    "get_info(input_num, input_num)\n",
    "for idx, value in enumerate(top10):\n",
    "    print(f\"===========추천도{idx}순위===========\")\n",
    "    get_info(value, input_num)"
   ]
  },
  {
   "cell_type": "code",
   "execution_count": null,
   "metadata": {},
   "outputs": [],
   "source": []
  }
 ]
}