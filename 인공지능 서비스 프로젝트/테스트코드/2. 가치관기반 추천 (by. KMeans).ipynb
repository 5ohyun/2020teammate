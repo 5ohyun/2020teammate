{
 "cells": [
  {
   "cell_type": "markdown",
   "metadata": {},
   "source": [
    "# K-Means 활용 가치관점수 분석\n",
    "\n",
    "- 가치관이 비슷한 유저 추천\n",
    "- 총평 : 그룹간 인원을 정할 수 없어 활용하기 어려움.\n",
    "- 결론 : 확인할 필요없습니다!"
   ]
  },
  {
   "cell_type": "code",
   "execution_count": 1,
   "metadata": {},
   "outputs": [
    {
     "output_type": "display_data",
     "data": {
      "text/plain": "     속도  결과  취업   밤  디테일  과정  창업  아침\n1    61  34  62  42   39  66  38  58\n2    67  22  64  33   33  78  36  67\n3    29  68  38  85   71  32  62  15\n4     8  42  11  36   92  58  89  64\n5    48  30   9   1   52  70  91  99\n..   ..  ..  ..  ..  ...  ..  ..  ..\n156  71  25   9  26   29  75  91  74\n157  26  26  69  65   74  74  31  35\n158  52  75   2   2   48  25  98  98\n159  23  34  48  67   77  66  52  33\n160  29  26  81  23   71  74  19  77\n\n[160 rows x 8 columns]",
      "text/html": "<div>\n<style scoped>\n    .dataframe tbody tr th:only-of-type {\n        vertical-align: middle;\n    }\n\n    .dataframe tbody tr th {\n        vertical-align: top;\n    }\n\n    .dataframe thead th {\n        text-align: right;\n    }\n</style>\n<table border=\"1\" class=\"dataframe\">\n  <thead>\n    <tr style=\"text-align: right;\">\n      <th></th>\n      <th>속도</th>\n      <th>결과</th>\n      <th>취업</th>\n      <th>밤</th>\n      <th>디테일</th>\n      <th>과정</th>\n      <th>창업</th>\n      <th>아침</th>\n    </tr>\n  </thead>\n  <tbody>\n    <tr>\n      <th>1</th>\n      <td>61</td>\n      <td>34</td>\n      <td>62</td>\n      <td>42</td>\n      <td>39</td>\n      <td>66</td>\n      <td>38</td>\n      <td>58</td>\n    </tr>\n    <tr>\n      <th>2</th>\n      <td>67</td>\n      <td>22</td>\n      <td>64</td>\n      <td>33</td>\n      <td>33</td>\n      <td>78</td>\n      <td>36</td>\n      <td>67</td>\n    </tr>\n    <tr>\n      <th>3</th>\n      <td>29</td>\n      <td>68</td>\n      <td>38</td>\n      <td>85</td>\n      <td>71</td>\n      <td>32</td>\n      <td>62</td>\n      <td>15</td>\n    </tr>\n    <tr>\n      <th>4</th>\n      <td>8</td>\n      <td>42</td>\n      <td>11</td>\n      <td>36</td>\n      <td>92</td>\n      <td>58</td>\n      <td>89</td>\n      <td>64</td>\n    </tr>\n    <tr>\n      <th>5</th>\n      <td>48</td>\n      <td>30</td>\n      <td>9</td>\n      <td>1</td>\n      <td>52</td>\n      <td>70</td>\n      <td>91</td>\n      <td>99</td>\n    </tr>\n    <tr>\n      <th>...</th>\n      <td>...</td>\n      <td>...</td>\n      <td>...</td>\n      <td>...</td>\n      <td>...</td>\n      <td>...</td>\n      <td>...</td>\n      <td>...</td>\n    </tr>\n    <tr>\n      <th>156</th>\n      <td>71</td>\n      <td>25</td>\n      <td>9</td>\n      <td>26</td>\n      <td>29</td>\n      <td>75</td>\n      <td>91</td>\n      <td>74</td>\n    </tr>\n    <tr>\n      <th>157</th>\n      <td>26</td>\n      <td>26</td>\n      <td>69</td>\n      <td>65</td>\n      <td>74</td>\n      <td>74</td>\n      <td>31</td>\n      <td>35</td>\n    </tr>\n    <tr>\n      <th>158</th>\n      <td>52</td>\n      <td>75</td>\n      <td>2</td>\n      <td>2</td>\n      <td>48</td>\n      <td>25</td>\n      <td>98</td>\n      <td>98</td>\n    </tr>\n    <tr>\n      <th>159</th>\n      <td>23</td>\n      <td>34</td>\n      <td>48</td>\n      <td>67</td>\n      <td>77</td>\n      <td>66</td>\n      <td>52</td>\n      <td>33</td>\n    </tr>\n    <tr>\n      <th>160</th>\n      <td>29</td>\n      <td>26</td>\n      <td>81</td>\n      <td>23</td>\n      <td>71</td>\n      <td>74</td>\n      <td>19</td>\n      <td>77</td>\n    </tr>\n  </tbody>\n</table>\n<p>160 rows × 8 columns</p>\n</div>"
     },
     "metadata": {}
    }
   ],
   "source": [
    "import numpy as np\n",
    "import pandas as pd\n",
    "from sklearn.cluster import KMeans\n",
    "from sklearn.decomposition import PCA\n",
    "\n",
    "# 가치관점수 : \n",
    "# 디테일 <-> 속도 : 디테일을 중요시하는지 속도를 중요시하는지\n",
    "# 과정 <-> 결과 : 과정을 중요시하는지 결과를 중요시하는지\n",
    "# 창업 <-> 취업 : 창업을 꿈꾸는지 취업을 꿈꾸는지\n",
    "# 아침 <-> 밤 : 아침형인간인지 밤형 인간인지\n",
    "\n",
    "# 점수 1-100점으로 랜덤 생성\n",
    "user_style = pd.DataFrame(np.random.randint(0,101,size=(160,4)) , index=range(1,161), columns=['속도','결과','취업','밤'])\n",
    "user_style['디테일'] = 100 - user_style['속도']\n",
    "user_style['과정'] = 100 - user_style['결과']\n",
    "user_style['창업'] = 100 - user_style['취업']\n",
    "user_style['아침'] = 100 - user_style['밤']\n",
    "display(user_style)"
   ]
  },
  {
   "cell_type": "code",
   "execution_count": 2,
   "metadata": {},
   "outputs": [
    {
     "output_type": "execute_result",
     "data": {
      "text/plain": "         속도        결과        취업         밤       디테일        과정        창업  \\\n0 -1.167986 -0.193087 -0.228061 -0.779143  1.167986  0.193087  0.228061   \n1  0.764962  0.394169  0.464576  1.029100 -0.764962 -0.394169 -0.464576   \n2  0.727143  0.799685  1.281287 -0.577119 -0.727143 -0.799685 -1.281287   \n3  1.414220 -0.863742 -1.028513  0.631632 -1.414220  0.863742  1.028513   \n4  0.371902 -0.841653 -0.369677 -0.866305 -0.371902  0.841653  0.369677   \n5 -1.017525 -1.151328 -0.664479  0.650423  1.017525  1.151328  0.664479   \n6 -0.990748  0.864331 -1.083331  0.406198  0.990748 -0.864331  1.083331   \n7  0.819787  1.086407 -0.585732 -1.253987 -0.819787 -1.086407  0.585732   \n8 -0.401654 -1.069903  1.435491 -0.531986  0.401654  1.069903 -1.435491   \n9 -0.734650  0.961351  0.659763  0.924233  0.734650 -0.961351 -0.659763   \n\n         아침  \n0  0.779143  \n1 -1.029100  \n2  0.577119  \n3 -0.631632  \n4  0.866305  \n5 -0.650423  \n6 -0.406198  \n7  1.253987  \n8  0.531986  \n9 -0.924233  ",
      "text/html": "<div>\n<style scoped>\n    .dataframe tbody tr th:only-of-type {\n        vertical-align: middle;\n    }\n\n    .dataframe tbody tr th {\n        vertical-align: top;\n    }\n\n    .dataframe thead th {\n        text-align: right;\n    }\n</style>\n<table border=\"1\" class=\"dataframe\">\n  <thead>\n    <tr style=\"text-align: right;\">\n      <th></th>\n      <th>속도</th>\n      <th>결과</th>\n      <th>취업</th>\n      <th>밤</th>\n      <th>디테일</th>\n      <th>과정</th>\n      <th>창업</th>\n      <th>아침</th>\n    </tr>\n  </thead>\n  <tbody>\n    <tr>\n      <th>0</th>\n      <td>-1.167986</td>\n      <td>-0.193087</td>\n      <td>-0.228061</td>\n      <td>-0.779143</td>\n      <td>1.167986</td>\n      <td>0.193087</td>\n      <td>0.228061</td>\n      <td>0.779143</td>\n    </tr>\n    <tr>\n      <th>1</th>\n      <td>0.764962</td>\n      <td>0.394169</td>\n      <td>0.464576</td>\n      <td>1.029100</td>\n      <td>-0.764962</td>\n      <td>-0.394169</td>\n      <td>-0.464576</td>\n      <td>-1.029100</td>\n    </tr>\n    <tr>\n      <th>2</th>\n      <td>0.727143</td>\n      <td>0.799685</td>\n      <td>1.281287</td>\n      <td>-0.577119</td>\n      <td>-0.727143</td>\n      <td>-0.799685</td>\n      <td>-1.281287</td>\n      <td>0.577119</td>\n    </tr>\n    <tr>\n      <th>3</th>\n      <td>1.414220</td>\n      <td>-0.863742</td>\n      <td>-1.028513</td>\n      <td>0.631632</td>\n      <td>-1.414220</td>\n      <td>0.863742</td>\n      <td>1.028513</td>\n      <td>-0.631632</td>\n    </tr>\n    <tr>\n      <th>4</th>\n      <td>0.371902</td>\n      <td>-0.841653</td>\n      <td>-0.369677</td>\n      <td>-0.866305</td>\n      <td>-0.371902</td>\n      <td>0.841653</td>\n      <td>0.369677</td>\n      <td>0.866305</td>\n    </tr>\n    <tr>\n      <th>5</th>\n      <td>-1.017525</td>\n      <td>-1.151328</td>\n      <td>-0.664479</td>\n      <td>0.650423</td>\n      <td>1.017525</td>\n      <td>1.151328</td>\n      <td>0.664479</td>\n      <td>-0.650423</td>\n    </tr>\n    <tr>\n      <th>6</th>\n      <td>-0.990748</td>\n      <td>0.864331</td>\n      <td>-1.083331</td>\n      <td>0.406198</td>\n      <td>0.990748</td>\n      <td>-0.864331</td>\n      <td>1.083331</td>\n      <td>-0.406198</td>\n    </tr>\n    <tr>\n      <th>7</th>\n      <td>0.819787</td>\n      <td>1.086407</td>\n      <td>-0.585732</td>\n      <td>-1.253987</td>\n      <td>-0.819787</td>\n      <td>-1.086407</td>\n      <td>0.585732</td>\n      <td>1.253987</td>\n    </tr>\n    <tr>\n      <th>8</th>\n      <td>-0.401654</td>\n      <td>-1.069903</td>\n      <td>1.435491</td>\n      <td>-0.531986</td>\n      <td>0.401654</td>\n      <td>1.069903</td>\n      <td>-1.435491</td>\n      <td>0.531986</td>\n    </tr>\n    <tr>\n      <th>9</th>\n      <td>-0.734650</td>\n      <td>0.961351</td>\n      <td>0.659763</td>\n      <td>0.924233</td>\n      <td>0.734650</td>\n      <td>-0.961351</td>\n      <td>-0.659763</td>\n      <td>-0.924233</td>\n    </tr>\n  </tbody>\n</table>\n</div>"
     },
     "metadata": {},
     "execution_count": 2
    }
   ],
   "source": [
    "from sklearn.preprocessing import StandardScaler \n",
    "\n",
    "# 표준화 진행\n",
    "my_scaler = StandardScaler()\n",
    "user_style_ = my_scaler.fit_transform(user_style)\n",
    "\n",
    "# k-means로 10개의 군집으로 나눈다.\n",
    "my_km = KMeans(n_clusters = 10, random_state = 123)\n",
    "my_km.fit(user_style_)\n",
    "my_centroids = my_km.cluster_centers_\n",
    "my_cluster_labels = my_km.labels_             \n",
    "\n",
    "# 각 클러스터 중심 출력\n",
    "pd.DataFrame(my_centroids,columns = user_style.columns)"
   ]
  },
  {
   "cell_type": "code",
   "execution_count": 3,
   "metadata": {},
   "outputs": [
    {
     "output_type": "execute_result",
     "data": {
      "text/plain": "     속도  결과  취업   밤  디테일  과정  창업  아침  cluster_label\n1    61  34  62  42   39  66  38  58              4\n2    67  22  64  33   33  78  36  67              4\n3    29  68  38  85   71  32  62  15              9\n4     8  42  11  36   92  58  89  64              0\n5    48  30   9   1   52  70  91  99              4\n..   ..  ..  ..  ..  ...  ..  ..  ..            ...\n156  71  25   9  26   29  75  91  74              4\n157  26  26  69  65   74  74  31  35              8\n158  52  75   2   2   48  25  98  98              7\n159  23  34  48  67   77  66  52  33              5\n160  29  26  81  23   71  74  19  77              8\n\n[160 rows x 9 columns]",
      "text/html": "<div>\n<style scoped>\n    .dataframe tbody tr th:only-of-type {\n        vertical-align: middle;\n    }\n\n    .dataframe tbody tr th {\n        vertical-align: top;\n    }\n\n    .dataframe thead th {\n        text-align: right;\n    }\n</style>\n<table border=\"1\" class=\"dataframe\">\n  <thead>\n    <tr style=\"text-align: right;\">\n      <th></th>\n      <th>속도</th>\n      <th>결과</th>\n      <th>취업</th>\n      <th>밤</th>\n      <th>디테일</th>\n      <th>과정</th>\n      <th>창업</th>\n      <th>아침</th>\n      <th>cluster_label</th>\n    </tr>\n  </thead>\n  <tbody>\n    <tr>\n      <th>1</th>\n      <td>61</td>\n      <td>34</td>\n      <td>62</td>\n      <td>42</td>\n      <td>39</td>\n      <td>66</td>\n      <td>38</td>\n      <td>58</td>\n      <td>4</td>\n    </tr>\n    <tr>\n      <th>2</th>\n      <td>67</td>\n      <td>22</td>\n      <td>64</td>\n      <td>33</td>\n      <td>33</td>\n      <td>78</td>\n      <td>36</td>\n      <td>67</td>\n      <td>4</td>\n    </tr>\n    <tr>\n      <th>3</th>\n      <td>29</td>\n      <td>68</td>\n      <td>38</td>\n      <td>85</td>\n      <td>71</td>\n      <td>32</td>\n      <td>62</td>\n      <td>15</td>\n      <td>9</td>\n    </tr>\n    <tr>\n      <th>4</th>\n      <td>8</td>\n      <td>42</td>\n      <td>11</td>\n      <td>36</td>\n      <td>92</td>\n      <td>58</td>\n      <td>89</td>\n      <td>64</td>\n      <td>0</td>\n    </tr>\n    <tr>\n      <th>5</th>\n      <td>48</td>\n      <td>30</td>\n      <td>9</td>\n      <td>1</td>\n      <td>52</td>\n      <td>70</td>\n      <td>91</td>\n      <td>99</td>\n      <td>4</td>\n    </tr>\n    <tr>\n      <th>...</th>\n      <td>...</td>\n      <td>...</td>\n      <td>...</td>\n      <td>...</td>\n      <td>...</td>\n      <td>...</td>\n      <td>...</td>\n      <td>...</td>\n      <td>...</td>\n    </tr>\n    <tr>\n      <th>156</th>\n      <td>71</td>\n      <td>25</td>\n      <td>9</td>\n      <td>26</td>\n      <td>29</td>\n      <td>75</td>\n      <td>91</td>\n      <td>74</td>\n      <td>4</td>\n    </tr>\n    <tr>\n      <th>157</th>\n      <td>26</td>\n      <td>26</td>\n      <td>69</td>\n      <td>65</td>\n      <td>74</td>\n      <td>74</td>\n      <td>31</td>\n      <td>35</td>\n      <td>8</td>\n    </tr>\n    <tr>\n      <th>158</th>\n      <td>52</td>\n      <td>75</td>\n      <td>2</td>\n      <td>2</td>\n      <td>48</td>\n      <td>25</td>\n      <td>98</td>\n      <td>98</td>\n      <td>7</td>\n    </tr>\n    <tr>\n      <th>159</th>\n      <td>23</td>\n      <td>34</td>\n      <td>48</td>\n      <td>67</td>\n      <td>77</td>\n      <td>66</td>\n      <td>52</td>\n      <td>33</td>\n      <td>5</td>\n    </tr>\n    <tr>\n      <th>160</th>\n      <td>29</td>\n      <td>26</td>\n      <td>81</td>\n      <td>23</td>\n      <td>71</td>\n      <td>74</td>\n      <td>19</td>\n      <td>77</td>\n      <td>8</td>\n    </tr>\n  </tbody>\n</table>\n<p>160 rows × 9 columns</p>\n</div>"
     },
     "metadata": {},
     "execution_count": 3
    }
   ],
   "source": [
    "# 각 유저 정보에 어떤 그룹으로 분류되었는지 정보 추가\n",
    "user_style['cluster_label'] = my_cluster_labels\n",
    "user_style"
   ]
  },
  {
   "cell_type": "code",
   "execution_count": 4,
   "metadata": {},
   "outputs": [],
   "source": [
    "# 주어진 유저가 어떤 스타일인지 확인하는 함수\n",
    "\n",
    "def checkStyle(user):\n",
    "    style = []\n",
    "    if user['디테일'] > user['속도']:\n",
    "        style.append('디테일')\n",
    "    else:\n",
    "        style.append('속도')\n",
    "    if user['과정'] > user['결과']:\n",
    "        style.append('과정')\n",
    "    else:\n",
    "        style.append('결과')\n",
    "    if user['창업'] > user['취업']:\n",
    "        style.append('창업')\n",
    "    else:\n",
    "        style.append('취업')\n",
    "    if user['아침'] > user['밤']:\n",
    "        style.append('아침')\n",
    "    else:\n",
    "        style.append('밤')\n",
    "    return style"
   ]
  },
  {
   "cell_type": "code",
   "execution_count": 5,
   "metadata": {},
   "outputs": [
    {
     "output_type": "execute_result",
     "data": {
      "text/plain": "                1     2     3     4     5     6     7     8     9     10   \\\ncluster_label                                                               \n0               NaN   NaN   NaN  64.0   NaN   NaN  87.0   NaN   NaN   NaN   \n1               NaN   NaN   NaN   NaN   NaN   NaN   NaN   NaN   NaN   NaN   \n2               NaN   NaN   NaN   NaN   NaN  94.0   NaN   NaN   NaN   NaN   \n3               NaN   NaN   NaN   NaN   NaN   NaN   NaN   NaN   NaN   NaN   \n4              58.0  67.0   NaN   NaN  99.0   NaN   NaN   NaN   NaN   NaN   \n5               NaN   NaN   NaN   NaN   NaN   NaN   NaN   NaN   NaN   NaN   \n6               NaN   NaN   NaN   NaN   NaN   NaN   NaN   NaN   NaN  68.0   \n7               NaN   NaN   NaN   NaN   NaN   NaN   NaN  85.0   NaN   NaN   \n8               NaN   NaN   NaN   NaN   NaN   NaN   NaN   NaN   NaN   NaN   \n9               NaN   NaN  15.0   NaN   NaN   NaN   NaN   NaN  46.0   NaN   \n\n               ...  151   152   153   154   155   156   157   158   159   160  \ncluster_label  ...                                                             \n0              ...  NaN   NaN   NaN   NaN   NaN   NaN   NaN   NaN   NaN   NaN  \n1              ...  NaN   NaN   NaN   NaN   NaN   NaN   NaN   NaN   NaN   NaN  \n2              ...  NaN   NaN   NaN   NaN   NaN   NaN   NaN   NaN   NaN   NaN  \n3              ...  NaN   NaN   NaN   NaN   NaN   NaN   NaN   NaN   NaN   NaN  \n4              ...  NaN   NaN   NaN  76.0  76.0  74.0   NaN   NaN   NaN   NaN  \n5              ...  NaN   NaN   NaN   NaN   NaN   NaN   NaN   NaN  33.0   NaN  \n6              ...  NaN  61.0  61.0   NaN   NaN   NaN   NaN   NaN   NaN   NaN  \n7              ...  NaN   NaN   NaN   NaN   NaN   NaN   NaN  98.0   NaN   NaN  \n8              ...  NaN   NaN   NaN   NaN   NaN   NaN  35.0   NaN   NaN  77.0  \n9              ...  5.0   NaN   NaN   NaN   NaN   NaN   NaN   NaN   NaN   NaN  \n\n[10 rows x 160 columns]",
      "text/html": "<div>\n<style scoped>\n    .dataframe tbody tr th:only-of-type {\n        vertical-align: middle;\n    }\n\n    .dataframe tbody tr th {\n        vertical-align: top;\n    }\n\n    .dataframe thead th {\n        text-align: right;\n    }\n</style>\n<table border=\"1\" class=\"dataframe\">\n  <thead>\n    <tr style=\"text-align: right;\">\n      <th></th>\n      <th>1</th>\n      <th>2</th>\n      <th>3</th>\n      <th>4</th>\n      <th>5</th>\n      <th>6</th>\n      <th>7</th>\n      <th>8</th>\n      <th>9</th>\n      <th>10</th>\n      <th>...</th>\n      <th>151</th>\n      <th>152</th>\n      <th>153</th>\n      <th>154</th>\n      <th>155</th>\n      <th>156</th>\n      <th>157</th>\n      <th>158</th>\n      <th>159</th>\n      <th>160</th>\n    </tr>\n    <tr>\n      <th>cluster_label</th>\n      <th></th>\n      <th></th>\n      <th></th>\n      <th></th>\n      <th></th>\n      <th></th>\n      <th></th>\n      <th></th>\n      <th></th>\n      <th></th>\n      <th></th>\n      <th></th>\n      <th></th>\n      <th></th>\n      <th></th>\n      <th></th>\n      <th></th>\n      <th></th>\n      <th></th>\n      <th></th>\n      <th></th>\n    </tr>\n  </thead>\n  <tbody>\n    <tr>\n      <th>0</th>\n      <td>NaN</td>\n      <td>NaN</td>\n      <td>NaN</td>\n      <td>64.0</td>\n      <td>NaN</td>\n      <td>NaN</td>\n      <td>87.0</td>\n      <td>NaN</td>\n      <td>NaN</td>\n      <td>NaN</td>\n      <td>...</td>\n      <td>NaN</td>\n      <td>NaN</td>\n      <td>NaN</td>\n      <td>NaN</td>\n      <td>NaN</td>\n      <td>NaN</td>\n      <td>NaN</td>\n      <td>NaN</td>\n      <td>NaN</td>\n      <td>NaN</td>\n    </tr>\n    <tr>\n      <th>1</th>\n      <td>NaN</td>\n      <td>NaN</td>\n      <td>NaN</td>\n      <td>NaN</td>\n      <td>NaN</td>\n      <td>NaN</td>\n      <td>NaN</td>\n      <td>NaN</td>\n      <td>NaN</td>\n      <td>NaN</td>\n      <td>...</td>\n      <td>NaN</td>\n      <td>NaN</td>\n      <td>NaN</td>\n      <td>NaN</td>\n      <td>NaN</td>\n      <td>NaN</td>\n      <td>NaN</td>\n      <td>NaN</td>\n      <td>NaN</td>\n      <td>NaN</td>\n    </tr>\n    <tr>\n      <th>2</th>\n      <td>NaN</td>\n      <td>NaN</td>\n      <td>NaN</td>\n      <td>NaN</td>\n      <td>NaN</td>\n      <td>94.0</td>\n      <td>NaN</td>\n      <td>NaN</td>\n      <td>NaN</td>\n      <td>NaN</td>\n      <td>...</td>\n      <td>NaN</td>\n      <td>NaN</td>\n      <td>NaN</td>\n      <td>NaN</td>\n      <td>NaN</td>\n      <td>NaN</td>\n      <td>NaN</td>\n      <td>NaN</td>\n      <td>NaN</td>\n      <td>NaN</td>\n    </tr>\n    <tr>\n      <th>3</th>\n      <td>NaN</td>\n      <td>NaN</td>\n      <td>NaN</td>\n      <td>NaN</td>\n      <td>NaN</td>\n      <td>NaN</td>\n      <td>NaN</td>\n      <td>NaN</td>\n      <td>NaN</td>\n      <td>NaN</td>\n      <td>...</td>\n      <td>NaN</td>\n      <td>NaN</td>\n      <td>NaN</td>\n      <td>NaN</td>\n      <td>NaN</td>\n      <td>NaN</td>\n      <td>NaN</td>\n      <td>NaN</td>\n      <td>NaN</td>\n      <td>NaN</td>\n    </tr>\n    <tr>\n      <th>4</th>\n      <td>58.0</td>\n      <td>67.0</td>\n      <td>NaN</td>\n      <td>NaN</td>\n      <td>99.0</td>\n      <td>NaN</td>\n      <td>NaN</td>\n      <td>NaN</td>\n      <td>NaN</td>\n      <td>NaN</td>\n      <td>...</td>\n      <td>NaN</td>\n      <td>NaN</td>\n      <td>NaN</td>\n      <td>76.0</td>\n      <td>76.0</td>\n      <td>74.0</td>\n      <td>NaN</td>\n      <td>NaN</td>\n      <td>NaN</td>\n      <td>NaN</td>\n    </tr>\n    <tr>\n      <th>5</th>\n      <td>NaN</td>\n      <td>NaN</td>\n      <td>NaN</td>\n      <td>NaN</td>\n      <td>NaN</td>\n      <td>NaN</td>\n      <td>NaN</td>\n      <td>NaN</td>\n      <td>NaN</td>\n      <td>NaN</td>\n      <td>...</td>\n      <td>NaN</td>\n      <td>NaN</td>\n      <td>NaN</td>\n      <td>NaN</td>\n      <td>NaN</td>\n      <td>NaN</td>\n      <td>NaN</td>\n      <td>NaN</td>\n      <td>33.0</td>\n      <td>NaN</td>\n    </tr>\n    <tr>\n      <th>6</th>\n      <td>NaN</td>\n      <td>NaN</td>\n      <td>NaN</td>\n      <td>NaN</td>\n      <td>NaN</td>\n      <td>NaN</td>\n      <td>NaN</td>\n      <td>NaN</td>\n      <td>NaN</td>\n      <td>68.0</td>\n      <td>...</td>\n      <td>NaN</td>\n      <td>61.0</td>\n      <td>61.0</td>\n      <td>NaN</td>\n      <td>NaN</td>\n      <td>NaN</td>\n      <td>NaN</td>\n      <td>NaN</td>\n      <td>NaN</td>\n      <td>NaN</td>\n    </tr>\n    <tr>\n      <th>7</th>\n      <td>NaN</td>\n      <td>NaN</td>\n      <td>NaN</td>\n      <td>NaN</td>\n      <td>NaN</td>\n      <td>NaN</td>\n      <td>NaN</td>\n      <td>85.0</td>\n      <td>NaN</td>\n      <td>NaN</td>\n      <td>...</td>\n      <td>NaN</td>\n      <td>NaN</td>\n      <td>NaN</td>\n      <td>NaN</td>\n      <td>NaN</td>\n      <td>NaN</td>\n      <td>NaN</td>\n      <td>98.0</td>\n      <td>NaN</td>\n      <td>NaN</td>\n    </tr>\n    <tr>\n      <th>8</th>\n      <td>NaN</td>\n      <td>NaN</td>\n      <td>NaN</td>\n      <td>NaN</td>\n      <td>NaN</td>\n      <td>NaN</td>\n      <td>NaN</td>\n      <td>NaN</td>\n      <td>NaN</td>\n      <td>NaN</td>\n      <td>...</td>\n      <td>NaN</td>\n      <td>NaN</td>\n      <td>NaN</td>\n      <td>NaN</td>\n      <td>NaN</td>\n      <td>NaN</td>\n      <td>35.0</td>\n      <td>NaN</td>\n      <td>NaN</td>\n      <td>77.0</td>\n    </tr>\n    <tr>\n      <th>9</th>\n      <td>NaN</td>\n      <td>NaN</td>\n      <td>15.0</td>\n      <td>NaN</td>\n      <td>NaN</td>\n      <td>NaN</td>\n      <td>NaN</td>\n      <td>NaN</td>\n      <td>46.0</td>\n      <td>NaN</td>\n      <td>...</td>\n      <td>5.0</td>\n      <td>NaN</td>\n      <td>NaN</td>\n      <td>NaN</td>\n      <td>NaN</td>\n      <td>NaN</td>\n      <td>NaN</td>\n      <td>NaN</td>\n      <td>NaN</td>\n      <td>NaN</td>\n    </tr>\n  </tbody>\n</table>\n<p>10 rows × 160 columns</p>\n</div>"
     },
     "metadata": {},
     "execution_count": 5
    }
   ],
   "source": [
    "# 각 그룹별 인원을 확인할 수 있도록 새로운 데이터프레임 생성\n",
    "cluster_user = user_style.pivot_table(index='cluster_label', columns=user_style.index, values='아침')\n",
    "cluster_user"
   ]
  },
  {
   "cell_type": "code",
   "execution_count": 14,
   "metadata": {
    "tags": []
   },
   "outputs": [
    {
     "output_type": "stream",
     "name": "stdout",
     "text": "<1번째 그룹>\n4번째 유저: ['디테일', '과정', '창업', '아침']\n7번째 유저: ['디테일', '결과', '창업', '아침']\n17번째 유저: ['디테일', '과정', '창업', '아침']\n19번째 유저: ['디테일', '결과', '취업', '아침']\n31번째 유저: ['디테일', '결과', '취업', '아침']\n38번째 유저: ['디테일', '결과', '취업', '밤']\n44번째 유저: ['디테일', '결과', '창업', '아침']\n52번째 유저: ['디테일', '과정', '창업', '아침']\n69번째 유저: ['디테일', '결과', '창업', '아침']\n79번째 유저: ['디테일', '과정', '창업', '아침']\n128번째 유저: ['디테일', '과정', '취업', '아침']\n130번째 유저: ['디테일', '결과', '창업', '아침']\n140번째 유저: ['디테일', '결과', '취업', '아침']\n148번째 유저: ['디테일', '과정', '취업', '아침']\n=================================\n<2번째 그룹>\n12번째 유저: ['속도', '결과', '창업', '밤']\n13번째 유저: ['속도', '결과', '창업', '밤']\n15번째 유저: ['디테일', '결과', '취업', '밤']\n21번째 유저: ['디테일', '과정', '취업', '밤']\n34번째 유저: ['속도', '과정', '취업', '밤']\n46번째 유저: ['속도', '결과', '창업', '밤']\n62번째 유저: ['속도', '결과', '취업', '밤']\n64번째 유저: ['속도', '과정', '취업', '밤']\n72번째 유저: ['속도', '결과', '창업', '밤']\n76번째 유저: ['속도', '결과', '창업', '밤']\n81번째 유저: ['속도', '결과', '창업', '밤']\n83번째 유저: ['속도', '결과', '취업', '밤']\n89번째 유저: ['속도', '결과', '취업', '밤']\n91번째 유저: ['디테일', '결과', '창업', '밤']\n94번째 유저: ['속도', '결과', '취업', '밤']\n101번째 유저: ['속도', '결과', '취업', '밤']\n103번째 유저: ['속도', '결과', '취업', '밤']\n104번째 유저: ['속도', '결과', '취업', '밤']\n105번째 유저: ['속도', '결과', '취업', '밤']\n110번째 유저: ['속도', '결과', '창업', '밤']\n115번째 유저: ['속도', '결과', '취업', '밤']\n117번째 유저: ['속도', '결과', '창업', '밤']\n124번째 유저: ['속도', '결과', '취업', '밤']\n126번째 유저: ['속도', '결과', '창업', '밤']\n131번째 유저: ['속도', '결과', '취업', '밤']\n142번째 유저: ['속도', '결과', '창업', '밤']\n150번째 유저: ['속도', '결과', '취업', '밤']\n=================================\n<3번째 그룹>\n6번째 유저: ['속도', '과정', '취업', '아침']\n16번째 유저: ['속도', '결과', '취업', '아침']\n29번째 유저: ['속도', '결과', '취업', '아침']\n42번째 유저: ['디테일', '결과', '취업', '아침']\n58번째 유저: ['속도', '결과', '취업', '아침']\n65번째 유저: ['속도', '결과', '취업', '아침']\n68번째 유저: ['속도', '결과', '취업', '밤']\n77번째 유저: ['속도', '결과', '취업', '밤']\n85번째 유저: ['속도', '결과', '취업', '아침']\n87번째 유저: ['속도', '결과', '취업', '밤']\n93번째 유저: ['속도', '결과', '취업', '아침']\n108번째 유저: ['디테일', '결과', '취업', '밤']\n127번째 유저: ['속도', '결과', '취업', '밤']\n135번째 유저: ['속도', '결과', '취업', '아침']\n144번째 유저: ['속도', '결과', '취업', '밤']\n=================================\n<4번째 그룹>\n20번째 유저: ['속도', '과정', '창업', '밤']\n23번째 유저: ['속도', '과정', '창업', '밤']\n32번째 유저: ['속도', '과정', '창업', '밤']\n40번째 유저: ['속도', '결과', '창업', '밤']\n66번째 유저: ['속도', '과정', '창업', '밤']\n114번째 유저: ['속도', '과정', '창업', '아침']\n132번째 유저: ['속도', '과정', '창업', '밤']\n147번째 유저: ['속도', '과정', '창업', '밤']\n149번째 유저: ['속도', '과정', '창업', '밤']\n=================================\n<5번째 그룹>\n1번째 유저: ['속도', '과정', '취업', '아침']\n2번째 유저: ['속도', '과정', '취업', '아침']\n5번째 유저: ['디테일', '과정', '창업', '아침']\n11번째 유저: ['디테일', '과정', '취업', '아침']\n27번째 유저: ['속도', '과정', '창업', '아침']\n28번째 유저: ['디테일', '과정', '취업', '아침']\n36번째 유저: ['속도', '과정', '창업', '아침']\n47번째 유저: ['디테일', '과정', '창업', '아침']\n49번째 유저: ['속도', '과정', '창업', '아침']\n50번째 유저: ['속도', '과정', '창업', '아침']\n55번째 유저: ['속도', '과정', '창업', '아침']\n59번째 유저: ['속도', '과정', '창업', '아침']\n70번째 유저: ['속도', '과정', '취업', '아침']\n74번째 유저: ['디테일', '과정', '창업', '아침']\n97번째 유저: ['속도', '과정', '창업', '아침']\n100번째 유저: ['디테일', '과정', '창업', '아침']\n109번째 유저: ['속도', '과정', '창업', '아침']\n111번째 유저: ['속도', '과정', '취업', '아침']\n118번째 유저: ['속도', '과정', '창업', '아침']\n121번째 유저: ['속도', '과정', '창업', '아침']\n122번째 유저: ['디테일', '과정', '창업', '아침']\n154번째 유저: ['디테일', '결과', '창업', '아침']\n155번째 유저: ['속도', '과정', '창업', '아침']\n156번째 유저: ['속도', '과정', '창업', '아침']\n=================================\n<6번째 그룹>\n24번째 유저: ['디테일', '과정', '창업', '밤']\n41번째 유저: ['디테일', '과정', '취업', '밤']\n45번째 유저: ['디테일', '과정', '창업', '밤']\n54번째 유저: ['디테일', '과정', '창업', '아침']\n56번째 유저: ['디테일', '과정', '취업', '밤']\n57번째 유저: ['디테일', '과정', '취업', '밤']\n63번째 유저: ['디테일', '과정', '창업', '밤']\n71번째 유저: ['디테일', '과정', '창업', '밤']\n73번째 유저: ['디테일', '과정', '창업', '아침']\n75번째 유저: ['디테일', '과정', '창업', '밤']\n99번째 유저: ['디테일', '과정', '창업', '밤']\n112번째 유저: ['디테일', '과정', '창업', '아침']\n123번째 유저: ['디테일', '과정', '창업', '밤']\n129번째 유저: ['디테일', '과정', '창업', '아침']\n145번째 유저: ['디테일', '과정', '창업', '밤']\n146번째 유저: ['디테일', '과정', '창업', '밤']\n159번째 유저: ['디테일', '과정', '창업', '밤']\n=================================\n<7번째 그룹>\n10번째 유저: ['디테일', '결과', '창업', '아침']\n14번째 유저: ['디테일', '결과', '창업', '밤']\n26번째 유저: ['디테일', '결과', '창업', '밤']\n53번째 유저: ['디테일', '결과', '창업', '밤']\n78번째 유저: ['디테일', '결과', '창업', '아침']\n84번째 유저: ['디테일', '결과', '창업', '밤']\n86번째 유저: ['디테일', '결과', '창업', '밤']\n102번째 유저: ['디테일', '결과', '창업', '밤']\n106번째 유저: ['디테일', '결과', '창업', '아침']\n107번째 유저: ['디테일', '결과', '창업', '밤']\n120번째 유저: ['디테일', '결과', '창업', '밤']\n125번째 유저: ['속도', '결과', '창업', '밤']\n138번째 유저: ['디테일', '결과', '창업', '밤']\n139번째 유저: ['디테일', '결과', '창업', '밤']\n152번째 유저: ['디테일', '결과', '창업', '아침']\n153번째 유저: ['디테일', '결과', '창업', '아침']\n=================================\n<8번째 그룹>\n8번째 유저: ['속도', '결과', '창업', '아침']\n22번째 유저: ['속도', '결과', '창업', '아침']\n30번째 유저: ['속도', '결과', '창업', '아침']\n33번째 유저: ['속도', '결과', '창업', '아침']\n37번째 유저: ['속도', '결과', '창업', '아침']\n43번째 유저: ['속도', '결과', '창업', '아침']\n48번째 유저: ['속도', '결과', '창업', '아침']\n61번째 유저: ['속도', '결과', '취업', '아침']\n90번째 유저: ['속도', '결과', '창업', '아침']\n113번째 유저: ['속도', '결과', '창업', '아침']\n116번째 유저: ['디테일', '결과', '취업', '아침']\n137번째 유저: ['디테일', '결과', '창업', '아침']\n158번째 유저: ['속도', '결과', '창업', '아침']\n=================================\n<9번째 그룹>\n18번째 유저: ['디테일', '과정', '취업', '아침']\n35번째 유저: ['디테일', '과정', '취업', '밤']\n60번째 유저: ['속도', '과정', '취업', '아침']\n67번째 유저: ['속도', '과정', '취업', '아침']\n80번째 유저: ['디테일', '과정', '취업', '밤']\n88번째 유저: ['속도', '과정', '취업', '아침']\n92번째 유저: ['속도', '과정', '취업', '아침']\n119번째 유저: ['디테일', '과정', '취업', '아침']\n134번째 유저: ['디테일', '과정', '취업', '아침']\n141번째 유저: ['속도', '과정', '취업', '밤']\n157번째 유저: ['디테일', '과정', '취업', '밤']\n160번째 유저: ['디테일', '과정', '취업', '아침']\n=================================\n<10번째 그룹>\n3번째 유저: ['디테일', '결과', '창업', '밤']\n9번째 유저: ['속도', '결과', '창업', '밤']\n25번째 유저: ['디테일', '결과', '취업', '밤']\n39번째 유저: ['디테일', '결과', '취업', '밤']\n51번째 유저: ['디테일', '결과', '취업', '밤']\n82번째 유저: ['디테일', '결과', '취업', '밤']\n95번째 유저: ['디테일', '결과', '취업', '밤']\n96번째 유저: ['디테일', '결과', '취업', '밤']\n98번째 유저: ['디테일', '결과', '창업', '밤']\n133번째 유저: ['디테일', '결과', '취업', '밤']\n136번째 유저: ['디테일', '결과', '취업', '밤']\n143번째 유저: ['디테일', '결과', '취업', '밤']\n151번째 유저: ['디테일', '결과', '취업', '밤']\n=================================\n"
    }
   ],
   "source": [
    "# 각 그룹을 돌면서\n",
    "for num in range(0,10):\n",
    "    print(f\"<{num+1}번째 그룹>\")\n",
    "    group_list = []    \n",
    "    i  = 1\n",
    "    for check in -cluster_user.iloc[num].isnull():\n",
    "        # 결측치가 아니면 group_list에 해당 숫자(인덱스)를 추가한다음\n",
    "        if check:\n",
    "            group_list.append(i)\n",
    "        i += 1\n",
    "    \n",
    "    # 그룹을 돌면서 해당 그룹에 해당하는 유저에 대해 출력\n",
    "    for i in group_list:\n",
    "        # print(user_style.iloc[i-1])\n",
    "        print(f\"{i}번째 유저: {checkStyle(user_style.iloc[i-1])}\")\n",
    "\n",
    "    print(\"=================================\")"
   ]
  },
  {
   "cell_type": "code",
   "execution_count": null,
   "metadata": {},
   "outputs": [],
   "source": []
  }
 ],
 "metadata": {
  "kernelspec": {
   "display_name": "Python 3",
   "language": "python",
   "name": "python3"
  },
  "language_info": {
   "codemirror_mode": {
    "name": "ipython",
    "version": 3
   },
   "file_extension": ".py",
   "mimetype": "text/x-python",
   "name": "python",
   "nbconvert_exporter": "python",
   "pygments_lexer": "ipython3",
   "version": "3.7.7-final"
  }
 },
 "nbformat": 4,
 "nbformat_minor": 2
}