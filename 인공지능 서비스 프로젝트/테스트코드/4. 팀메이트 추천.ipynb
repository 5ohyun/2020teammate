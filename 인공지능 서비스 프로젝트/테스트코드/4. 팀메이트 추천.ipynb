{
 "metadata": {
  "language_info": {
   "codemirror_mode": {
    "name": "ipython",
    "version": 3
   },
   "file_extension": ".py",
   "mimetype": "text/x-python",
   "name": "python",
   "nbconvert_exporter": "python",
   "pygments_lexer": "ipython3",
   "version": "3.7.7-final"
  },
  "orig_nbformat": 2,
  "kernelspec": {
   "name": "python_defaultSpec_1599802214632",
   "display_name": "Python 3.7.7 64-bit ('base': conda)"
  }
 },
 "nbformat": 4,
 "nbformat_minor": 2,
 "cells": [
  {
   "cell_type": "code",
   "execution_count": 1,
   "metadata": {},
   "outputs": [
    {
     "output_type": "display_data",
     "data": {
      "text/plain": "     데이터분석   웹  디자인  모델링\n1        3   2    6    8\n2        1   4    6   10\n3        5   8    6    5\n4        8   5    5    7\n5        8   8    2   10\n..     ...  ..  ...  ...\n176      3   3    8    2\n177      6   4    9    2\n178      3   2    2    4\n179      9   6    8    2\n180      3  10    1    4\n\n[180 rows x 4 columns]",
      "text/html": "<div>\n<style scoped>\n    .dataframe tbody tr th:only-of-type {\n        vertical-align: middle;\n    }\n\n    .dataframe tbody tr th {\n        vertical-align: top;\n    }\n\n    .dataframe thead th {\n        text-align: right;\n    }\n</style>\n<table border=\"1\" class=\"dataframe\">\n  <thead>\n    <tr style=\"text-align: right;\">\n      <th></th>\n      <th>데이터분석</th>\n      <th>웹</th>\n      <th>디자인</th>\n      <th>모델링</th>\n    </tr>\n  </thead>\n  <tbody>\n    <tr>\n      <th>1</th>\n      <td>3</td>\n      <td>2</td>\n      <td>6</td>\n      <td>8</td>\n    </tr>\n    <tr>\n      <th>2</th>\n      <td>1</td>\n      <td>4</td>\n      <td>6</td>\n      <td>10</td>\n    </tr>\n    <tr>\n      <th>3</th>\n      <td>5</td>\n      <td>8</td>\n      <td>6</td>\n      <td>5</td>\n    </tr>\n    <tr>\n      <th>4</th>\n      <td>8</td>\n      <td>5</td>\n      <td>5</td>\n      <td>7</td>\n    </tr>\n    <tr>\n      <th>5</th>\n      <td>8</td>\n      <td>8</td>\n      <td>2</td>\n      <td>10</td>\n    </tr>\n    <tr>\n      <th>...</th>\n      <td>...</td>\n      <td>...</td>\n      <td>...</td>\n      <td>...</td>\n    </tr>\n    <tr>\n      <th>176</th>\n      <td>3</td>\n      <td>3</td>\n      <td>8</td>\n      <td>2</td>\n    </tr>\n    <tr>\n      <th>177</th>\n      <td>6</td>\n      <td>4</td>\n      <td>9</td>\n      <td>2</td>\n    </tr>\n    <tr>\n      <th>178</th>\n      <td>3</td>\n      <td>2</td>\n      <td>2</td>\n      <td>4</td>\n    </tr>\n    <tr>\n      <th>179</th>\n      <td>9</td>\n      <td>6</td>\n      <td>8</td>\n      <td>2</td>\n    </tr>\n    <tr>\n      <th>180</th>\n      <td>3</td>\n      <td>10</td>\n      <td>1</td>\n      <td>4</td>\n    </tr>\n  </tbody>\n</table>\n<p>180 rows × 4 columns</p>\n</div>"
     },
     "metadata": {}
    },
    {
     "output_type": "display_data",
     "data": {
      "text/plain": "1      19\n2      21\n3      24\n4      25\n5      28\n       ..\n176    16\n177    21\n178    11\n179    25\n180    18\nLength: 180, dtype: int64"
     },
     "metadata": {}
    }
   ],
   "source": [
    "import numpy as np\n",
    "import pandas as pd\n",
    "\n",
    "# 프로필에서 4개의 영역 및 그에 대한 총점을 얻어왔다고 가정\n",
    "user_grade = pd.DataFrame(np.random.randint(1,11,size=(180,4)) , index=range(1,181), columns=['데이터분석','웹','디자인','모델링'])\n",
    "user_grade_sum = user_grade.sum(axis=1)\n",
    "\n",
    "display(user_grade)\n",
    "display(user_grade_sum)"
   ]
  },
  {
   "cell_type": "code",
   "execution_count": 2,
   "metadata": {
    "tags": []
   },
   "outputs": [
    {
     "output_type": "execute_result",
     "data": {
      "text/plain": "array([[ 0,  4,  0,  0,  6,  0],\n       [ 0, 10,  0,  0,  0,  0],\n       [ 0,  9,  0,  1,  0,  0],\n       ...,\n       [ 9,  0,  1,  0,  0,  0],\n       [ 0,  0,  0, 10,  0,  0],\n       [10,  0,  0,  0,  0,  0]])"
     },
     "metadata": {},
     "execution_count": 2
    }
   ],
   "source": [
    "# 실제 코드에는 쓰이지 않을 랜덤값 생성 함수\n",
    "\n",
    "import random\n",
    "\n",
    "def get_heart_list(x):\n",
    "    heart_list = [0 for _ in range(0,x)]\n",
    "    for _ in range(x):\n",
    "        rand_idx = random.randint(0,x-1)\n",
    "        rand_point = random.randint(0,10)\n",
    "        heart_list[rand_idx] += rand_point\n",
    "        if sum(heart_list) >= 10:\n",
    "            heart_list[rand_idx] -= rand_point\n",
    "            break\n",
    "    heart_list[random.randint(0,x-1)] += 10 - sum(heart_list)\n",
    "    return heart_list\n",
    "\n",
    "def get_all_heart_list(x, y):\n",
    "    all_list = []\n",
    "    for _ in range(0, y):\n",
    "        all_list.append(get_heart_list(x))\n",
    "    return np.array(all_list)\n",
    "\n",
    "get_all_heart_list(6, 180)"
   ]
  },
  {
   "cell_type": "code",
   "execution_count": 3,
   "metadata": {},
   "outputs": [
    {
     "output_type": "display_data",
     "data": {
      "text/plain": "     건강  경제  문화/예술  교육  사회  기술\n1     0   7      0   3   0   0\n2     0  10      0   0   0   0\n3     5   4      1   0   0   0\n4     0   3      7   0   0   0\n5     4   5      0   1   0   0\n..   ..  ..    ...  ..  ..  ..\n176   1   4      0   0   5   0\n177   0   0      2   0   8   0\n178   0   0      2   3   5   0\n179   0  10      0   0   0   0\n180   0   0      0   9   1   0\n\n[180 rows x 6 columns]",
      "text/html": "<div>\n<style scoped>\n    .dataframe tbody tr th:only-of-type {\n        vertical-align: middle;\n    }\n\n    .dataframe tbody tr th {\n        vertical-align: top;\n    }\n\n    .dataframe thead th {\n        text-align: right;\n    }\n</style>\n<table border=\"1\" class=\"dataframe\">\n  <thead>\n    <tr style=\"text-align: right;\">\n      <th></th>\n      <th>건강</th>\n      <th>경제</th>\n      <th>문화/예술</th>\n      <th>교육</th>\n      <th>사회</th>\n      <th>기술</th>\n    </tr>\n  </thead>\n  <tbody>\n    <tr>\n      <th>1</th>\n      <td>0</td>\n      <td>7</td>\n      <td>0</td>\n      <td>3</td>\n      <td>0</td>\n      <td>0</td>\n    </tr>\n    <tr>\n      <th>2</th>\n      <td>0</td>\n      <td>10</td>\n      <td>0</td>\n      <td>0</td>\n      <td>0</td>\n      <td>0</td>\n    </tr>\n    <tr>\n      <th>3</th>\n      <td>5</td>\n      <td>4</td>\n      <td>1</td>\n      <td>0</td>\n      <td>0</td>\n      <td>0</td>\n    </tr>\n    <tr>\n      <th>4</th>\n      <td>0</td>\n      <td>3</td>\n      <td>7</td>\n      <td>0</td>\n      <td>0</td>\n      <td>0</td>\n    </tr>\n    <tr>\n      <th>5</th>\n      <td>4</td>\n      <td>5</td>\n      <td>0</td>\n      <td>1</td>\n      <td>0</td>\n      <td>0</td>\n    </tr>\n    <tr>\n      <th>...</th>\n      <td>...</td>\n      <td>...</td>\n      <td>...</td>\n      <td>...</td>\n      <td>...</td>\n      <td>...</td>\n    </tr>\n    <tr>\n      <th>176</th>\n      <td>1</td>\n      <td>4</td>\n      <td>0</td>\n      <td>0</td>\n      <td>5</td>\n      <td>0</td>\n    </tr>\n    <tr>\n      <th>177</th>\n      <td>0</td>\n      <td>0</td>\n      <td>2</td>\n      <td>0</td>\n      <td>8</td>\n      <td>0</td>\n    </tr>\n    <tr>\n      <th>178</th>\n      <td>0</td>\n      <td>0</td>\n      <td>2</td>\n      <td>3</td>\n      <td>5</td>\n      <td>0</td>\n    </tr>\n    <tr>\n      <th>179</th>\n      <td>0</td>\n      <td>10</td>\n      <td>0</td>\n      <td>0</td>\n      <td>0</td>\n      <td>0</td>\n    </tr>\n    <tr>\n      <th>180</th>\n      <td>0</td>\n      <td>0</td>\n      <td>0</td>\n      <td>9</td>\n      <td>1</td>\n      <td>0</td>\n    </tr>\n  </tbody>\n</table>\n<p>180 rows × 6 columns</p>\n</div>"
     },
     "metadata": {}
    }
   ],
   "source": [
    "# 흥미 투표 결과 데이터 얻어왔다고 가정\n",
    "user_interest = pd.DataFrame(get_all_heart_list(6, 180) , index=range(1,181), columns=['건강','경제','문화/예술','교육','사회','기술'])\n",
    "display(user_interest)"
   ]
  },
  {
   "cell_type": "code",
   "execution_count": 4,
   "metadata": {},
   "outputs": [
    {
     "output_type": "display_data",
     "data": {
      "text/plain": "     데이터분석   웹  디자인  모델링\n1        0   9    1    0\n2        0   4    6    0\n3        2   2    2    4\n4        6   0    3    1\n5        0  10    0    0\n..     ...  ..  ...  ...\n176      3   0    7    0\n177      0   0    6    4\n178      6   4    0    0\n179      0   2    8    0\n180      0   0    0   10\n\n[180 rows x 4 columns]",
      "text/html": "<div>\n<style scoped>\n    .dataframe tbody tr th:only-of-type {\n        vertical-align: middle;\n    }\n\n    .dataframe tbody tr th {\n        vertical-align: top;\n    }\n\n    .dataframe thead th {\n        text-align: right;\n    }\n</style>\n<table border=\"1\" class=\"dataframe\">\n  <thead>\n    <tr style=\"text-align: right;\">\n      <th></th>\n      <th>데이터분석</th>\n      <th>웹</th>\n      <th>디자인</th>\n      <th>모델링</th>\n    </tr>\n  </thead>\n  <tbody>\n    <tr>\n      <th>1</th>\n      <td>0</td>\n      <td>9</td>\n      <td>1</td>\n      <td>0</td>\n    </tr>\n    <tr>\n      <th>2</th>\n      <td>0</td>\n      <td>4</td>\n      <td>6</td>\n      <td>0</td>\n    </tr>\n    <tr>\n      <th>3</th>\n      <td>2</td>\n      <td>2</td>\n      <td>2</td>\n      <td>4</td>\n    </tr>\n    <tr>\n      <th>4</th>\n      <td>6</td>\n      <td>0</td>\n      <td>3</td>\n      <td>1</td>\n    </tr>\n    <tr>\n      <th>5</th>\n      <td>0</td>\n      <td>10</td>\n      <td>0</td>\n      <td>0</td>\n    </tr>\n    <tr>\n      <th>...</th>\n      <td>...</td>\n      <td>...</td>\n      <td>...</td>\n      <td>...</td>\n    </tr>\n    <tr>\n      <th>176</th>\n      <td>3</td>\n      <td>0</td>\n      <td>7</td>\n      <td>0</td>\n    </tr>\n    <tr>\n      <th>177</th>\n      <td>0</td>\n      <td>0</td>\n      <td>6</td>\n      <td>4</td>\n    </tr>\n    <tr>\n      <th>178</th>\n      <td>6</td>\n      <td>4</td>\n      <td>0</td>\n      <td>0</td>\n    </tr>\n    <tr>\n      <th>179</th>\n      <td>0</td>\n      <td>2</td>\n      <td>8</td>\n      <td>0</td>\n    </tr>\n    <tr>\n      <th>180</th>\n      <td>0</td>\n      <td>0</td>\n      <td>0</td>\n      <td>10</td>\n    </tr>\n  </tbody>\n</table>\n<p>180 rows × 4 columns</p>\n</div>"
     },
     "metadata": {}
    }
   ],
   "source": [
    "# 선호역할 데이터 얻어왔다고 가정\n",
    "user_preference_role = pd.DataFrame(get_all_heart_list(4, 180) , index=range(1,181), columns=['데이터분석','웹','디자인','모델링'])\n",
    "display(user_preference_role)"
   ]
  },
  {
   "cell_type": "code",
   "execution_count": 5,
   "metadata": {
    "tags": []
   },
   "outputs": [],
   "source": [
    "from sklearn.metrics.pairwise import cosine_similarity\n",
    "\n",
    "# 각 유사도측정\n",
    "grade_similarity = cosine_similarity(user_grade, user_grade)\n",
    "interest_similarity = cosine_similarity(user_interest, user_interest)\n",
    "preference_role_similarity = cosine_similarity(user_preference_role, user_preference_role)"
   ]
  },
  {
   "cell_type": "code",
   "execution_count": 6,
   "metadata": {
    "tags": []
   },
   "outputs": [
    {
     "output_type": "stream",
     "name": "stdout",
     "text": "[프로필 성적]\n데이터분석 3 웹 10 디자인 1 모델링 4 총합 18\n[흥미 분야]\n교육 사회 \n[선호 역할]\n모델링\n"
    }
   ],
   "source": [
    "# 유저의 정보 출력\n",
    "# 프로필 성적 / 흥미분야 / 선호역할 순\n",
    "def get_info(input_num):\n",
    "    print(\"[프로필 성적]\")\n",
    "    for i in range(len(user_grade.loc[input_num])):\n",
    "        print(user_grade.loc[input_num].index[i], user_grade.loc[input_num][i], end=\" \")\n",
    "    print(\"총합\",user_grade_sum[input_num])\n",
    "    print(\"[흥미 분야]\")\n",
    "    for interest in user_interest.loc[input_num].sort_values(ascending=False).index.tolist()[:3]:\n",
    "        if user_interest.loc[input_num][interest] != 0:\n",
    "            print(interest, end=\" \")\n",
    "    print(\"\\n[선호 역할]\")\n",
    "    print(user_preference_role.loc[input_num].sort_values(ascending=False).index.tolist()[0])\n",
    "get_info(180)"
   ]
  },
  {
   "cell_type": "code",
   "execution_count": 10,
   "metadata": {
    "tags": []
   },
   "outputs": [
    {
     "output_type": "stream",
     "name": "stdout",
     "text": "===========내성적===========\n[프로필 성적]\n데이터분석 3 웹 10 디자인 1 모델링 4 총합 18\n[흥미 분야]\n교육 사회 \n[선호 역할]\n모델링\n===========추천도0순위===========\n[프로필 성적]\n데이터분석 9 웹 1 디자인 5 모델링 2 총합 17\n[흥미 분야]\n교육 문화/예술 기술 \n[선호 역할]\n웹\n===========추천도1순위===========\n[프로필 성적]\n데이터분석 7 웹 1 디자인 7 모델링 5 총합 20\n[흥미 분야]\n교육 기술 \n[선호 역할]\n디자인\n===========추천도2순위===========\n[프로필 성적]\n데이터분석 10 웹 1 디자인 4 모델링 5 총합 20\n[흥미 분야]\n교육 기술 \n[선호 역할]\n데이터분석\n===========추천도3순위===========\n[프로필 성적]\n데이터분석 1 웹 1 디자인 9 모델링 8 총합 19\n[흥미 분야]\n기술 교육 \n[선호 역할]\n데이터분석\n===========추천도4순위===========\n[프로필 성적]\n데이터분석 8 웹 1 디자인 7 모델링 6 총합 22\n[흥미 분야]\n교육 문화/예술 \n[선호 역할]\n데이터분석\n===========추천도5순위===========\n[프로필 성적]\n데이터분석 8 웹 5 디자인 5 모델링 1 총합 19\n[흥미 분야]\n교육 \n[선호 역할]\n웹\n===========추천도6순위===========\n[프로필 성적]\n데이터분석 9 웹 3 디자인 4 모델링 1 총합 17\n[흥미 분야]\n문화/예술 교육 \n[선호 역할]\n웹\n===========추천도7순위===========\n[프로필 성적]\n데이터분석 3 웹 2 디자인 6 모델링 8 총합 19\n[흥미 분야]\n경제 교육 \n[선호 역할]\n웹\n===========추천도8순위===========\n[프로필 성적]\n데이터분석 6 웹 2 디자인 8 모델링 3 총합 19\n[흥미 분야]\n경제 교육 \n[선호 역할]\n웹\n===========추천도9순위===========\n[프로필 성적]\n데이터분석 6 웹 8 디자인 6 모델링 3 총합 23\n[흥미 분야]\n교육 \n[선호 역할]\n웹\n"
    }
   ],
   "source": [
    "input_num = int(input())\n",
    "grade_subs = np.abs(user_grade_sum - user_grade_sum[input_num]) * 0.1\n",
    "# 최종 평가값 'evaluation_value'\n",
    "# grade_similarity(성적분포 유사도) 작을수록\n",
    "# grade_subs(총점 편차) 작을수록\n",
    "# interest_similarity(흥미투표 유사도) 클수록\n",
    "# preference_role_similarity(선호역할 유사도) 작을수록\n",
    "# 최종 평가값 'evaluation_value'가 작아진다.\n",
    "evaluation_value = grade_similarity[input_num-1] + grade_subs - (interest_similarity[input_num-1]) + preference_role_similarity[input_num-1]\n",
    "# 평가값이 작은 순서대로 배열 후 TOP10만 얻어온다.\n",
    "top10 = evaluation_value.sort_values()[:10].index.tolist()\n",
    "\n",
    "# 출력\n",
    "print(\"===========내성적===========\")\n",
    "get_info(input_num)\n",
    "for idx, value in enumerate(top10):\n",
    "    print(f\"===========추천도{idx}순위===========\")\n",
    "    get_info(value)"
   ]
  },
  {
   "cell_type": "code",
   "execution_count": null,
   "metadata": {},
   "outputs": [],
   "source": []
  }
 ]
}