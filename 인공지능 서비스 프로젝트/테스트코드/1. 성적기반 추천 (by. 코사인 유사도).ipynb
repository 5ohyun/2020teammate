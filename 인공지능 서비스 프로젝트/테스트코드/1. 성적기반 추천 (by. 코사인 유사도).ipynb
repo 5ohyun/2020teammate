{
 "cells": [
  {
   "cell_type": "markdown",
   "metadata": {},
   "source": [
    "# 유저의 점수를 코사인 유사도를 사용해 분석\n",
    "\n",
    "- 총합 점수는 비슷하면서, 각 영역에 대한 점수는 제일 다른 유저 탐색"
   ]
  },
  {
   "cell_type": "code",
   "execution_count": 1,
   "metadata": {
    "tags": []
   },
   "outputs": [
    {
     "data": {
      "text/html": [
       "<div>\n",
       "<style scoped>\n",
       "    .dataframe tbody tr th:only-of-type {\n",
       "        vertical-align: middle;\n",
       "    }\n",
       "\n",
       "    .dataframe tbody tr th {\n",
       "        vertical-align: top;\n",
       "    }\n",
       "\n",
       "    .dataframe thead th {\n",
       "        text-align: right;\n",
       "    }\n",
       "</style>\n",
       "<table border=\"1\" class=\"dataframe\">\n",
       "  <thead>\n",
       "    <tr style=\"text-align: right;\">\n",
       "      <th></th>\n",
       "      <th>데이터분석</th>\n",
       "      <th>머신러닝</th>\n",
       "      <th>웹</th>\n",
       "      <th>디자인</th>\n",
       "    </tr>\n",
       "  </thead>\n",
       "  <tbody>\n",
       "    <tr>\n",
       "      <th>1</th>\n",
       "      <td>8</td>\n",
       "      <td>4</td>\n",
       "      <td>1</td>\n",
       "      <td>6</td>\n",
       "    </tr>\n",
       "    <tr>\n",
       "      <th>2</th>\n",
       "      <td>1</td>\n",
       "      <td>10</td>\n",
       "      <td>9</td>\n",
       "      <td>8</td>\n",
       "    </tr>\n",
       "    <tr>\n",
       "      <th>3</th>\n",
       "      <td>10</td>\n",
       "      <td>10</td>\n",
       "      <td>3</td>\n",
       "      <td>4</td>\n",
       "    </tr>\n",
       "    <tr>\n",
       "      <th>4</th>\n",
       "      <td>6</td>\n",
       "      <td>10</td>\n",
       "      <td>9</td>\n",
       "      <td>1</td>\n",
       "    </tr>\n",
       "    <tr>\n",
       "      <th>5</th>\n",
       "      <td>8</td>\n",
       "      <td>8</td>\n",
       "      <td>0</td>\n",
       "      <td>3</td>\n",
       "    </tr>\n",
       "    <tr>\n",
       "      <th>...</th>\n",
       "      <td>...</td>\n",
       "      <td>...</td>\n",
       "      <td>...</td>\n",
       "      <td>...</td>\n",
       "    </tr>\n",
       "    <tr>\n",
       "      <th>156</th>\n",
       "      <td>3</td>\n",
       "      <td>4</td>\n",
       "      <td>1</td>\n",
       "      <td>1</td>\n",
       "    </tr>\n",
       "    <tr>\n",
       "      <th>157</th>\n",
       "      <td>8</td>\n",
       "      <td>2</td>\n",
       "      <td>10</td>\n",
       "      <td>3</td>\n",
       "    </tr>\n",
       "    <tr>\n",
       "      <th>158</th>\n",
       "      <td>8</td>\n",
       "      <td>2</td>\n",
       "      <td>6</td>\n",
       "      <td>8</td>\n",
       "    </tr>\n",
       "    <tr>\n",
       "      <th>159</th>\n",
       "      <td>0</td>\n",
       "      <td>3</td>\n",
       "      <td>10</td>\n",
       "      <td>3</td>\n",
       "    </tr>\n",
       "    <tr>\n",
       "      <th>160</th>\n",
       "      <td>8</td>\n",
       "      <td>0</td>\n",
       "      <td>7</td>\n",
       "      <td>0</td>\n",
       "    </tr>\n",
       "  </tbody>\n",
       "</table>\n",
       "<p>160 rows × 4 columns</p>\n",
       "</div>"
      ],
      "text/plain": [
       "     데이터분석  머신러닝   웹  디자인\n",
       "1        8     4   1    6\n",
       "2        1    10   9    8\n",
       "3       10    10   3    4\n",
       "4        6    10   9    1\n",
       "5        8     8   0    3\n",
       "..     ...   ...  ..  ...\n",
       "156      3     4   1    1\n",
       "157      8     2  10    3\n",
       "158      8     2   6    8\n",
       "159      0     3  10    3\n",
       "160      8     0   7    0\n",
       "\n",
       "[160 rows x 4 columns]"
      ]
     },
     "metadata": {},
     "output_type": "display_data"
    },
    {
     "data": {
      "text/plain": [
       "1      19\n",
       "2      28\n",
       "3      27\n",
       "4      26\n",
       "5      19\n",
       "       ..\n",
       "156     9\n",
       "157    23\n",
       "158    24\n",
       "159    16\n",
       "160    15\n",
       "Length: 160, dtype: int64"
      ]
     },
     "metadata": {},
     "output_type": "display_data"
    }
   ],
   "source": [
    "import numpy as np\n",
    "import pandas as pd\n",
    "\n",
    "# 점수 1-10점으로 랜덤 생성\n",
    "# 인원 수 160명\n",
    "user_grade = pd.DataFrame(np.random.randint(0,11,size=(160,4)) , index=range(1,161), columns=['데이터분석','머신러닝','웹','디자인'])\n",
    "# 각 유저(사용자)별 네 점수 총합\n",
    "user_grade_sum = user_grade.sum(axis=1)\n",
    "\n",
    "display(user_grade)\n",
    "display(user_grade_sum)"
   ]
  },
  {
   "cell_type": "code",
   "execution_count": 2,
   "metadata": {
    "tags": []
   },
   "outputs": [
    {
     "name": "stdout",
     "output_type": "stream",
     "text": [
      "[[1.         0.61891187 0.90601032 ... 0.89871703 0.34042861 0.61748469]\n",
      " [0.61891187 1.         0.71833643 ... 0.71817563 0.84518919 0.42584502]\n",
      " [0.90601032 0.71833643 1.         ... 0.77151675 0.44187582 0.63341872]\n",
      " ...\n",
      " [0.89871703 0.71817563 0.77151675 ... 1.         0.63921486 0.76932882]\n",
      " [0.34042861 0.84518919 0.44187582 ... 0.63921486 1.         0.60620263]\n",
      " [0.61748469 0.42584502 0.63341872 ... 0.76932882 0.60620263 1.        ]]\n"
     ]
    }
   ],
   "source": [
    "from sklearn.metrics.pairwise import cosine_similarity\n",
    "\n",
    "# 유저와 유저 간의 유사도\n",
    "user_based_collab = cosine_similarity(user_grade, user_grade)\n",
    "print(user_based_collab)"
   ]
  },
  {
   "cell_type": "code",
   "execution_count": 3,
   "metadata": {},
   "outputs": [
    {
     "data": {
      "text/plain": [
       "1      0.0\n",
       "2      0.9\n",
       "3      0.8\n",
       "4      0.7\n",
       "5      0.0\n",
       "      ... \n",
       "156    1.0\n",
       "157    0.4\n",
       "158    0.5\n",
       "159    0.3\n",
       "160    0.4\n",
       "Length: 160, dtype: float64"
      ]
     },
     "metadata": {},
     "output_type": "display_data"
    }
   ],
   "source": [
    "# 1번 입장에서 진행, 각 점수에서 1번점수를 빼고 절대값을 씌워 1번 사용자의 총합과 얼마나 차이나는지 결정\n",
    "# 0.1을 곱한 이유? 그대로 사용하면 총합점수차의 영향력이 너무 커진다. 임의로 작은 값 부여\n",
    "grade_subs = np.abs(user_grade_sum - user_grade_sum[1]) * 0.1\n",
    "\n",
    "display(grade_subs)"
   ]
  },
  {
   "cell_type": "code",
   "execution_count": 4,
   "metadata": {},
   "outputs": [
    {
     "data": {
      "text/plain": [
       "1      1.000000\n",
       "2      1.518912\n",
       "3      1.706010\n",
       "4      1.344935\n",
       "5      0.900433\n",
       "         ...   \n",
       "156    1.836225\n",
       "157    1.094897\n",
       "158    1.398717\n",
       "159    0.640429\n",
       "160    1.017485\n",
       "Length: 160, dtype: float64"
      ]
     },
     "execution_count": 4,
     "metadata": {},
     "output_type": "execute_result"
    }
   ],
   "source": [
    "# 높은 추천도를 가지려면?\n",
    "# user_based_collab 즉, 유사도가 낮아야함 (각 영역별 수치가 최대한 달라야 하므로)\n",
    "# sub 즉, 총점수차가 낮아야함. (차이가 적어야 비슷한 실력이므로)\n",
    "\n",
    "evaluation_value = user_based_collab[0] + grade_subs\n",
    "\n",
    "# 해당 값을 최종 지표로 사용한다.\n",
    "evaluation_value"
   ]
  },
  {
   "cell_type": "code",
   "execution_count": 5,
   "metadata": {},
   "outputs": [
    {
     "data": {
      "text/plain": [
       "[112, 15, 44, 81, 19, 68, 118, 159, 25, 137]"
      ]
     },
     "execution_count": 5,
     "metadata": {},
     "output_type": "execute_result"
    }
   ],
   "source": [
    "# 해당 지표가 낮은 순서대로 index 뽑아옴\n",
    "\n",
    "top10 = evaluation_value.sort_values()[:10].index.tolist()\n",
    "\n",
    "# 추천되는 인원의 인덱스 리스트\n",
    "top10"
   ]
  },
  {
   "cell_type": "code",
   "execution_count": 6,
   "metadata": {
    "tags": []
   },
   "outputs": [
    {
     "name": "stdout",
     "output_type": "stream",
     "text": [
      "5\n",
      "<나의 정보>\n",
      "\n",
      "데이터분석 : 8, 머신러닝 : 8, 웹 : 0, 디자인 : 3, 총합 : 19\n",
      "강점 : ['머신러닝', '데이터분석']\n",
      "\n",
      "================================\n",
      "\n",
      "<추천 1순위 : 125번째 학생>\n",
      "\n",
      "데이터분석 : 2, 머신러닝 : 0, 웹 : 9, 디자인 : 9, 총합 : 20\n",
      "강점 : ['디자인', '웹']\n",
      "\n",
      "=========================\n",
      "\n",
      "<추천 2순위 : 140번째 학생>\n",
      "\n",
      "데이터분석 : 2, 머신러닝 : 2, 웹 : 5, 디자인 : 10, 총합 : 19\n",
      "강점 : ['디자인', '웹']\n",
      "\n",
      "=========================\n",
      "\n",
      "<추천 3순위 : 80번째 학생>\n",
      "\n",
      "데이터분석 : 0, 머신러닝 : 5, 웹 : 7, 디자인 : 7, 총합 : 19\n",
      "강점 : ['디자인', '웹']\n",
      "\n",
      "=========================\n",
      "\n",
      "<추천 4순위 : 58번째 학생>\n",
      "\n",
      "데이터분석 : 4, 머신러닝 : 1, 웹 : 10, 디자인 : 5, 총합 : 20\n",
      "강점 : ['웹', '디자인']\n",
      "\n",
      "=========================\n",
      "\n",
      "<추천 5순위 : 57번째 학생>\n",
      "\n",
      "데이터분석 : 1, 머신러닝 : 2, 웹 : 5, 디자인 : 10, 총합 : 18\n",
      "강점 : ['디자인', '웹']\n",
      "\n",
      "=========================\n",
      "\n",
      "<추천 6순위 : 14번째 학생>\n",
      "\n",
      "데이터분석 : 3, 머신러닝 : 6, 웹 : 10, 디자인 : 0, 총합 : 19\n",
      "강점 : ['웹', '머신러닝']\n",
      "\n",
      "=========================\n",
      "\n",
      "<추천 7순위 : 111번째 학생>\n",
      "\n",
      "데이터분석 : 0, 머신러닝 : 9, 웹 : 8, 디자인 : 2, 총합 : 19\n",
      "강점 : ['머신러닝', '웹']\n",
      "\n",
      "=========================\n",
      "\n",
      "<추천 8순위 : 43번째 학생>\n",
      "\n",
      "데이터분석 : 0, 머신러닝 : 5, 웹 : 10, 디자인 : 2, 총합 : 17\n",
      "강점 : ['웹', '머신러닝']\n",
      "\n",
      "=========================\n",
      "\n",
      "<추천 9순위 : 33번째 학생>\n",
      "\n",
      "데이터분석 : 4, 머신러닝 : 1, 웹 : 8, 디자인 : 7, 총합 : 20\n",
      "강점 : ['웹', '디자인']\n",
      "\n",
      "=========================\n",
      "\n",
      "<추천 10순위 : 158번째 학생>\n",
      "\n",
      "데이터분석 : 0, 머신러닝 : 3, 웹 : 10, 디자인 : 3, 총합 : 16\n",
      "강점 : ['웹', '디자인']\n",
      "\n",
      "=========================\n"
     ]
    }
   ],
   "source": [
    "# 같은 원리로 인풋 값에 대해 추천시스템 작동\n",
    "\n",
    "input_num = int(input()) - 1\n",
    "grade_subs = np.abs(user_grade_sum - user_grade_sum[input_num + 1]) * 0.1\n",
    "evaluation_value = user_based_collab[input_num] + grade_subs\n",
    "top10 = evaluation_value.sort_values()[:10].index.tolist()\n",
    "\n",
    "print(f\"<나의 정보>\")\n",
    "print()\n",
    "print(f\"데이터분석 : {user_grade.iloc[input_num]['데이터분석']}, 머신러닝 : {user_grade.iloc[input_num]['머신러닝']}, 웹 : {user_grade.iloc[input_num]['웹']}, 디자인 : {user_grade.iloc[input_num]['디자인']}, 총합 : {user_grade_sum[input_num + 1]}\")\n",
    "print(f\"강점 : {user_grade.iloc[input_num].sort_values(ascending=False)[:2].index.tolist()}\")\n",
    "print()\n",
    "\n",
    "print(\"================================\")\n",
    "for idx, value in enumerate(top10):\n",
    "    value = value - 1\n",
    "    print()\n",
    "    print(f\"<추천 {idx + 1}순위 : {value}번째 학생>\")\n",
    "    print()\n",
    "    print(f\"데이터분석 : {user_grade.iloc[value]['데이터분석']}, 머신러닝 : {user_grade.iloc[value]['머신러닝']}, 웹 : {user_grade.iloc[value]['웹']}, 디자인 : {user_grade.iloc[value]['디자인']}, 총합 : {user_grade_sum[value + 1]}\")\n",
    "    print(f\"강점 : {user_grade.iloc[value].sort_values(ascending=False)[:2].index.tolist()}\")\n",
    "    print()\n",
    "    print(\"=========================\")"
   ]
  },
  {
   "cell_type": "code",
   "execution_count": null,
   "metadata": {},
   "outputs": [],
   "source": []
  }
 ],
 "metadata": {
  "kernelspec": {
   "display_name": "Python 3",
   "language": "python",
   "name": "python3"
  },
  "language_info": {
   "codemirror_mode": {
    "name": "ipython",
    "version": 3
   },
   "file_extension": ".py",
   "mimetype": "text/x-python",
   "name": "python",
   "nbconvert_exporter": "python",
   "pygments_lexer": "ipython3",
   "version": "3.7.7"
  }
 },
 "nbformat": 4,
 "nbformat_minor": 2
}
