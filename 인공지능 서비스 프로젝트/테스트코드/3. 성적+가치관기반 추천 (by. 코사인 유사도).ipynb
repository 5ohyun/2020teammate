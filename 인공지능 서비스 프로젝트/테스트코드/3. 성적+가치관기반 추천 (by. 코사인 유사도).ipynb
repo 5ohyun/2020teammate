{
 "metadata": {
  "language_info": {
   "codemirror_mode": {
    "name": "ipython",
    "version": 3
   },
   "file_extension": ".py",
   "mimetype": "text/x-python",
   "name": "python",
   "nbconvert_exporter": "python",
   "pygments_lexer": "ipython3",
   "version": "3.7.7-final"
  },
  "orig_nbformat": 2,
  "kernelspec": {
   "name": "python_defaultSpec_1599123345759",
   "display_name": "Python 3.7.7 64-bit ('base': conda)"
  }
 },
 "nbformat": 4,
 "nbformat_minor": 2,
 "cells": [
  {
   "cell_type": "markdown",
   "metadata": {},
   "source": [
    "# 성적 + 가치관 기반 추천시스템\n",
    "\n",
    "- 성적정보와 가치관정보를 모두 코사인유사도를 기반으로 분석하여 적절한 팀메이트 추천\n",
    "- 성적정보 : 총점은 비슷하고, 영역별 점수는 달라야함\n",
    "- 가치관정보 : 영역별 점수가 최대한 유사해야함"
   ]
  },
  {
   "cell_type": "code",
   "execution_count": 2,
   "metadata": {},
   "outputs": [
    {
     "output_type": "display_data",
     "data": {
      "text/plain": "     데이터분석  머신러닝  웹  디자인\n1        2     1  5    4\n2        7     6  3    1\n3        8     3  7    1\n4        4     4  7    7\n5        1     2  6    3\n..     ...   ... ..  ...\n156      5     6  6    1\n157      1     3  2    2\n158      5     9  5    8\n159      8     8  2   10\n160      2     9  2    8\n\n[160 rows x 4 columns]",
      "text/html": "<div>\n<style scoped>\n    .dataframe tbody tr th:only-of-type {\n        vertical-align: middle;\n    }\n\n    .dataframe tbody tr th {\n        vertical-align: top;\n    }\n\n    .dataframe thead th {\n        text-align: right;\n    }\n</style>\n<table border=\"1\" class=\"dataframe\">\n  <thead>\n    <tr style=\"text-align: right;\">\n      <th></th>\n      <th>데이터분석</th>\n      <th>머신러닝</th>\n      <th>웹</th>\n      <th>디자인</th>\n    </tr>\n  </thead>\n  <tbody>\n    <tr>\n      <th>1</th>\n      <td>2</td>\n      <td>1</td>\n      <td>5</td>\n      <td>4</td>\n    </tr>\n    <tr>\n      <th>2</th>\n      <td>7</td>\n      <td>6</td>\n      <td>3</td>\n      <td>1</td>\n    </tr>\n    <tr>\n      <th>3</th>\n      <td>8</td>\n      <td>3</td>\n      <td>7</td>\n      <td>1</td>\n    </tr>\n    <tr>\n      <th>4</th>\n      <td>4</td>\n      <td>4</td>\n      <td>7</td>\n      <td>7</td>\n    </tr>\n    <tr>\n      <th>5</th>\n      <td>1</td>\n      <td>2</td>\n      <td>6</td>\n      <td>3</td>\n    </tr>\n    <tr>\n      <th>...</th>\n      <td>...</td>\n      <td>...</td>\n      <td>...</td>\n      <td>...</td>\n    </tr>\n    <tr>\n      <th>156</th>\n      <td>5</td>\n      <td>6</td>\n      <td>6</td>\n      <td>1</td>\n    </tr>\n    <tr>\n      <th>157</th>\n      <td>1</td>\n      <td>3</td>\n      <td>2</td>\n      <td>2</td>\n    </tr>\n    <tr>\n      <th>158</th>\n      <td>5</td>\n      <td>9</td>\n      <td>5</td>\n      <td>8</td>\n    </tr>\n    <tr>\n      <th>159</th>\n      <td>8</td>\n      <td>8</td>\n      <td>2</td>\n      <td>10</td>\n    </tr>\n    <tr>\n      <th>160</th>\n      <td>2</td>\n      <td>9</td>\n      <td>2</td>\n      <td>8</td>\n    </tr>\n  </tbody>\n</table>\n<p>160 rows × 4 columns</p>\n</div>"
     },
     "metadata": {}
    },
    {
     "output_type": "display_data",
     "data": {
      "text/plain": "1      12\n2      17\n3      19\n4      22\n5      12\n       ..\n156    18\n157     8\n158    27\n159    28\n160    21\nLength: 160, dtype: int64"
     },
     "metadata": {}
    }
   ],
   "source": [
    "import numpy as np\n",
    "import pandas as pd\n",
    "\n",
    "# 점수 0-10점으로 랜덤 생성\n",
    "# 인원 수 160명\n",
    "user_grade = pd.DataFrame(np.random.randint(1,11,size=(160,4)) , index=range(1,161), columns=['데이터분석','머신러닝','웹','디자인'])\n",
    "# 각 유저(사용자)별 네개의 영역 점수 총합\n",
    "user_grade_sum = user_grade.sum(axis=1)\n",
    "\n",
    "display(user_grade)\n",
    "display(user_grade_sum)"
   ]
  },
  {
   "cell_type": "code",
   "execution_count": 3,
   "metadata": {},
   "outputs": [
    {
     "output_type": "display_data",
     "data": {
      "text/plain": "     속도  결과  취업   밤  디테일  과정  창업  아침\n1    15  24  38  85   85  76  62  15\n2    96  86  43  39    4  14  57  61\n3     6  91  13  39   94   9  87  61\n4    57  90  13   4   43  10  87  96\n5    85  90   7  43   15  10  93  57\n..   ..  ..  ..  ..  ...  ..  ..  ..\n156  59  73  15   1   41  27  85  99\n157  48  22  22   8   52  78  78  92\n158  17  63  85  30   83  37  15  70\n159  16  97  93  18   84   3   7  82\n160  10  74  40  45   90  26  60  55\n\n[160 rows x 8 columns]",
      "text/html": "<div>\n<style scoped>\n    .dataframe tbody tr th:only-of-type {\n        vertical-align: middle;\n    }\n\n    .dataframe tbody tr th {\n        vertical-align: top;\n    }\n\n    .dataframe thead th {\n        text-align: right;\n    }\n</style>\n<table border=\"1\" class=\"dataframe\">\n  <thead>\n    <tr style=\"text-align: right;\">\n      <th></th>\n      <th>속도</th>\n      <th>결과</th>\n      <th>취업</th>\n      <th>밤</th>\n      <th>디테일</th>\n      <th>과정</th>\n      <th>창업</th>\n      <th>아침</th>\n    </tr>\n  </thead>\n  <tbody>\n    <tr>\n      <th>1</th>\n      <td>15</td>\n      <td>24</td>\n      <td>38</td>\n      <td>85</td>\n      <td>85</td>\n      <td>76</td>\n      <td>62</td>\n      <td>15</td>\n    </tr>\n    <tr>\n      <th>2</th>\n      <td>96</td>\n      <td>86</td>\n      <td>43</td>\n      <td>39</td>\n      <td>4</td>\n      <td>14</td>\n      <td>57</td>\n      <td>61</td>\n    </tr>\n    <tr>\n      <th>3</th>\n      <td>6</td>\n      <td>91</td>\n      <td>13</td>\n      <td>39</td>\n      <td>94</td>\n      <td>9</td>\n      <td>87</td>\n      <td>61</td>\n    </tr>\n    <tr>\n      <th>4</th>\n      <td>57</td>\n      <td>90</td>\n      <td>13</td>\n      <td>4</td>\n      <td>43</td>\n      <td>10</td>\n      <td>87</td>\n      <td>96</td>\n    </tr>\n    <tr>\n      <th>5</th>\n      <td>85</td>\n      <td>90</td>\n      <td>7</td>\n      <td>43</td>\n      <td>15</td>\n      <td>10</td>\n      <td>93</td>\n      <td>57</td>\n    </tr>\n    <tr>\n      <th>...</th>\n      <td>...</td>\n      <td>...</td>\n      <td>...</td>\n      <td>...</td>\n      <td>...</td>\n      <td>...</td>\n      <td>...</td>\n      <td>...</td>\n    </tr>\n    <tr>\n      <th>156</th>\n      <td>59</td>\n      <td>73</td>\n      <td>15</td>\n      <td>1</td>\n      <td>41</td>\n      <td>27</td>\n      <td>85</td>\n      <td>99</td>\n    </tr>\n    <tr>\n      <th>157</th>\n      <td>48</td>\n      <td>22</td>\n      <td>22</td>\n      <td>8</td>\n      <td>52</td>\n      <td>78</td>\n      <td>78</td>\n      <td>92</td>\n    </tr>\n    <tr>\n      <th>158</th>\n      <td>17</td>\n      <td>63</td>\n      <td>85</td>\n      <td>30</td>\n      <td>83</td>\n      <td>37</td>\n      <td>15</td>\n      <td>70</td>\n    </tr>\n    <tr>\n      <th>159</th>\n      <td>16</td>\n      <td>97</td>\n      <td>93</td>\n      <td>18</td>\n      <td>84</td>\n      <td>3</td>\n      <td>7</td>\n      <td>82</td>\n    </tr>\n    <tr>\n      <th>160</th>\n      <td>10</td>\n      <td>74</td>\n      <td>40</td>\n      <td>45</td>\n      <td>90</td>\n      <td>26</td>\n      <td>60</td>\n      <td>55</td>\n    </tr>\n  </tbody>\n</table>\n<p>160 rows × 8 columns</p>\n</div>"
     },
     "metadata": {}
    }
   ],
   "source": [
    "# 가치관점수 : \n",
    "# 디테일 <-> 속도 : 디테일을 중요시하는지 속도를 중요시하는지\n",
    "# 과정 <-> 결과 : 과정을 중요시하는지 결과를 중요시하는지\n",
    "# 창업 <-> 취업 : 창업을 꿈꾸는지 취업을 꿈꾸는지\n",
    "# 아침 <-> 밤 : 아침형인간인지 밤형 인간인지\n",
    "\n",
    "# 점수 0-100점으로 랜덤 생성\n",
    "user_style = pd.DataFrame(np.random.randint(1,101,size=(160,4)) , index=range(1,161), columns=['속도','결과','취업','밤'])\n",
    "user_style['디테일'] = 100 - user_style['속도']\n",
    "user_style['과정'] = 100 - user_style['결과']\n",
    "user_style['창업'] = 100 - user_style['취업']\n",
    "user_style['아침'] = 100 - user_style['밤']\n",
    "display(user_style)"
   ]
  },
  {
   "cell_type": "code",
   "execution_count": 4,
   "metadata": {
    "tags": []
   },
   "outputs": [
    {
     "output_type": "stream",
     "name": "stdout",
     "text": "[[1.         0.5899618  0.77107482 ... 0.80244887 0.71632286 0.65559866]\n [0.5899618  1.         0.88808978 ... 0.82288456 0.80830535 0.68015256]\n [0.77107482 0.88808978 1.         ... 0.71026894 0.66301213 0.47382185]\n ...\n [0.80244887 0.82288456 0.71026894 ... 1.         0.94970795 0.95525853]\n [0.71632286 0.80830535 0.66301213 ... 0.94970795 1.         0.91293265]\n [0.65559866 0.68015256 0.47382185 ... 0.95525853 0.91293265 1.        ]]\n"
    }
   ],
   "source": [
    "from sklearn.metrics.pairwise import cosine_similarity\n",
    "\n",
    "# 유저와 유저 간의 유사도\n",
    "# 성적 기반 유사도 (낮을수록 추천도 상승)\n",
    "user_based_collab_grade = cosine_similarity(user_grade, user_grade)\n",
    "print(user_based_collab_grade)"
   ]
  },
  {
   "cell_type": "code",
   "execution_count": 5,
   "metadata": {},
   "outputs": [
    {
     "output_type": "display_data",
     "data": {
      "text/plain": "1      0.0\n2      0.5\n3      0.7\n4      1.0\n5      0.0\n      ... \n156    0.6\n157    0.4\n158    1.5\n159    1.6\n160    0.9\nLength: 160, dtype: float64"
     },
     "metadata": {}
    }
   ],
   "source": [
    "# 1번 입장에서 진행, 각 점수에서 1번점수를 빼고 절대값을 씌워 1번 사용자의 총합과 얼마나 차이나는지 결정\n",
    "# 0.1을 곱한 이유? 그대로 사용하면 총합점수차 지표의 영향력이 너무 커진다. \n",
    "grade_subs = np.abs(user_grade_sum - user_grade_sum[1]) * 0.1\n",
    "\n",
    "display(grade_subs)"
   ]
  },
  {
   "cell_type": "code",
   "execution_count": 6,
   "metadata": {
    "tags": []
   },
   "outputs": [
    {
     "output_type": "stream",
     "name": "stdout",
     "text": "[[1.         0.5328082  0.74392218 ... 0.74164049 0.56760672 0.83913073]\n [0.5328082  1.         0.68638991 ... 0.67471111 0.68542033 0.70781792]\n [0.74392218 0.68638991 1.         ... 0.7820367  0.77791923 0.96603636]\n ...\n [0.74164049 0.67471111 0.7820367  ... 1.         0.95951576 0.90414871]\n [0.56760672 0.68542033 0.77791923 ... 0.95951576 1.         0.8644973 ]\n [0.83913073 0.70781792 0.96603636 ... 0.90414871 0.8644973  1.        ]]\n"
    }
   ],
   "source": [
    "# 가치관에 대한 유사도\n",
    "# 높을 수록 추천도가 높아진다.\n",
    "\n",
    "user_based_collab_style = cosine_similarity(user_style, user_style)\n",
    "print(user_based_collab_style)"
   ]
  },
  {
   "cell_type": "code",
   "execution_count": 7,
   "metadata": {},
   "outputs": [
    {
     "output_type": "execute_result",
     "data": {
      "text/plain": "1      1.110223e-16\n2      5.571536e-01\n3      7.271526e-01\n4      1.437170e+00\n5      3.863941e-01\n           ...     \n156    7.777773e-01\n157    4.728503e-01\n158    1.560808e+00\n159    1.748716e+00\n160    7.164679e-01\nLength: 160, dtype: float64"
     },
     "metadata": {},
     "execution_count": 7
    }
   ],
   "source": [
    "# 높은 추천도를 가지려면?\n",
    "# user_based_collab(성적영역 유사도)가 낮아야함 (각 영역별 수치가 최대한 달라야 하므로)\n",
    "# grade_subs(총점수차)가 낮아야함. (차이가 적어야 비슷한 실력이므로)\n",
    "# user_based_collab_style(가치관 유사도)는 높아야함\n",
    "\n",
    "# 아래와 같은 수식을 최종 지표로 활용한다.\n",
    "# 해당 최종 지표가 낮을수록 추천도는 높다\n",
    "evaluation_value = user_based_collab_grade[0] + grade_subs - user_based_collab_style[0]\n",
    "\n",
    "evaluation_value"
   ]
  },
  {
   "cell_type": "code",
   "execution_count": 8,
   "metadata": {},
   "outputs": [
    {
     "output_type": "execute_result",
     "data": {
      "text/plain": "[138, 123, 22, 88, 17, 125, 1, 112, 70, 143]"
     },
     "metadata": {},
     "execution_count": 8
    }
   ],
   "source": [
    "# 해당 지표가 낮은 순서대로 index 뽑아옴\n",
    "top10 = evaluation_value.sort_values()[:10].index.tolist()\n",
    "\n",
    "# 추천되는 인원의 인덱스 리스트\n",
    "top10"
   ]
  },
  {
   "cell_type": "code",
   "execution_count": 9,
   "metadata": {},
   "outputs": [],
   "source": [
    "# 주어진 유저가 어떤 스타일인지(가치관인지) 확인하는 함수\n",
    "\n",
    "def checkStyle(user):\n",
    "    style = []\n",
    "    if user['디테일'] > user['속도']:\n",
    "        style.append('디테일')\n",
    "    else:\n",
    "        style.append('속도')\n",
    "    if user['과정'] > user['결과']:\n",
    "        style.append('과정')\n",
    "    else:\n",
    "        style.append('결과')\n",
    "    if user['창업'] > user['취업']:\n",
    "        style.append('창업')\n",
    "    else:\n",
    "        style.append('취업')\n",
    "    if user['아침'] > user['밤']:\n",
    "        style.append('아침')\n",
    "    else:\n",
    "        style.append('밤')\n",
    "    return style"
   ]
  },
  {
   "cell_type": "code",
   "execution_count": 11,
   "metadata": {
    "tags": []
   },
   "outputs": [
    {
     "output_type": "stream",
     "name": "stdout",
     "text": "<나의 정보>\n\n['속도', '결과', '창업', '아침']\n데이터분석 : 1, 머신러닝 : 2, 웹 : 6, 디자인 : 3, 총합 : 12\n강점 : ['웹', '디자인']\n\n================================\n\n<추천 1순위 : 142번째 학생>\n\n['속도', '결과', '창업', '아침']\n데이터분석 : 5, 머신러닝 : 4, 웹 : 1, 디자인 : 1, 총합 : 11\n강점 : ['데이터분석', '머신러닝']\n\n=========================\n\n<추천 2순위 : 111번째 학생>\n\n['속도', '결과', '창업', '아침']\n데이터분석 : 5, 머신러닝 : 6, 웹 : 1, 디자인 : 2, 총합 : 14\n강점 : ['머신러닝', '데이터분석']\n\n=========================\n\n<추천 3순위 : 21번째 학생>\n\n['속도', '결과', '취업', '밤']\n데이터분석 : 7, 머신러닝 : 1, 웹 : 1, 디자인 : 4, 총합 : 13\n강점 : ['데이터분석', '디자인']\n\n=========================\n\n<추천 4순위 : 137번째 학생>\n\n['속도', '결과', '취업', '밤']\n데이터분석 : 6, 머신러닝 : 6, 웹 : 1, 디자인 : 1, 총합 : 14\n강점 : ['머신러닝', '데이터분석']\n\n=========================\n\n<추천 5순위 : 122번째 학생>\n\n['속도', '결과', '취업', '밤']\n데이터분석 : 2, 머신러닝 : 7, 웹 : 3, 디자인 : 1, 총합 : 13\n강점 : ['머신러닝', '웹']\n\n=========================\n\n<추천 6순위 : 91번째 학생>\n\n['속도', '결과', '취업', '아침']\n데이터분석 : 2, 머신러닝 : 4, 웹 : 1, 디자인 : 6, 총합 : 13\n강점 : ['디자인', '머신러닝']\n\n=========================\n\n<추천 7순위 : 107번째 학생>\n\n['속도', '과정', '창업', '아침']\n데이터분석 : 7, 머신러닝 : 1, 웹 : 2, 디자인 : 4, 총합 : 14\n강점 : ['데이터분석', '디자인']\n\n=========================\n\n<추천 8순위 : 4번째 학생>\n\n['속도', '결과', '창업', '아침']\n데이터분석 : 1, 머신러닝 : 2, 웹 : 6, 디자인 : 3, 총합 : 12\n강점 : ['웹', '디자인']\n\n=========================\n\n<추천 9순위 : 16번째 학생>\n\n['속도', '과정', '취업', '아침']\n데이터분석 : 6, 머신러닝 : 5, 웹 : 2, 디자인 : 1, 총합 : 14\n강점 : ['데이터분석', '머신러닝']\n\n=========================\n\n<추천 10순위 : 22번째 학생>\n\n['속도', '결과', '창업', '아침']\n데이터분석 : 6, 머신러닝 : 2, 웹 : 3, 디자인 : 4, 총합 : 15\n강점 : ['데이터분석', '디자인']\n\n=========================\n"
    }
   ],
   "source": [
    "# 위와 같은 원리로 인풋 값에 대해 추천시스템 작동\n",
    "# 가치관이 비슷하고,\n",
    "# 성적총점은 비슷하지만 잘하는 영역은 다른 유저를 추천해준다.\n",
    "\n",
    "input_num = int(input()) - 1\n",
    "grade_subs = np.abs(user_grade_sum - user_grade_sum[input_num + 1]) * 0.1\n",
    "evaluation_value = user_based_collab_grade[input_num] + grade_subs - user_based_collab_style[input_num]\n",
    "top10 = evaluation_value.sort_values()[:10].index.tolist()\n",
    "\n",
    "print(f\"<나의 정보>\")\n",
    "print()\n",
    "print(f\"{checkStyle(user_style.iloc[input_num])}\")\n",
    "print(f\"데이터분석 : {user_grade.iloc[input_num]['데이터분석']}, 머신러닝 : {user_grade.iloc[input_num]['머신러닝']}, 웹 : {user_grade.iloc[input_num]['웹']}, 디자인 : {user_grade.iloc[input_num]['디자인']}, 총합 : {user_grade_sum[input_num + 1]}\")\n",
    "print(f\"강점 : {user_grade.iloc[input_num].sort_values(ascending=False)[:2].index.tolist()}\")\n",
    "print()\n",
    "\n",
    "print(\"================================\")\n",
    "for idx, value in enumerate(top10):\n",
    "    value = value - 1\n",
    "    print()\n",
    "    print(f\"<추천 {idx + 1}순위 : {value}번째 학생>\")\n",
    "    print()\n",
    "    print(f\"{checkStyle(user_style.iloc[value])}\")\n",
    "    print(f\"데이터분석 : {user_grade.iloc[value]['데이터분석']}, 머신러닝 : {user_grade.iloc[value]['머신러닝']}, 웹 : {user_grade.iloc[value]['웹']}, 디자인 : {user_grade.iloc[value]['디자인']}, 총합 : {user_grade_sum[value + 1]}\")\n",
    "    print(f\"강점 : {user_grade.iloc[value].sort_values(ascending=False)[:2].index.tolist()}\")\n",
    "    print()\n",
    "    print(\"=========================\")"
   ]
  },
  {
   "cell_type": "code",
   "execution_count": null,
   "metadata": {},
   "outputs": [],
   "source": []
  }
 ]
}