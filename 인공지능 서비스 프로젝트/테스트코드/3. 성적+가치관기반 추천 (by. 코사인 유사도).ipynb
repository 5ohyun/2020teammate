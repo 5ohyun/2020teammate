{
 "metadata": {
  "language_info": {
   "codemirror_mode": {
    "name": "ipython",
    "version": 3
   },
   "file_extension": ".py",
   "mimetype": "text/x-python",
   "name": "python",
   "nbconvert_exporter": "python",
   "pygments_lexer": "ipython3",
   "version": "3.7.7-final"
  },
  "orig_nbformat": 2,
  "kernelspec": {
   "name": "python_defaultSpec_1599122439184",
   "display_name": "Python 3.7.7 64-bit ('base': conda)"
  }
 },
 "nbformat": 4,
 "nbformat_minor": 2,
 "cells": [
  {
   "cell_type": "markdown",
   "metadata": {},
   "source": [
    "# 성적 + 가치관 기반 추천시스템\n",
    "\n",
    "- 성적정보와 가치관정보를 모두 코사인유사도를 기반으로 분석하여 적절한 팀메이트 추천\n",
    "- 성적정보 : 총점은 비슷하고, 영역별 점수는 달라야함\n",
    "- 가치관정보 : 영역별 점수가 최대한 유사해야함"
   ]
  },
  {
   "cell_type": "code",
   "execution_count": 9,
   "metadata": {},
   "outputs": [
    {
     "output_type": "display_data",
     "data": {
      "text/plain": "     데이터분석  머신러닝   웹  디자인\n1        7     8   9    5\n2        6     6   6    8\n3        9     5   2    3\n4        6     3  10    4\n5        8     8   2    7\n..     ...   ...  ..  ...\n156      3     5   4    3\n157      6     6  10    9\n158      9     8   3    4\n159      7     8   1   10\n160      4     2   3    7\n\n[160 rows x 4 columns]",
      "text/html": "<div>\n<style scoped>\n    .dataframe tbody tr th:only-of-type {\n        vertical-align: middle;\n    }\n\n    .dataframe tbody tr th {\n        vertical-align: top;\n    }\n\n    .dataframe thead th {\n        text-align: right;\n    }\n</style>\n<table border=\"1\" class=\"dataframe\">\n  <thead>\n    <tr style=\"text-align: right;\">\n      <th></th>\n      <th>데이터분석</th>\n      <th>머신러닝</th>\n      <th>웹</th>\n      <th>디자인</th>\n    </tr>\n  </thead>\n  <tbody>\n    <tr>\n      <th>1</th>\n      <td>7</td>\n      <td>8</td>\n      <td>9</td>\n      <td>5</td>\n    </tr>\n    <tr>\n      <th>2</th>\n      <td>6</td>\n      <td>6</td>\n      <td>6</td>\n      <td>8</td>\n    </tr>\n    <tr>\n      <th>3</th>\n      <td>9</td>\n      <td>5</td>\n      <td>2</td>\n      <td>3</td>\n    </tr>\n    <tr>\n      <th>4</th>\n      <td>6</td>\n      <td>3</td>\n      <td>10</td>\n      <td>4</td>\n    </tr>\n    <tr>\n      <th>5</th>\n      <td>8</td>\n      <td>8</td>\n      <td>2</td>\n      <td>7</td>\n    </tr>\n    <tr>\n      <th>...</th>\n      <td>...</td>\n      <td>...</td>\n      <td>...</td>\n      <td>...</td>\n    </tr>\n    <tr>\n      <th>156</th>\n      <td>3</td>\n      <td>5</td>\n      <td>4</td>\n      <td>3</td>\n    </tr>\n    <tr>\n      <th>157</th>\n      <td>6</td>\n      <td>6</td>\n      <td>10</td>\n      <td>9</td>\n    </tr>\n    <tr>\n      <th>158</th>\n      <td>9</td>\n      <td>8</td>\n      <td>3</td>\n      <td>4</td>\n    </tr>\n    <tr>\n      <th>159</th>\n      <td>7</td>\n      <td>8</td>\n      <td>1</td>\n      <td>10</td>\n    </tr>\n    <tr>\n      <th>160</th>\n      <td>4</td>\n      <td>2</td>\n      <td>3</td>\n      <td>7</td>\n    </tr>\n  </tbody>\n</table>\n<p>160 rows × 4 columns</p>\n</div>"
     },
     "metadata": {}
    },
    {
     "output_type": "display_data",
     "data": {
      "text/plain": "1      29\n2      26\n3      19\n4      23\n5      25\n       ..\n156    15\n157    31\n158    24\n159    26\n160    16\nLength: 160, dtype: int64"
     },
     "metadata": {}
    }
   ],
   "source": [
    "import numpy as np\n",
    "import pandas as pd\n",
    "\n",
    "# 점수 0-10점으로 랜덤 생성\n",
    "# 인원 수 160명\n",
    "user_grade = pd.DataFrame(np.random.randint(1,11,size=(160,4)) , index=range(1,161), columns=['데이터분석','머신러닝','웹','디자인'])\n",
    "# 각 유저(사용자)별 네 점수 총합\n",
    "user_grade_sum = user_grade.sum(axis=1)\n",
    "\n",
    "display(user_grade)\n",
    "display(user_grade_sum)"
   ]
  },
  {
   "cell_type": "code",
   "execution_count": 10,
   "metadata": {},
   "outputs": [
    {
     "output_type": "display_data",
     "data": {
      "text/plain": "     속도   결과  취업   밤  디테일  과정  창업  아침\n1    36   52  75  67   64  48  25  33\n2    98   66  72  86    2  34  28  14\n3    56   79  66  13   44  21  34  87\n4    23   42  96  93   77  58   4   7\n5    43   26  84  47   57  74  16  53\n..   ..  ...  ..  ..  ...  ..  ..  ..\n156  55   98  36  80   45   2  64  20\n157  95   84  13  57    5  16  87  43\n158   9   90  59  85   91  10  41  15\n159  18  100  10  59   82   0  90  41\n160  90   20  54  75   10  80  46  25\n\n[160 rows x 8 columns]",
      "text/html": "<div>\n<style scoped>\n    .dataframe tbody tr th:only-of-type {\n        vertical-align: middle;\n    }\n\n    .dataframe tbody tr th {\n        vertical-align: top;\n    }\n\n    .dataframe thead th {\n        text-align: right;\n    }\n</style>\n<table border=\"1\" class=\"dataframe\">\n  <thead>\n    <tr style=\"text-align: right;\">\n      <th></th>\n      <th>속도</th>\n      <th>결과</th>\n      <th>취업</th>\n      <th>밤</th>\n      <th>디테일</th>\n      <th>과정</th>\n      <th>창업</th>\n      <th>아침</th>\n    </tr>\n  </thead>\n  <tbody>\n    <tr>\n      <th>1</th>\n      <td>36</td>\n      <td>52</td>\n      <td>75</td>\n      <td>67</td>\n      <td>64</td>\n      <td>48</td>\n      <td>25</td>\n      <td>33</td>\n    </tr>\n    <tr>\n      <th>2</th>\n      <td>98</td>\n      <td>66</td>\n      <td>72</td>\n      <td>86</td>\n      <td>2</td>\n      <td>34</td>\n      <td>28</td>\n      <td>14</td>\n    </tr>\n    <tr>\n      <th>3</th>\n      <td>56</td>\n      <td>79</td>\n      <td>66</td>\n      <td>13</td>\n      <td>44</td>\n      <td>21</td>\n      <td>34</td>\n      <td>87</td>\n    </tr>\n    <tr>\n      <th>4</th>\n      <td>23</td>\n      <td>42</td>\n      <td>96</td>\n      <td>93</td>\n      <td>77</td>\n      <td>58</td>\n      <td>4</td>\n      <td>7</td>\n    </tr>\n    <tr>\n      <th>5</th>\n      <td>43</td>\n      <td>26</td>\n      <td>84</td>\n      <td>47</td>\n      <td>57</td>\n      <td>74</td>\n      <td>16</td>\n      <td>53</td>\n    </tr>\n    <tr>\n      <th>...</th>\n      <td>...</td>\n      <td>...</td>\n      <td>...</td>\n      <td>...</td>\n      <td>...</td>\n      <td>...</td>\n      <td>...</td>\n      <td>...</td>\n    </tr>\n    <tr>\n      <th>156</th>\n      <td>55</td>\n      <td>98</td>\n      <td>36</td>\n      <td>80</td>\n      <td>45</td>\n      <td>2</td>\n      <td>64</td>\n      <td>20</td>\n    </tr>\n    <tr>\n      <th>157</th>\n      <td>95</td>\n      <td>84</td>\n      <td>13</td>\n      <td>57</td>\n      <td>5</td>\n      <td>16</td>\n      <td>87</td>\n      <td>43</td>\n    </tr>\n    <tr>\n      <th>158</th>\n      <td>9</td>\n      <td>90</td>\n      <td>59</td>\n      <td>85</td>\n      <td>91</td>\n      <td>10</td>\n      <td>41</td>\n      <td>15</td>\n    </tr>\n    <tr>\n      <th>159</th>\n      <td>18</td>\n      <td>100</td>\n      <td>10</td>\n      <td>59</td>\n      <td>82</td>\n      <td>0</td>\n      <td>90</td>\n      <td>41</td>\n    </tr>\n    <tr>\n      <th>160</th>\n      <td>90</td>\n      <td>20</td>\n      <td>54</td>\n      <td>75</td>\n      <td>10</td>\n      <td>80</td>\n      <td>46</td>\n      <td>25</td>\n    </tr>\n  </tbody>\n</table>\n<p>160 rows × 8 columns</p>\n</div>"
     },
     "metadata": {}
    }
   ],
   "source": [
    "# 가치관점수 : \n",
    "# 디테일 <-> 속도 : 디테일을 중요시하는지 속도를 중요시하는지\n",
    "# 과정 <-> 결과 : 과정을 중요시하는지 결과를 중요시하는지\n",
    "# 창업 <-> 취업 : 창업을 꿈꾸는지 취업을 꿈꾸는지\n",
    "# 아침 <-> 밤 : 아침형인간인지 밤형 인간인지\n",
    "\n",
    "# 점수 0-100점으로 랜덤 생성\n",
    "user_style = pd.DataFrame(np.random.randint(1,101,size=(160,4)) , index=range(1,161), columns=['속도','결과','취업','밤'])\n",
    "user_style['디테일'] = 100 - user_style['속도']\n",
    "user_style['과정'] = 100 - user_style['결과']\n",
    "user_style['창업'] = 100 - user_style['취업']\n",
    "user_style['아침'] = 100 - user_style['밤']\n",
    "display(user_style)"
   ]
  },
  {
   "cell_type": "code",
   "execution_count": 13,
   "metadata": {
    "tags": []
   },
   "outputs": [
    {
     "output_type": "stream",
     "name": "stdout",
     "text": "[[1.         0.94805065 0.84244852 ... 0.90178442 0.79451025 0.81102923]\n [0.94805065 1.         0.83877126 ... 0.88890409 0.91736371 0.94968846]\n [0.84244852 0.83877126 1.         ... 0.97727516 0.84596696 0.75770836]\n ...\n [0.90178442 0.88890409 0.97727516 ... 1.         0.891287   0.77289099]\n [0.79451025 0.91736371 0.84596696 ... 0.891287   1.         0.90559012]\n [0.81102923 0.94968846 0.75770836 ... 0.77289099 0.90559012 1.        ]]\n"
    }
   ],
   "source": [
    "from sklearn.metrics.pairwise import cosine_similarity\n",
    "\n",
    "# 유저와 유저 간의 유사도\n",
    "# 성적 기반 유사도 (낮을수록 추천도 상승)\n",
    "user_based_collab = cosine_similarity(user_grade, user_grade)\n",
    "print(user_based_collab)"
   ]
  },
  {
   "cell_type": "code",
   "execution_count": 14,
   "metadata": {},
   "outputs": [
    {
     "output_type": "display_data",
     "data": {
      "text/plain": "1       0\n2       3\n3      10\n4       6\n5       4\n       ..\n156    14\n157     2\n158     5\n159     3\n160    13\nLength: 160, dtype: int64"
     },
     "metadata": {}
    }
   ],
   "source": [
    "# 1번 입장에서 진행, 각 점수에서 1번점수를 빼고 절대값을 씌워 1번 사용자의 총합과 얼마나 차이나는지 결정\n",
    "# 0.1을 곱한 이유? 그대로 사용하면 총합점수차 지표의 영향력이 너무 커진다. \n",
    "grade_subs = np.abs(user_grade_sum - user_grade_sum[1]) \n",
    "\n",
    "display(grade_subs)"
   ]
  },
  {
   "cell_type": "code",
   "execution_count": 15,
   "metadata": {
    "tags": []
   },
   "outputs": [
    {
     "output_type": "stream",
     "name": "stdout",
     "text": "[[1.         0.83346722 0.82671706 ... 0.90114911 0.74625645 0.8196059 ]\n [0.83346722 1.         0.72982567 ... 0.70040926 0.58972648 0.90534157]\n [0.82671706 0.72982567 1.         ... 0.72295381 0.74596996 0.66385705]\n ...\n [0.90114911 0.70040926 0.72295381 ... 1.         0.89083347 0.58294845]\n [0.74625645 0.58972648 0.74596996 ... 0.89083347 1.         0.51537356]\n [0.8196059  0.90534157 0.66385705 ... 0.58294845 0.51537356 1.        ]]\n"
    }
   ],
   "source": [
    "# 가치관에 대한 유사도\n",
    "# 높을 수록 추천도가 높아진다.\n",
    "\n",
    "user_based_collab_style = cosine_similarity(user_style, user_style)\n",
    "print(user_based_collab_style)"
   ]
  },
  {
   "cell_type": "code",
   "execution_count": 16,
   "metadata": {},
   "outputs": [
    {
     "output_type": "execute_result",
     "data": {
      "text/plain": "1     -4.440892e-16\n2      3.114583e+00\n3      1.001573e+01\n4      5.981340e+00\n5      3.921172e+00\n           ...     \n156    1.415141e+01\n157    2.278209e+00\n158    5.000635e+00\n159    3.048254e+00\n160    1.299142e+01\nLength: 160, dtype: float64"
     },
     "metadata": {},
     "execution_count": 16
    }
   ],
   "source": [
    "# 높은 추천도를 가지려면?\n",
    "# user_based_collab(성적영역 유사도)가 낮아야함 (각 영역별 수치가 최대한 달라야 하므로)\n",
    "# grade_subs(총점수차)가 낮아야함. (차이가 적어야 비슷한 실력이므로)\n",
    "# user_based_collab_style(가치관 유사도)는 높아야함\n",
    "\n",
    "# 아래와 같은 수식을 최종 지표로 활용한다.\n",
    "# 해당 최종 지표가 낮을수록 추천도는 높다\n",
    "evaluation_value = user_based_collab[0] + grade_subs - user_based_collab_style[0]\n",
    "\n",
    "evaluation_value"
   ]
  },
  {
   "cell_type": "code",
   "execution_count": 17,
   "metadata": {},
   "outputs": [
    {
     "output_type": "execute_result",
     "data": {
      "text/plain": "[65, 1, 34, 149, 151, 147, 87, 126, 134, 25]"
     },
     "metadata": {},
     "execution_count": 17
    }
   ],
   "source": [
    "# 해당 지표가 낮은 순서대로 index 뽑아옴\n",
    "top10 = evaluation_value.sort_values()[:10].index.tolist()\n",
    "\n",
    "# 추천되는 인원의 인덱스 리스트\n",
    "top10"
   ]
  },
  {
   "cell_type": "code",
   "execution_count": 21,
   "metadata": {},
   "outputs": [],
   "source": [
    "# 주어진 유저가 어떤 스타일인지(가치관인지) 확인하는 함수\n",
    "\n",
    "def checkStyle(user):\n",
    "    style = []\n",
    "    if user['디테일'] > user['속도']:\n",
    "        style.append('디테일')\n",
    "    else:\n",
    "        style.append('속도')\n",
    "    if user['과정'] > user['결과']:\n",
    "        style.append('과정')\n",
    "    else:\n",
    "        style.append('결과')\n",
    "    if user['창업'] > user['취업']:\n",
    "        style.append('창업')\n",
    "    else:\n",
    "        style.append('취업')\n",
    "    if user['아침'] > user['밤']:\n",
    "        style.append('아침')\n",
    "    else:\n",
    "        style.append('밤')\n",
    "    return style"
   ]
  },
  {
   "cell_type": "code",
   "execution_count": 25,
   "metadata": {
    "tags": []
   },
   "outputs": [
    {
     "output_type": "stream",
     "name": "stdout",
     "text": "<나의 정보>\n\n['디테일', '과정', '취업', '아침']\n데이터분석 : 6, 머신러닝 : 1, 웹 : 3, 디자인 : 9, 총합 : 19\n강점 : ['디자인', '데이터분석']\n\n================================\n\n<추천 1순위 : 78번째 학생>\n\n['속도', '과정', '취업', '아침']\n데이터분석 : 9, 머신러닝 : 3, 웹 : 6, 디자인 : 1, 총합 : 19\n강점 : ['데이터분석', '웹']\n\n=========================\n\n<추천 2순위 : 84번째 학생>\n\n['속도', '과정', '취업', '아침']\n데이터분석 : 5, 머신러닝 : 9, 웹 : 1, 디자인 : 3, 총합 : 18\n강점 : ['머신러닝', '데이터분석']\n\n=========================\n\n<추천 3순위 : 106번째 학생>\n\n['디테일', '과정', '취업', '밤']\n데이터분석 : 5, 머신러닝 : 10, 웹 : 2, 디자인 : 3, 총합 : 20\n강점 : ['머신러닝', '데이터분석']\n\n=========================\n\n<추천 4순위 : 23번째 학생>\n\n['디테일', '과정', '취업', '밤']\n데이터분석 : 7, 머신러닝 : 7, 웹 : 3, 디자인 : 2, 총합 : 19\n강점 : ['머신러닝', '데이터분석']\n\n=========================\n\n<추천 5순위 : 82번째 학생>\n\n['속도', '결과', '취업', '아침']\n데이터분석 : 10, 머신러닝 : 7, 웹 : 1, 디자인 : 1, 총합 : 19\n강점 : ['데이터분석', '머신러닝']\n\n=========================\n\n<추천 6순위 : 137번째 학생>\n\n['디테일', '과정', '취업', '밤']\n데이터분석 : 4, 머신러닝 : 1, 웹 : 10, 디자인 : 4, 총합 : 19\n강점 : ['웹', '디자인']\n\n=========================\n\n<추천 7순위 : 53번째 학생>\n\n['속도', '결과', '취업', '아침']\n데이터분석 : 6, 머신러닝 : 2, 웹 : 8, 디자인 : 2, 총합 : 18\n강점 : ['웹', '데이터분석']\n\n=========================\n\n<추천 8순위 : 59번째 학생>\n\n['속도', '과정', '취업', '밤']\n데이터분석 : 3, 머신러닝 : 7, 웹 : 9, 디자인 : 2, 총합 : 21\n강점 : ['웹', '머신러닝']\n\n=========================\n\n<추천 9순위 : 47번째 학생>\n\n['디테일', '과정', '취업', '아침']\n데이터분석 : 6, 머신러닝 : 7, 웹 : 2, 디자인 : 3, 총합 : 18\n강점 : ['머신러닝', '데이터분석']\n\n=========================\n\n<추천 10순위 : 153번째 학생>\n\n['디테일', '과정', '취업', '아침']\n데이터분석 : 2, 머신러닝 : 4, 웹 : 8, 디자인 : 5, 총합 : 19\n강점 : ['웹', '디자인']\n\n=========================\n"
    }
   ],
   "source": [
    "# 위와 같은 원리로 인풋 값에 대해 추천시스템 작동\n",
    "# 가치관이 비슷하고,\n",
    "# 성적총점은 비슷하지만 잘하는 영역은 다른 유저를 추천해준다.\n",
    "\n",
    "input_num = int(input()) - 1\n",
    "grade_subs = np.abs(user_grade_sum - user_grade_sum[input_num + 1]) * 0.1\n",
    "evaluation_value = user_based_collab[input_num] + grade_subs - user_based_collab_style[input_num]\n",
    "top10 = evaluation_value.sort_values()[:10].index.tolist()\n",
    "\n",
    "print(f\"<나의 정보>\")\n",
    "print()\n",
    "print(f\"{checkStyle(user_style.iloc[input_num])}\")\n",
    "print(f\"데이터분석 : {user_grade.iloc[input_num]['데이터분석']}, 머신러닝 : {user_grade.iloc[input_num]['머신러닝']}, 웹 : {user_grade.iloc[input_num]['웹']}, 디자인 : {user_grade.iloc[input_num]['디자인']}, 총합 : {user_grade_sum[input_num + 1]}\")\n",
    "print(f\"강점 : {user_grade.iloc[input_num].sort_values(ascending=False)[:2].index.tolist()}\")\n",
    "print()\n",
    "\n",
    "print(\"================================\")\n",
    "for idx, value in enumerate(top10):\n",
    "    value = value - 1\n",
    "    print()\n",
    "    print(f\"<추천 {idx + 1}순위 : {value}번째 학생>\")\n",
    "    print()\n",
    "    print(f\"{checkStyle(user_style.iloc[value])}\")\n",
    "    print(f\"데이터분석 : {user_grade.iloc[value]['데이터분석']}, 머신러닝 : {user_grade.iloc[value]['머신러닝']}, 웹 : {user_grade.iloc[value]['웹']}, 디자인 : {user_grade.iloc[value]['디자인']}, 총합 : {user_grade_sum[value + 1]}\")\n",
    "    print(f\"강점 : {user_grade.iloc[value].sort_values(ascending=False)[:2].index.tolist()}\")\n",
    "    print()\n",
    "    print(\"=========================\")"
   ]
  },
  {
   "cell_type": "code",
   "execution_count": null,
   "metadata": {},
   "outputs": [],
   "source": []
  }
 ]
}