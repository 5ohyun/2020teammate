{
 "metadata": {
  "language_info": {
   "codemirror_mode": {
    "name": "ipython",
    "version": 3
   },
   "file_extension": ".py",
   "mimetype": "text/x-python",
   "name": "python",
   "nbconvert_exporter": "python",
   "pygments_lexer": "ipython3",
   "version": "3.7.7-final"
  },
  "orig_nbformat": 2,
  "kernelspec": {
   "name": "python_defaultSpec_1599119238240",
   "display_name": "Python 3.7.7 64-bit ('base': conda)"
  }
 },
 "nbformat": 4,
 "nbformat_minor": 2,
 "cells": [
  {
   "cell_type": "markdown",
   "metadata": {},
   "source": [
    "# 성적 + 가치관 기반 추천시스템\n",
    "\n",
    "- 성적정보와 가치관정보를 모두 코사인유사도를 기반으로 분석하여 적절한 팀메이트 추천\n",
    "- 성적정보 : 총점은 비슷하고, 영역별 점수는 달라야함\n",
    "- 가치관정보 : 영역별 점수가 최대한 유사해야함"
   ]
  },
  {
   "cell_type": "code",
   "execution_count": 1,
   "metadata": {},
   "outputs": [
    {
     "output_type": "display_data",
     "data": {
      "text/plain": "     데이터분석  머신러닝  웹  디자인\n1        8     5  6    5\n2        6     8  4    3\n3        8     5  5    5\n4        7     9  6    1\n5        4     9  9    5\n..     ...   ... ..  ...\n156      5     7  7    7\n157      7     8  2    8\n158      7     9  7    8\n159      6     3  5    5\n160      5     6  8    9\n\n[160 rows x 4 columns]",
      "text/html": "<div>\n<style scoped>\n    .dataframe tbody tr th:only-of-type {\n        vertical-align: middle;\n    }\n\n    .dataframe tbody tr th {\n        vertical-align: top;\n    }\n\n    .dataframe thead th {\n        text-align: right;\n    }\n</style>\n<table border=\"1\" class=\"dataframe\">\n  <thead>\n    <tr style=\"text-align: right;\">\n      <th></th>\n      <th>데이터분석</th>\n      <th>머신러닝</th>\n      <th>웹</th>\n      <th>디자인</th>\n    </tr>\n  </thead>\n  <tbody>\n    <tr>\n      <th>1</th>\n      <td>8</td>\n      <td>5</td>\n      <td>6</td>\n      <td>5</td>\n    </tr>\n    <tr>\n      <th>2</th>\n      <td>6</td>\n      <td>8</td>\n      <td>4</td>\n      <td>3</td>\n    </tr>\n    <tr>\n      <th>3</th>\n      <td>8</td>\n      <td>5</td>\n      <td>5</td>\n      <td>5</td>\n    </tr>\n    <tr>\n      <th>4</th>\n      <td>7</td>\n      <td>9</td>\n      <td>6</td>\n      <td>1</td>\n    </tr>\n    <tr>\n      <th>5</th>\n      <td>4</td>\n      <td>9</td>\n      <td>9</td>\n      <td>5</td>\n    </tr>\n    <tr>\n      <th>...</th>\n      <td>...</td>\n      <td>...</td>\n      <td>...</td>\n      <td>...</td>\n    </tr>\n    <tr>\n      <th>156</th>\n      <td>5</td>\n      <td>7</td>\n      <td>7</td>\n      <td>7</td>\n    </tr>\n    <tr>\n      <th>157</th>\n      <td>7</td>\n      <td>8</td>\n      <td>2</td>\n      <td>8</td>\n    </tr>\n    <tr>\n      <th>158</th>\n      <td>7</td>\n      <td>9</td>\n      <td>7</td>\n      <td>8</td>\n    </tr>\n    <tr>\n      <th>159</th>\n      <td>6</td>\n      <td>3</td>\n      <td>5</td>\n      <td>5</td>\n    </tr>\n    <tr>\n      <th>160</th>\n      <td>5</td>\n      <td>6</td>\n      <td>8</td>\n      <td>9</td>\n    </tr>\n  </tbody>\n</table>\n<p>160 rows × 4 columns</p>\n</div>"
     },
     "metadata": {}
    },
    {
     "output_type": "display_data",
     "data": {
      "text/plain": "1      24\n2      21\n3      23\n4      23\n5      27\n       ..\n156    26\n157    25\n158    31\n159    19\n160    28\nLength: 160, dtype: int64"
     },
     "metadata": {}
    }
   ],
   "source": [
    "import numpy as np\n",
    "import pandas as pd\n",
    "\n",
    "# 점수 0-10점으로 랜덤 생성\n",
    "# 인원 수 160명\n",
    "user_grade = pd.DataFrame(np.random.randint(1,11,size=(160,4)) , index=range(1,161), columns=['데이터분석','머신러닝','웹','디자인'])\n",
    "# 각 유저(사용자)별 네 점수 총합\n",
    "user_grade_sum = user_grade.sum(axis=1)\n",
    "\n",
    "display(user_grade)\n",
    "display(user_grade_sum)"
   ]
  },
  {
   "cell_type": "code",
   "execution_count": 2,
   "metadata": {},
   "outputs": [
    {
     "output_type": "display_data",
     "data": {
      "text/plain": "     속도  결과  취업   밤  디테일  과정  창업  아침\n1    43  81  58  95   57  19  42   5\n2    59  91  74  39   41   9  26  61\n3    79  31  47  99   21  69  53   1\n4    88  28  56  71   12  72  44  29\n5    50  65  30  82   50  35  70  18\n..   ..  ..  ..  ..  ...  ..  ..  ..\n156  56  71  66  15   44  29  34  85\n157  57  22  43  47   43  78  57  53\n158  20  55  74  19   80  45  26  81\n159  91  35   2  29    9  65  98  71\n160  85  13  59  14   15  87  41  86\n\n[160 rows x 8 columns]",
      "text/html": "<div>\n<style scoped>\n    .dataframe tbody tr th:only-of-type {\n        vertical-align: middle;\n    }\n\n    .dataframe tbody tr th {\n        vertical-align: top;\n    }\n\n    .dataframe thead th {\n        text-align: right;\n    }\n</style>\n<table border=\"1\" class=\"dataframe\">\n  <thead>\n    <tr style=\"text-align: right;\">\n      <th></th>\n      <th>속도</th>\n      <th>결과</th>\n      <th>취업</th>\n      <th>밤</th>\n      <th>디테일</th>\n      <th>과정</th>\n      <th>창업</th>\n      <th>아침</th>\n    </tr>\n  </thead>\n  <tbody>\n    <tr>\n      <th>1</th>\n      <td>43</td>\n      <td>81</td>\n      <td>58</td>\n      <td>95</td>\n      <td>57</td>\n      <td>19</td>\n      <td>42</td>\n      <td>5</td>\n    </tr>\n    <tr>\n      <th>2</th>\n      <td>59</td>\n      <td>91</td>\n      <td>74</td>\n      <td>39</td>\n      <td>41</td>\n      <td>9</td>\n      <td>26</td>\n      <td>61</td>\n    </tr>\n    <tr>\n      <th>3</th>\n      <td>79</td>\n      <td>31</td>\n      <td>47</td>\n      <td>99</td>\n      <td>21</td>\n      <td>69</td>\n      <td>53</td>\n      <td>1</td>\n    </tr>\n    <tr>\n      <th>4</th>\n      <td>88</td>\n      <td>28</td>\n      <td>56</td>\n      <td>71</td>\n      <td>12</td>\n      <td>72</td>\n      <td>44</td>\n      <td>29</td>\n    </tr>\n    <tr>\n      <th>5</th>\n      <td>50</td>\n      <td>65</td>\n      <td>30</td>\n      <td>82</td>\n      <td>50</td>\n      <td>35</td>\n      <td>70</td>\n      <td>18</td>\n    </tr>\n    <tr>\n      <th>...</th>\n      <td>...</td>\n      <td>...</td>\n      <td>...</td>\n      <td>...</td>\n      <td>...</td>\n      <td>...</td>\n      <td>...</td>\n      <td>...</td>\n    </tr>\n    <tr>\n      <th>156</th>\n      <td>56</td>\n      <td>71</td>\n      <td>66</td>\n      <td>15</td>\n      <td>44</td>\n      <td>29</td>\n      <td>34</td>\n      <td>85</td>\n    </tr>\n    <tr>\n      <th>157</th>\n      <td>57</td>\n      <td>22</td>\n      <td>43</td>\n      <td>47</td>\n      <td>43</td>\n      <td>78</td>\n      <td>57</td>\n      <td>53</td>\n    </tr>\n    <tr>\n      <th>158</th>\n      <td>20</td>\n      <td>55</td>\n      <td>74</td>\n      <td>19</td>\n      <td>80</td>\n      <td>45</td>\n      <td>26</td>\n      <td>81</td>\n    </tr>\n    <tr>\n      <th>159</th>\n      <td>91</td>\n      <td>35</td>\n      <td>2</td>\n      <td>29</td>\n      <td>9</td>\n      <td>65</td>\n      <td>98</td>\n      <td>71</td>\n    </tr>\n    <tr>\n      <th>160</th>\n      <td>85</td>\n      <td>13</td>\n      <td>59</td>\n      <td>14</td>\n      <td>15</td>\n      <td>87</td>\n      <td>41</td>\n      <td>86</td>\n    </tr>\n  </tbody>\n</table>\n<p>160 rows × 8 columns</p>\n</div>"
     },
     "metadata": {}
    }
   ],
   "source": [
    "# 가치관점수 : \n",
    "# 디테일 <-> 속도 : 디테일을 중요시하는지 속도를 중요시하는지\n",
    "# 과정 <-> 결과 : 과정을 중요시하는지 결과를 중요시하는지\n",
    "# 창업 <-> 취업 : 창업을 꿈꾸는지 취업을 꿈꾸는지\n",
    "# 아침 <-> 밤 : 아침형인간인지 밤형 인간인지\n",
    "\n",
    "# 점수 0-10점으로 랜덤 생성\n",
    "user_style = pd.DataFrame(np.random.randint(1,101,size=(160,4)) , index=range(1,161), columns=['속도','결과','취업','밤'])\n",
    "user_style['디테일'] = 100 - user_style['속도']\n",
    "user_style['과정'] = 100 - user_style['결과']\n",
    "user_style['창업'] = 100 - user_style['취업']\n",
    "user_style['아침'] = 100 - user_style['밤']\n",
    "display(user_style)"
   ]
  },
  {
   "cell_type": "code",
   "execution_count": 3,
   "metadata": {},
   "outputs": [
    {
     "output_type": "execute_result",
     "data": {
      "text/plain": "     데이터분석  머신러닝  웹  디자인  속도  결과  취업   밤  디테일  과정  창업  아침\n1        8     5  6    5  43  81  58  95   57  19  42   5\n2        6     8  4    3  59  91  74  39   41   9  26  61\n3        8     5  5    5  79  31  47  99   21  69  53   1\n4        7     9  6    1  88  28  56  71   12  72  44  29\n5        4     9  9    5  50  65  30  82   50  35  70  18\n..     ...   ... ..  ...  ..  ..  ..  ..  ...  ..  ..  ..\n156      5     7  7    7  56  71  66  15   44  29  34  85\n157      7     8  2    8  57  22  43  47   43  78  57  53\n158      7     9  7    8  20  55  74  19   80  45  26  81\n159      6     3  5    5  91  35   2  29    9  65  98  71\n160      5     6  8    9  85  13  59  14   15  87  41  86\n\n[160 rows x 12 columns]",
      "text/html": "<div>\n<style scoped>\n    .dataframe tbody tr th:only-of-type {\n        vertical-align: middle;\n    }\n\n    .dataframe tbody tr th {\n        vertical-align: top;\n    }\n\n    .dataframe thead th {\n        text-align: right;\n    }\n</style>\n<table border=\"1\" class=\"dataframe\">\n  <thead>\n    <tr style=\"text-align: right;\">\n      <th></th>\n      <th>데이터분석</th>\n      <th>머신러닝</th>\n      <th>웹</th>\n      <th>디자인</th>\n      <th>속도</th>\n      <th>결과</th>\n      <th>취업</th>\n      <th>밤</th>\n      <th>디테일</th>\n      <th>과정</th>\n      <th>창업</th>\n      <th>아침</th>\n    </tr>\n  </thead>\n  <tbody>\n    <tr>\n      <th>1</th>\n      <td>8</td>\n      <td>5</td>\n      <td>6</td>\n      <td>5</td>\n      <td>43</td>\n      <td>81</td>\n      <td>58</td>\n      <td>95</td>\n      <td>57</td>\n      <td>19</td>\n      <td>42</td>\n      <td>5</td>\n    </tr>\n    <tr>\n      <th>2</th>\n      <td>6</td>\n      <td>8</td>\n      <td>4</td>\n      <td>3</td>\n      <td>59</td>\n      <td>91</td>\n      <td>74</td>\n      <td>39</td>\n      <td>41</td>\n      <td>9</td>\n      <td>26</td>\n      <td>61</td>\n    </tr>\n    <tr>\n      <th>3</th>\n      <td>8</td>\n      <td>5</td>\n      <td>5</td>\n      <td>5</td>\n      <td>79</td>\n      <td>31</td>\n      <td>47</td>\n      <td>99</td>\n      <td>21</td>\n      <td>69</td>\n      <td>53</td>\n      <td>1</td>\n    </tr>\n    <tr>\n      <th>4</th>\n      <td>7</td>\n      <td>9</td>\n      <td>6</td>\n      <td>1</td>\n      <td>88</td>\n      <td>28</td>\n      <td>56</td>\n      <td>71</td>\n      <td>12</td>\n      <td>72</td>\n      <td>44</td>\n      <td>29</td>\n    </tr>\n    <tr>\n      <th>5</th>\n      <td>4</td>\n      <td>9</td>\n      <td>9</td>\n      <td>5</td>\n      <td>50</td>\n      <td>65</td>\n      <td>30</td>\n      <td>82</td>\n      <td>50</td>\n      <td>35</td>\n      <td>70</td>\n      <td>18</td>\n    </tr>\n    <tr>\n      <th>...</th>\n      <td>...</td>\n      <td>...</td>\n      <td>...</td>\n      <td>...</td>\n      <td>...</td>\n      <td>...</td>\n      <td>...</td>\n      <td>...</td>\n      <td>...</td>\n      <td>...</td>\n      <td>...</td>\n      <td>...</td>\n    </tr>\n    <tr>\n      <th>156</th>\n      <td>5</td>\n      <td>7</td>\n      <td>7</td>\n      <td>7</td>\n      <td>56</td>\n      <td>71</td>\n      <td>66</td>\n      <td>15</td>\n      <td>44</td>\n      <td>29</td>\n      <td>34</td>\n      <td>85</td>\n    </tr>\n    <tr>\n      <th>157</th>\n      <td>7</td>\n      <td>8</td>\n      <td>2</td>\n      <td>8</td>\n      <td>57</td>\n      <td>22</td>\n      <td>43</td>\n      <td>47</td>\n      <td>43</td>\n      <td>78</td>\n      <td>57</td>\n      <td>53</td>\n    </tr>\n    <tr>\n      <th>158</th>\n      <td>7</td>\n      <td>9</td>\n      <td>7</td>\n      <td>8</td>\n      <td>20</td>\n      <td>55</td>\n      <td>74</td>\n      <td>19</td>\n      <td>80</td>\n      <td>45</td>\n      <td>26</td>\n      <td>81</td>\n    </tr>\n    <tr>\n      <th>159</th>\n      <td>6</td>\n      <td>3</td>\n      <td>5</td>\n      <td>5</td>\n      <td>91</td>\n      <td>35</td>\n      <td>2</td>\n      <td>29</td>\n      <td>9</td>\n      <td>65</td>\n      <td>98</td>\n      <td>71</td>\n    </tr>\n    <tr>\n      <th>160</th>\n      <td>5</td>\n      <td>6</td>\n      <td>8</td>\n      <td>9</td>\n      <td>85</td>\n      <td>13</td>\n      <td>59</td>\n      <td>14</td>\n      <td>15</td>\n      <td>87</td>\n      <td>41</td>\n      <td>86</td>\n    </tr>\n  </tbody>\n</table>\n<p>160 rows × 12 columns</p>\n</div>"
     },
     "metadata": {},
     "execution_count": 3
    }
   ],
   "source": [
    "pd.merge(user_grade,user_style, how=\"outer\", left_index=True, right_index=True)"
   ]
  },
  {
   "cell_type": "code",
   "execution_count": 4,
   "metadata": {
    "tags": []
   },
   "outputs": [
    {
     "output_type": "stream",
     "name": "stdout",
     "text": "[[1.         0.92747686 0.99726244 ... 0.95852253 0.98849522 0.9272746 ]\n [0.92747686 1.         0.93313119 ... 0.95246702 0.87177979 0.85375243]\n [0.99726244 0.93313119 1.         ... 0.95763968 0.98335253 0.91598991]\n ...\n [0.95852253 0.95246702 0.95763968 ... 1.         0.9477582  0.96989113]\n [0.98849522 0.87177979 0.98335253 ... 0.9477582  1.         0.95072788]\n [0.9272746  0.85375243 0.91598991 ... 0.96989113 0.95072788 1.        ]]\n"
    }
   ],
   "source": [
    "from sklearn.metrics.pairwise import cosine_similarity\n",
    "\n",
    "# 유저와 유저 간의 유사도\n",
    "user_based_collab = cosine_similarity(user_grade, user_grade)\n",
    "print(user_based_collab)"
   ]
  },
  {
   "cell_type": "code",
   "execution_count": 5,
   "metadata": {},
   "outputs": [
    {
     "output_type": "display_data",
     "data": {
      "text/plain": "1      0\n2      3\n3      1\n4      1\n5      3\n      ..\n156    2\n157    1\n158    7\n159    5\n160    4\nLength: 160, dtype: int64"
     },
     "metadata": {}
    }
   ],
   "source": [
    "# 1번 입장에서 진행, 각 점수에서 1번점수를 빼고 절대값을 씌워 1번 사용자의 총합과 얼마나 차이나는지 결정\n",
    "# 0.1을 곱한 이유? 그대로 사용하면 총합점수차의 영향력이 너무 커진다. \n",
    "grade_subs = np.abs(user_grade_sum - user_grade_sum[1]) \n",
    "\n",
    "display(grade_subs)"
   ]
  },
  {
   "cell_type": "code",
   "execution_count": 6,
   "metadata": {
    "tags": []
   },
   "outputs": [
    {
     "output_type": "stream",
     "name": "stdout",
     "text": "[[1.         0.85362083 0.85291461 ... 0.71709607 0.57163345 0.52188148]\n [0.85362083 1.         0.68119275 ... 0.87091209 0.65378207 0.71323769]\n [0.85291461 0.68119275 1.         ... 0.57154644 0.74982574 0.71985215]\n ...\n [0.71709607 0.87091209 0.57154644 ... 1.         0.60641293 0.76521722]\n [0.57163345 0.65378207 0.74982574 ... 0.60641293 1.         0.86069993]\n [0.52188148 0.71323769 0.71985215 ... 0.76521722 0.86069993 1.        ]]\n"
    }
   ],
   "source": [
    "user_based_collab_style = cosine_similarity(user_style, user_style)\n",
    "print(user_based_collab_style)"
   ]
  },
  {
   "cell_type": "code",
   "execution_count": 7,
   "metadata": {},
   "outputs": [
    {
     "output_type": "execute_result",
     "data": {
      "text/plain": "1      2.220446e-16\n2      3.073856e+00\n3      1.144348e+00\n4      1.109179e+00\n5      2.943185e+00\n           ...     \n156    2.214259e+00\n157    1.153739e+00\n158    7.241426e+00\n159    5.416862e+00\n160    4.405393e+00\nLength: 160, dtype: float64"
     },
     "metadata": {},
     "execution_count": 7
    }
   ],
   "source": [
    "# 높은 추천도를 가지려면?\n",
    "# user_based_collab 즉, 영역 유사도가 낮아야함 (각 영역별 수치가 최대한 달라야 하므로)\n",
    "# sub 즉, 총점수차가 낮아야함. (차이가 적어야 비슷한 실력이므로)\n",
    "# user_based_collab_style 즉, 가치관 유사도는 높아야함\n",
    "\n",
    "evaluation_value = user_based_collab[0] + grade_subs - user_based_collab_style[0]\n",
    "\n",
    "# 해당 값을 최종 지표로 사용한다.\n",
    "evaluation_value"
   ]
  },
  {
   "cell_type": "code",
   "execution_count": 8,
   "metadata": {},
   "outputs": [
    {
     "output_type": "execute_result",
     "data": {
      "text/plain": "[104, 87, 46, 1, 121, 66, 61, 150, 27, 110]"
     },
     "metadata": {},
     "execution_count": 8
    }
   ],
   "source": [
    "# 해당 지표가 낮은 순서대로 index 뽑아옴\n",
    "\n",
    "top10 = evaluation_value.sort_values()[:10].index.tolist()\n",
    "\n",
    "# 추천되는 인원의 인덱스 리스트\n",
    "top10"
   ]
  },
  {
   "cell_type": "code",
   "execution_count": 9,
   "metadata": {},
   "outputs": [],
   "source": [
    "# 주어진 유저가 어떤 스타일인지 확인\n",
    "\n",
    "def checkStyle(user):\n",
    "    style = []\n",
    "    if user['디테일'] > user['속도']:\n",
    "        style.append('디테일')\n",
    "    else:\n",
    "        style.append('속도')\n",
    "    if user['과정'] > user['결과']:\n",
    "        style.append('과정')\n",
    "    else:\n",
    "        style.append('결과')\n",
    "    if user['창업'] > user['취업']:\n",
    "        style.append('창업')\n",
    "    else:\n",
    "        style.append('취업')\n",
    "    if user['아침'] > user['밤']:\n",
    "        style.append('아침')\n",
    "    else:\n",
    "        style.append('밤')\n",
    "    return style"
   ]
  },
  {
   "cell_type": "code",
   "execution_count": 10,
   "metadata": {
    "tags": []
   },
   "outputs": [
    {
     "output_type": "stream",
     "name": "stdout",
     "text": "<나의 정보>\n\n['속도', '결과', '창업', '밤']\n데이터분석 : 4, 머신러닝 : 9, 웹 : 9, 디자인 : 5, 총합 : 27\n강점 : ['웹', '머신러닝']\n\n================================\n\n<추천 1순위 : 54번째 학생>\n\n['디테일', '결과', '취업', '밤']\n데이터분석 : 10, 머신러닝 : 8, 웹 : 4, 디자인 : 5, 총합 : 27\n강점 : ['데이터분석', '머신러닝']\n\n=========================\n\n<추천 2순위 : 138번째 학생>\n\n['디테일', '결과', '창업', '밤']\n데이터분석 : 9, 머신러닝 : 6, 웹 : 5, 디자인 : 8, 총합 : 28\n강점 : ['데이터분석', '디자인']\n\n=========================\n\n<추천 3순위 : 4번째 학생>\n\n['속도', '결과', '창업', '밤']\n데이터분석 : 4, 머신러닝 : 9, 웹 : 9, 디자인 : 5, 총합 : 27\n강점 : ['웹', '머신러닝']\n\n=========================\n\n<추천 4순위 : 129번째 학생>\n\n['디테일', '결과', '취업', '밤']\n데이터분석 : 10, 머신러닝 : 10, 웹 : 3, 디자인 : 4, 총합 : 27\n강점 : ['머신러닝', '데이터분석']\n\n=========================\n\n<추천 5순위 : 83번째 학생>\n\n['디테일', '과정', '취업', '아침']\n데이터분석 : 6, 머신러닝 : 9, 웹 : 2, 디자인 : 10, 총합 : 27\n강점 : ['디자인', '머신러닝']\n\n=========================\n\n<추천 6순위 : 59번째 학생>\n\n['속도', '결과', '취업', '밤']\n데이터분석 : 8, 머신러닝 : 8, 웹 : 6, 디자인 : 5, 총합 : 27\n강점 : ['머신러닝', '데이터분석']\n\n=========================\n\n<추천 7순위 : 151번째 학생>\n\n['디테일', '과정', '취업', '밤']\n데이터분석 : 10, 머신러닝 : 9, 웹 : 2, 디자인 : 6, 총합 : 27\n강점 : ['데이터분석', '머신러닝']\n\n=========================\n\n<추천 8순위 : 58번째 학생>\n\n['디테일', '결과', '창업', '밤']\n데이터분석 : 6, 머신러닝 : 1, 웹 : 9, 디자인 : 9, 총합 : 25\n강점 : ['디자인', '웹']\n\n=========================\n\n<추천 9순위 : 120번째 학생>\n\n['속도', '결과', '취업', '밤']\n데이터분석 : 8, 머신러닝 : 1, 웹 : 6, 디자인 : 9, 총합 : 24\n강점 : ['디자인', '데이터분석']\n\n=========================\n\n<추천 10순위 : 50번째 학생>\n\n['디테일', '결과', '창업', '밤']\n데이터분석 : 9, 머신러닝 : 3, 웹 : 9, 디자인 : 8, 총합 : 29\n강점 : ['웹', '데이터분석']\n\n=========================\n"
    }
   ],
   "source": [
    "# 같은 원리로 인풋 값에 대해 추천시스템 작동\n",
    "\n",
    "input_num = int(input()) - 1\n",
    "grade_subs = np.abs(user_grade_sum - user_grade_sum[input_num + 1]) * 0.1\n",
    "evaluation_value = user_based_collab[input_num] + grade_subs - user_based_collab_style[input_num]\n",
    "top10 = evaluation_value.sort_values()[:10].index.tolist()\n",
    "\n",
    "print(f\"<나의 정보>\")\n",
    "print()\n",
    "print(f\"{checkStyle(user_style.iloc[input_num])}\")\n",
    "print(f\"데이터분석 : {user_grade.iloc[input_num]['데이터분석']}, 머신러닝 : {user_grade.iloc[input_num]['머신러닝']}, 웹 : {user_grade.iloc[input_num]['웹']}, 디자인 : {user_grade.iloc[input_num]['디자인']}, 총합 : {user_grade_sum[input_num + 1]}\")\n",
    "print(f\"강점 : {user_grade.iloc[input_num].sort_values(ascending=False)[:2].index.tolist()}\")\n",
    "print()\n",
    "\n",
    "print(\"================================\")\n",
    "for idx, value in enumerate(top10):\n",
    "    value = value - 1\n",
    "    print()\n",
    "    print(f\"<추천 {idx + 1}순위 : {value}번째 학생>\")\n",
    "    print()\n",
    "    print(f\"{checkStyle(user_style.iloc[value])}\")\n",
    "    print(f\"데이터분석 : {user_grade.iloc[value]['데이터분석']}, 머신러닝 : {user_grade.iloc[value]['머신러닝']}, 웹 : {user_grade.iloc[value]['웹']}, 디자인 : {user_grade.iloc[value]['디자인']}, 총합 : {user_grade_sum[value + 1]}\")\n",
    "    print(f\"강점 : {user_grade.iloc[value].sort_values(ascending=False)[:2].index.tolist()}\")\n",
    "    print()\n",
    "    print(\"=========================\")"
   ]
  },
  {
   "cell_type": "code",
   "execution_count": null,
   "metadata": {},
   "outputs": [],
   "source": []
  }
 ]
}