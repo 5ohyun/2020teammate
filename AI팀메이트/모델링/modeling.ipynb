{
  "nbformat": 4,
  "nbformat_minor": 0,
  "metadata": {
    "colab": {
      "name": "it_news_content_category.ipynb",
      "provenance": [],
      "collapsed_sections": []
    },
    "kernelspec": {
      "name": "python3",
      "display_name": "Python 3"
    }
  },
  "cells": [
    {
      "cell_type": "code",
      "metadata": {
        "id": "64lb59mPm_lR",
        "colab_type": "code",
        "colab": {
          "base_uri": "https://localhost:8080/",
          "height": 34
        },
        "outputId": "e23100b6-1ee2-4b16-f81a-1dd9ce0f53e0"
      },
      "source": [
        "# from google.colab import drive\n",
        "# drive.mount('/content/drive')"
      ],
      "execution_count": 301,
      "outputs": [
        {
          "output_type": "stream",
          "text": [
            "Drive already mounted at /content/drive; to attempt to forcibly remount, call drive.mount(\"/content/drive\", force_remount=True).\n"
          ],
          "name": "stdout"
        }
      ]
    },
    {
      "cell_type": "code",
      "metadata": {
        "id": "8RM-eg0dEiao",
        "colab_type": "code",
        "colab": {}
      },
      "source": [
        "from tensorflow.keras.models import Sequential, Model\n",
        "from tensorflow.keras.layers import Embedding, Conv1D, GlobalMaxPooling1D, Dense, Flatten, Concatenate, Input, LSTM\n",
        "from tensorflow.keras.utils import to_categorical\n",
        "from tensorflow.keras.preprocessing.sequence import pad_sequences\n",
        "\n",
        "import pandas as pd"
      ],
      "execution_count": 117,
      "outputs": []
    },
    {
      "cell_type": "markdown",
      "metadata": {
        "id": "ydbQv_xFFQQN",
        "colab_type": "text"
      },
      "source": [
        "# 데이터 로드 및 전처리"
      ]
    },
    {
      "cell_type": "code",
      "metadata": {
        "id": "q7LgP7bOgmcX",
        "colab_type": "code",
        "colab": {
          "base_uri": "https://localhost:8080/",
          "height": 586
        },
        "outputId": "92147a72-c79f-4aef-9ecc-75f7bf502303"
      },
      "source": [
        "\n",
        "news_data = pd.read_csv('ITchosun_content.csv')\n",
        "\n",
        "news_data=news_data.rename(columns={\"small_category\":'category'})\n",
        "news_data=news_data.dropna(axis=0)\n",
        "news_data.reset_index(drop=True, inplace=True)\n",
        "news_data"
      ],
      "execution_count": 118,
      "outputs": [
        {
          "output_type": "execute_result",
          "data": {
            "text/plain": "                                                    link        date  \\\n0      http://it.chosun.com/site/data/html_dir/2020/0...  2020.09.15   \n1      http://it.chosun.com/site/data/html_dir/2020/0...  2020.09.15   \n2      http://it.chosun.com/site/data/html_dir/2020/0...  2020.09.15   \n3      http://it.chosun.com/site/data/html_dir/2020/0...  2020.09.15   \n4      http://it.chosun.com/site/data/html_dir/2020/0...  2020.09.15   \n...                                                  ...         ...   \n12415  http://it.chosun.com/site/data/html_dir/2019/0...  2019.03.07   \n12416  http://it.chosun.com/site/data/html_dir/2019/0...  2019.03.07   \n12417  http://it.chosun.com/site/data/html_dir/2019/0...  2019.03.07   \n12418  http://it.chosun.com/site/data/html_dir/2019/0...  2019.03.07   \n12419  http://it.chosun.com/site/data/html_dir/2019/0...  2019.03.07   \n\n                                                 content  \\\n0      [<div class=\"par\">투명 디스플레이 제조업체 레온이 일본 나리타국제공항...   \n1      [<div class=\"par\">한글과컴퓨터그룹<span style=\"font-si...   \n2      [<div class=\"par\">크라우드 펀딩 플랫폼 와디즈가 건강 먹거리를 선보일...   \n3      [<div class=\"par\">\"투싼은 현대차 SUV 중에서도 가장 중요한 차라고...   \n4      [<div class=\"par\">구글 클라우드 솔루션 전문기업 넷킬러가 구글 지스위...   \n...                                                  ...   \n12415  [<div class=\"par\">니콘이미징코리아는 7일 35㎜ 미러리스 Z시리즈를 ...   \n12416  [<div class=\"par\">KB국민은행은 1억5000만달러(약 1680억원) ...   \n12417  [<div class=\"par\">한국닌텐도는 오는 4월 12일 ‘닌텐도 라보(Nin...   \n12418  [<div class=\"par\">웹젠은 신작 모바일 다중접속역할수행게임(MMORPG...   \n12419  [<div class=\"par\"><span style=\"color:#0000ff;\"...   \n\n                                                     tag  \\\n0                               레온,투명디스플레이,초박형,나리타공항,이온몰   \n1                        한컴위드,한글과컴퓨터,네이버,한컴패스,애니핀,사설인증사업   \n2                   와디즈,한국야쿠르트,푸드스타트업,스타트업,스타트프레시업,인큐베이팅   \n3                        자동차,국산차,현대자동차,투싼,신형투싼,투싼디자인,이상엽   \n4      넷킬러,구글지스위트,넷킬러dlp,문서공유,외부링크공유,문서보안,문서현황파악,기밀유출...   \n...                                                  ...   \n12415              니콘이미징코리아,35mm,z7,z6,미러리스,가이드북,이벤트,캐시백   \n12416                       IT조선, itchosun, IT조선, 금융·핀테크   \n12417                                 한국닌텐도,라보,vr,닌텐도스위치   \n12418                                  마스터탱커,웹젠,모바일게임,중국   \n12419                          전자책,전자책시대,마이클브린,충동구매,클라우드   \n\n                                              title big_category   category  \n0                     레온, 日 나리타공항에 초박형 투명 디스플레이 설치            기업  반도체·디스플레이  \n1               한컴위드·네이버, '사설인증 사업 협력'을 위한 업무협약 체결            기업  컴퓨팅·IT서비스  \n2                      와디즈, 한국야쿠르트와 손잡고 푸드 스타트업 육성            기업      중기·벤처  \n3                              \"뒷차 램프 특이하면 현대차일 것\"           자동차         일반  \n4                  넷킬러, 구글 드라이브 문서 외부 공유 탐지 솔루션 선봬            기업  컴퓨팅·IT서비스  \n...                                             ...          ...        ...  \n12415                 니콘, 35mm 미러리스 Z7&Z6; 가이드북 출간            기업  PC·가전·모바일  \n12416           KB국민은행, 1680억원 규모 미국 가스발전소 PF 공동주선            기업     금융·핀테크  \n12417  닌텐도 스위치로 가상현실 게임 즐겨요…'라보(Labo) VR 키트' 4월 발매        게임·라이프     게임·인터넷  \n12418           모바일 MMORPG ‘마스터탱커’ 3월 11일 정식서비스 확정        게임·라이프     게임·인터넷  \n12419                        [전자책 시대] ②충동구매해도 후회없다         칼럼·해설    기자수첩·해설  \n\n[12420 rows x 7 columns]",
            "text/html": "<div>\n<style scoped>\n    .dataframe tbody tr th:only-of-type {\n        vertical-align: middle;\n    }\n\n    .dataframe tbody tr th {\n        vertical-align: top;\n    }\n\n    .dataframe thead th {\n        text-align: right;\n    }\n</style>\n<table border=\"1\" class=\"dataframe\">\n  <thead>\n    <tr style=\"text-align: right;\">\n      <th></th>\n      <th>link</th>\n      <th>date</th>\n      <th>content</th>\n      <th>tag</th>\n      <th>title</th>\n      <th>big_category</th>\n      <th>category</th>\n    </tr>\n  </thead>\n  <tbody>\n    <tr>\n      <th>0</th>\n      <td>http://it.chosun.com/site/data/html_dir/2020/0...</td>\n      <td>2020.09.15</td>\n      <td>[&lt;div class=\"par\"&gt;투명 디스플레이 제조업체 레온이 일본 나리타국제공항...</td>\n      <td>레온,투명디스플레이,초박형,나리타공항,이온몰</td>\n      <td>레온, 日 나리타공항에 초박형 투명 디스플레이 설치</td>\n      <td>기업</td>\n      <td>반도체·디스플레이</td>\n    </tr>\n    <tr>\n      <th>1</th>\n      <td>http://it.chosun.com/site/data/html_dir/2020/0...</td>\n      <td>2020.09.15</td>\n      <td>[&lt;div class=\"par\"&gt;한글과컴퓨터그룹&lt;span style=\"font-si...</td>\n      <td>한컴위드,한글과컴퓨터,네이버,한컴패스,애니핀,사설인증사업</td>\n      <td>한컴위드·네이버, '사설인증 사업 협력'을 위한 업무협약 체결</td>\n      <td>기업</td>\n      <td>컴퓨팅·IT서비스</td>\n    </tr>\n    <tr>\n      <th>2</th>\n      <td>http://it.chosun.com/site/data/html_dir/2020/0...</td>\n      <td>2020.09.15</td>\n      <td>[&lt;div class=\"par\"&gt;크라우드 펀딩 플랫폼 와디즈가 건강 먹거리를 선보일...</td>\n      <td>와디즈,한국야쿠르트,푸드스타트업,스타트업,스타트프레시업,인큐베이팅</td>\n      <td>와디즈, 한국야쿠르트와 손잡고 푸드 스타트업 육성</td>\n      <td>기업</td>\n      <td>중기·벤처</td>\n    </tr>\n    <tr>\n      <th>3</th>\n      <td>http://it.chosun.com/site/data/html_dir/2020/0...</td>\n      <td>2020.09.15</td>\n      <td>[&lt;div class=\"par\"&gt;\"투싼은 현대차 SUV 중에서도 가장 중요한 차라고...</td>\n      <td>자동차,국산차,현대자동차,투싼,신형투싼,투싼디자인,이상엽</td>\n      <td>\"뒷차 램프 특이하면 현대차일 것\"</td>\n      <td>자동차</td>\n      <td>일반</td>\n    </tr>\n    <tr>\n      <th>4</th>\n      <td>http://it.chosun.com/site/data/html_dir/2020/0...</td>\n      <td>2020.09.15</td>\n      <td>[&lt;div class=\"par\"&gt;구글 클라우드 솔루션 전문기업 넷킬러가 구글 지스위...</td>\n      <td>넷킬러,구글지스위트,넷킬러dlp,문서공유,외부링크공유,문서보안,문서현황파악,기밀유출...</td>\n      <td>넷킬러, 구글 드라이브 문서 외부 공유 탐지 솔루션 선봬</td>\n      <td>기업</td>\n      <td>컴퓨팅·IT서비스</td>\n    </tr>\n    <tr>\n      <th>...</th>\n      <td>...</td>\n      <td>...</td>\n      <td>...</td>\n      <td>...</td>\n      <td>...</td>\n      <td>...</td>\n      <td>...</td>\n    </tr>\n    <tr>\n      <th>12415</th>\n      <td>http://it.chosun.com/site/data/html_dir/2019/0...</td>\n      <td>2019.03.07</td>\n      <td>[&lt;div class=\"par\"&gt;니콘이미징코리아는 7일 35㎜ 미러리스 Z시리즈를 ...</td>\n      <td>니콘이미징코리아,35mm,z7,z6,미러리스,가이드북,이벤트,캐시백</td>\n      <td>니콘, 35mm 미러리스 Z7&amp;Z6; 가이드북 출간</td>\n      <td>기업</td>\n      <td>PC·가전·모바일</td>\n    </tr>\n    <tr>\n      <th>12416</th>\n      <td>http://it.chosun.com/site/data/html_dir/2019/0...</td>\n      <td>2019.03.07</td>\n      <td>[&lt;div class=\"par\"&gt;KB국민은행은 1억5000만달러(약 1680억원) ...</td>\n      <td>IT조선, itchosun, IT조선, 금융·핀테크</td>\n      <td>KB국민은행, 1680억원 규모 미국 가스발전소 PF 공동주선</td>\n      <td>기업</td>\n      <td>금융·핀테크</td>\n    </tr>\n    <tr>\n      <th>12417</th>\n      <td>http://it.chosun.com/site/data/html_dir/2019/0...</td>\n      <td>2019.03.07</td>\n      <td>[&lt;div class=\"par\"&gt;한국닌텐도는 오는 4월 12일 ‘닌텐도 라보(Nin...</td>\n      <td>한국닌텐도,라보,vr,닌텐도스위치</td>\n      <td>닌텐도 스위치로 가상현실 게임 즐겨요…'라보(Labo) VR 키트' 4월 발매</td>\n      <td>게임·라이프</td>\n      <td>게임·인터넷</td>\n    </tr>\n    <tr>\n      <th>12418</th>\n      <td>http://it.chosun.com/site/data/html_dir/2019/0...</td>\n      <td>2019.03.07</td>\n      <td>[&lt;div class=\"par\"&gt;웹젠은 신작 모바일 다중접속역할수행게임(MMORPG...</td>\n      <td>마스터탱커,웹젠,모바일게임,중국</td>\n      <td>모바일 MMORPG ‘마스터탱커’ 3월 11일 정식서비스 확정</td>\n      <td>게임·라이프</td>\n      <td>게임·인터넷</td>\n    </tr>\n    <tr>\n      <th>12419</th>\n      <td>http://it.chosun.com/site/data/html_dir/2019/0...</td>\n      <td>2019.03.07</td>\n      <td>[&lt;div class=\"par\"&gt;&lt;span style=\"color:#0000ff;\"...</td>\n      <td>전자책,전자책시대,마이클브린,충동구매,클라우드</td>\n      <td>[전자책 시대] ②충동구매해도 후회없다</td>\n      <td>칼럼·해설</td>\n      <td>기자수첩·해설</td>\n    </tr>\n  </tbody>\n</table>\n<p>12420 rows × 7 columns</p>\n</div>"
          },
          "metadata": {},
          "execution_count": 118
        }
      ]
    },
    {
      "cell_type": "code",
      "metadata": {
        "id": "sU1H11m_tAqU",
        "colab_type": "code",
        "colab": {
          "base_uri": "https://localhost:8080/",
          "height": 52
        },
        "outputId": "e169a73d-2027-4b00-a4cc-e9c2d2710ef0"
      },
      "source": [
        "news_data['big_category'].unique()"
      ],
      "execution_count": 119,
      "outputs": [
        {
          "output_type": "execute_result",
          "data": {
            "text/plain": "array(['기업', '자동차', '게임·라이프', '기술', '사람', '전체 기사', '뉴스', '칼럼·해설'],\n      dtype=object)"
          },
          "metadata": {},
          "execution_count": 119
        }
      ]
    },
    {
      "cell_type": "markdown",
      "metadata": {
        "id": "YkLbQsGT4DF7",
        "colab_type": "text"
      },
      "source": [
        "\n",
        "================================================\n",
        "\n",
        "<기술>\n",
        "- 공통 --> 일반\n",
        "- 기술 --> 과학·기술 , 보안 , 로봇·드론·VR\n",
        "\n",
        "=================================================\n",
        "\n",
        "<게임·라이프>\n",
        "- 문화/예술 --> 미디어·엔터테인먼트, 게임·인터넷\n",
        "- 사회 --> 유통·쇼핑, 키덜트·키즈, 일반\n",
        "\n",
        "=======================================================\n",
        "\n",
        "<기업>\n",
        "- 일반, 중기·벤처, 산업일반, 중공업 제거\n",
        "\n",
        "- 공통 --> 컴퓨팅·IT서비스, 방송·통신, 외신\n",
        "- 경제 --> 금융·핀테크\n",
        "- 건강 --> 헬스케어·바이오\n",
        "- 기술 --> PC·가전·모바일, 반도체·디스플레이\n"
      ]
    },
    {
      "cell_type": "code",
      "metadata": {
        "id": "WZbe5Gd3tLTc",
        "colab_type": "code",
        "colab": {
          "base_uri": "https://localhost:8080/",
          "height": 52
        },
        "outputId": "ba8a7718-2965-41be-e900-55388a2ce25c"
      },
      "source": [
        "tech=news_data[news_data['big_category'] == '기술'].index ################# 기술\n",
        "news_data.iloc[tech].category.unique()  # '과학·기술', '일반', '로봇·드론·VR', '보안'\n",
        "\n",
        "game_life=news_data[news_data['big_category'] == '게임·라이프'].index\n",
        "news_data.iloc[game_life].category.unique() #'미디어·엔터테인먼트', '게임·인터넷', '유통·쇼핑', '일반', '키덜트·키즈'\n",
        "\n",
        "company=news_data[news_data['big_category'] == '기업'].index \n",
        "news_data.iloc[company].category.unique() #'일반', '컴퓨팅·IT서비스', 'PC·가전·모바일', '금융·핀테크', '중기·벤처', '반도체·디스플레이', '헬스케어·바이오', '외신', '방송·통신', '산업일반', '중공업'\n"
      ],
      "execution_count": 120,
      "outputs": [
        {
          "output_type": "execute_result",
          "data": {
            "text/plain": "array(['반도체·디스플레이', '컴퓨팅·IT서비스', '중기·벤처', '금융·핀테크', '방송·통신', 'PC·가전·모바일',\n       '외신', '헬스케어·바이오', '중공업', '일반', '산업일반'], dtype=object)"
          },
          "metadata": {},
          "execution_count": 120
        }
      ]
    },
    {
      "cell_type": "markdown",
      "metadata": {
        "id": "pLOtfw6LICWm",
        "colab_type": "text"
      },
      "source": [
        "\n",
        "카테고리 삭제"
      ]
    },
    {
      "cell_type": "code",
      "metadata": {
        "id": "dQcLeMH3rBDO",
        "colab_type": "code",
        "colab": {}
      },
      "source": [
        "news_data['category'].value_counts()\n",
        "\n",
        "drop1=news_data[news_data['big_category'] == '자동차'].index\n",
        "news_data=news_data.drop(drop1)\n",
        "drop2=news_data[news_data['big_category'] == '칼럼·해설'].index\n",
        "news_data=news_data.drop(drop2)\n",
        "drop2=news_data[news_data['big_category'] == '사람'].index\n",
        "news_data=news_data.drop(drop2)\n",
        "drop2=news_data[news_data['big_category'] == '전체 기사'].index\n",
        "news_data=news_data.drop(drop2)\n",
        "drop2=news_data[news_data['big_category'] == '뉴스'].index\n",
        "news_data=news_data.drop(drop2)\n",
        "drop2 = news_data[(news_data['big_category']=='기업') & (news_data['category']=='일반')].index\n",
        "news_data=news_data.drop(drop2)\n",
        "drop2 = news_data[(news_data['big_category']=='기업') & (news_data['category']=='중기·벤처')].index\n",
        "news_data=news_data.drop(drop2)\n",
        "drop2 = news_data[(news_data['big_category']=='기업') & (news_data['category']=='산업일반')].index\n",
        "news_data=news_data.drop(drop2)\n",
        "drop2 = news_data[(news_data['big_category']=='기업') & (news_data['category']=='중공업')].index\n",
        "news_data=news_data.drop(drop2)\n",
        "\n",
        "\n",
        "news_data.reset_index(drop=True, inplace=True)"
      ],
      "execution_count": 121,
      "outputs": []
    },
    {
      "cell_type": "markdown",
      "metadata": {
        "id": "RbCdXGVQIIk2",
        "colab_type": "text"
      },
      "source": [
        "팀메이트에 맞는 카테고리로 변환 --> 교육이 없음ㅠㅠ"
      ]
    },
    {
      "cell_type": "code",
      "metadata": {
        "id": "5qjk1Hat3g5m",
        "colab_type": "code",
        "colab": {
          "base_uri": "https://localhost:8080/",
          "height": 105
        },
        "outputId": "a12b6b43-8c5e-4a30-d48a-678a8ee39649"
      },
      "source": [
        "import numpy as np\n",
        "\n",
        "news_data['team_category'] = np.nan\n",
        "news_data['team_category'][news_data[(news_data['big_category']=='기술') & (news_data['category']=='과학·기술')].index]='기술'\n",
        "\n",
        "news_data['team_category'][news_data[(news_data['big_category']=='기술') & (news_data['category']=='보안')].index] = '기술'\n",
        "news_data['team_category'][news_data[(news_data['big_category']=='기술') & (news_data['category']=='로봇·드론·VR')].index] = '기술'\n",
        "news_data['team_category'][news_data[(news_data['big_category']=='기술') & (news_data['category']=='일반')].index]= '공통'\n",
        "\n",
        "news_data['team_category'][news_data[(news_data['big_category']=='게임·라이프') & (news_data['category']=='미디어·엔터테인먼트')].index]= '문화/예술'\n",
        "news_data['team_category'][news_data[(news_data['big_category']=='게임·라이프') & (news_data['category']=='게임·인터넷')].index] = '문화/예술'\n",
        "news_data['team_category'][news_data[(news_data['big_category']=='게임·라이프') & (news_data['category']=='유통·쇼핑')].index] = '사회'\n",
        "news_data['team_category'][news_data[(news_data['big_category']=='게임·라이프') & (news_data['category']=='키덜트·키즈')].index] = '사회'\n",
        "news_data['team_category'][news_data[(news_data['big_category']=='게임·라이프') & (news_data['category']=='일반')].index] = '사회'\n",
        "\n",
        "news_data['team_category'][news_data[(news_data['big_category']=='기업') & (news_data['category']=='컴퓨팅·IT서비스')].index] = '공통'\n",
        "news_data['team_category'][news_data[(news_data['big_category']=='기업') & (news_data['category']=='방송·통신')].index] = '공통'\n",
        "news_data['team_category'][news_data[(news_data['big_category']=='기업') & (news_data['category']=='외신')].index]= '공통'\n",
        "news_data['team_category'][news_data[(news_data['big_category']=='기업') & (news_data['category']=='금융·핀테크')].index] = '경제'\n",
        "news_data['team_category'][news_data[(news_data['big_category']=='기업') & (news_data['category']=='헬스케어·바이오')].index]= '건강'\n",
        "news_data['team_category'][news_data[(news_data['big_category']=='기업') & (news_data['category']=='PC·가전·모바일')].index]= '기술'\n",
        "news_data['team_category'][news_data[(news_data['big_category']=='기업') & (news_data['category']=='반도체·디스플레이')].index] = '기술'\n",
        "\n"
      ],
      "execution_count": 122,
      "outputs": []
    },
    {
      "cell_type": "code",
      "metadata": {
        "id": "fBTVtijj6sBa",
        "colab_type": "code",
        "colab": {
          "base_uri": "https://localhost:8080/",
          "height": 228
        },
        "outputId": "373b48a7-c5c5-47cc-b9a2-a0fbaafba4ff"
      },
      "source": [
        "news_data.isna().sum()\n",
        "news_data['team_category']"
      ],
      "execution_count": 123,
      "outputs": [
        {
          "output_type": "execute_result",
          "data": {
            "text/plain": "0          기술\n1          공통\n2          공통\n3       문화/예술\n4          경제\n        ...  \n9127    문화/예술\n9128       기술\n9129       경제\n9130    문화/예술\n9131    문화/예술\nName: team_category, Length: 9132, dtype: object"
          },
          "metadata": {},
          "execution_count": 123
        }
      ]
    },
    {
      "cell_type": "code",
      "metadata": {
        "id": "xt_pnlx5r7W5",
        "colab_type": "code",
        "colab": {}
      },
      "source": [
        "# 카테고리 정수 인코딩\n",
        "\n",
        "category_list = pd.factorize(news_data['team_category'])[1]\n",
        "news_data['category'] = pd.factorize(news_data['team_category'])[0]\n",
        "\n",
        "news_data['category'].unique()\n",
        "category_list.nunique()\n",
        "\n",
        "news_data=news_data[['title','content','tag','category']]"
      ],
      "execution_count": 124,
      "outputs": []
    },
    {
      "cell_type": "code",
      "metadata": {
        "id": "DO0B-7ZCIhL3",
        "colab_type": "code",
        "colab": {
          "base_uri": "https://localhost:8080/",
          "height": 140
        },
        "outputId": "9927c1b8-8334-45b8-d679-c0abc07105c1"
      },
      "source": [
        "news_data['category'].value_counts() # 6개의 카테고리"
      ],
      "execution_count": 125,
      "outputs": [
        {
          "output_type": "execute_result",
          "data": {
            "text/plain": "1    2814\n0    2179\n2    1721\n3     970\n4     962\n5     486\nName: category, dtype: int64"
          },
          "metadata": {},
          "execution_count": 125
        }
      ]
    },
    {
      "cell_type": "markdown",
      "metadata": {
        "id": "uOrTchPaIhXb",
        "colab_type": "text"
      },
      "source": [
        "# 뉴스 제목, 기사 내용, 태그 내용 전처리"
      ]
    },
    {
      "cell_type": "code",
      "metadata": {
        "id": "y060Ub92G8kN",
        "colab_type": "code",
        "colab": {}
      },
      "source": [
        "# 뉴스 제목 전처리, 단어 이외의 문자들은 띄어쓰기로 변경\n",
        "news_data['title'] = news_data['title'].str.replace(\"[^\\w]\", \" \")"
      ],
      "execution_count": 126,
      "outputs": []
    },
    {
      "cell_type": "code",
      "metadata": {
        "id": "-0DWB3bJsvje",
        "colab_type": "code",
        "colab": {
          "base_uri": "https://localhost:8080/",
          "height": 193
        },
        "outputId": "61dee6f9-ceb2-47ae-e0a7-3058eba34bd3"
      },
      "source": [
        "#  기사 내용 전처리, 괄호 단어 뽑기, 괄호 제거, 기호 제거 후 띄어쓰기로 분리 준비\n",
        "\n",
        "import re\n",
        "p = re.compile(r'<.+?>') #html 구조 제거\n",
        "p2 = re.compile(r'\\(([^)]+)') # 괄호 뽑기\n",
        "p3 = re.compile( r'\\([^)]*\\)') # 괄호 제거\n",
        "\n",
        "news_data['regex_content'] = ''\n",
        "news_data['regex_blank'] = ''\n",
        "\n",
        "for n in range(len(news_data['content'])):\n",
        "  sub_content= re.sub(p,'',news_data['content'][n]) #html 구조 제거한 기사 문장\n",
        "  news_data['regex_blank'][n]= p2.findall(news_data['content'][n]) #괄호 단어 뽑은 리스트\n",
        "  sub_content = re.sub(p3,' ',sub_content) #괄호 제거한 기사 문장\n",
        "  sub_content = sub_content.replace(\"[^\\w]\", \" \")\n",
        "  news_data['regex_content'][n] = re.sub('[-=+,#/\\?:^$.@*\\\"※~&%ㆍ·∙!』▲\\\\’‘|\\(\\)\\[\\]\\<\\>`\\'…》]', ' ', sub_content)\n",
        "  "
      ],
      "execution_count": 127,
      "outputs": []
    },
    {
      "cell_type": "code",
      "metadata": {
        "id": "9uxnlK40GaNL",
        "colab_type": "code",
        "colab": {
          "base_uri": "https://localhost:8080/",
          "height": 105
        },
        "outputId": "36000b2b-d2d9-4ea9-e93d-1d1481ca96fd"
      },
      "source": [
        "#태그 전처리\n",
        "\n",
        "news_data['tag_1'] = ''\n",
        "\n",
        "for i in range(len(news_data['tag'])) :\n",
        "  news_data['tag_1'][i]= news_data['tag'][i].replace(',',' ')\n",
        "\n",
        "  # .replace(',',' ')"
      ],
      "execution_count": 128,
      "outputs": []
    },
    {
      "cell_type": "code",
      "metadata": {
        "id": "aX8NzK5qyd4S",
        "colab_type": "code",
        "colab": {
          "base_uri": "https://localhost:8080/",
          "height": 178
        },
        "outputId": "06012a7b-64fa-42e8-a8e7-e07ad4114dbf"
      },
      "source": [
        "news_data"
      ],
      "execution_count": 129,
      "outputs": [
        {
          "output_type": "execute_result",
          "data": {
            "text/plain": "                                                  title  \\\n0                         레온  日 나리타공항에 초박형 투명 디스플레이 설치    \n1                   한컴위드 네이버   사설인증 사업 협력 을 위한 업무협약 체결    \n2                      넷킬러  구글 드라이브 문서 외부 공유 탐지 솔루션 선봬    \n3      게임브리핑   겜밍아웃 하고 청소년 돕는  아이머게이머 챌린지  진행 외  9월 ...   \n4                                 부산은행  BNK핀테크랩  2기 출범    \n...                                                 ...   \n9127                    프린세스 커넥트  리 다이브  사전예약자 70만명 돌파    \n9128                      니콘  35mm 미러리스 Z7 Z6  가이드북 출간    \n9129                KB국민은행  1680억원 규모 미국 가스발전소 PF 공동주선    \n9130       닌텐도 스위치로 가상현실 게임 즐겨요  라보 Labo  VR 키트  4월 발매    \n9131                모바일 MMORPG  마스터탱커  3월 11일 정식서비스 확정    \n\n                                                content  \\\n0     [<div class=\"par\">투명 디스플레이 제조업체 레온이 일본 나리타국제공항...   \n1     [<div class=\"par\">한글과컴퓨터그룹<span style=\"font-si...   \n2     [<div class=\"par\">구글 클라우드 솔루션 전문기업 넷킬러가 구글 지스위...   \n3     [<div class=\"par\">한국게임산업협회는 게임의 선한 영향력을 알리는 ‘아...   \n4     [<div class=\"par\">BNK부산은행은 부산 해운대구 우동 '센탑'에서 핀...   \n...                                                 ...   \n9127  [<div class=\"par\">카카오게임즈는 사이게임즈에서 개발한 모바일 애니메이...   \n9128  [<div class=\"par\">니콘이미징코리아는 7일 35㎜ 미러리스 Z시리즈를 ...   \n9129  [<div class=\"par\">KB국민은행은 1억5000만달러(약 1680억원) ...   \n9130  [<div class=\"par\">한국닌텐도는 오는 4월 12일 ‘닌텐도 라보(Nin...   \n9131  [<div class=\"par\">웹젠은 신작 모바일 다중접속역할수행게임(MMORPG...   \n\n                                                    tag  category  \\\n0                              레온,투명디스플레이,초박형,나리타공항,이온몰         0   \n1                       한컴위드,한글과컴퓨터,네이버,한컴패스,애니핀,사설인증사업         1   \n2     넷킬러,구글지스위트,넷킬러dlp,문서공유,외부링크공유,문서보안,문서현황파악,기밀유출...         1   \n3                        게임브리핑,9월15일,아이머게이머챌린지,한국게임산업협회         2   \n4                       부산은행,핀테크랩,은행핀테크,bnk,핀테크,핀테크스타트업         3   \n...                                                 ...       ...   \n9127                                  카카오게임즈,모바일게임,프린세스         2   \n9128              니콘이미징코리아,35mm,z7,z6,미러리스,가이드북,이벤트,캐시백         0   \n9129                       IT조선, itchosun, IT조선, 금융·핀테크         3   \n9130                                 한국닌텐도,라보,vr,닌텐도스위치         2   \n9131                                  마스터탱커,웹젠,모바일게임,중국         2   \n\n                                          regex_content  \\\n0      투명 디스플레이 제조업체 레온이 일본 나리타국제공항에 자체 개발한 초박형 투명 디...   \n1      한글과컴퓨터그룹  계열사인  한컴위드 가  네이버 와 손잡고 사설인증 시장 선점을...   \n2      구글 클라우드 솔루션 전문기업 넷킬러가 구글 지스위트 를 도입한 기업이 중요한 자...   \n3      한국게임산업협회는 게임의 선한 영향력을 알리는  아이머게이머 챌린지  캠페인을 진...   \n4      BNK부산은행은 부산 해운대구 우동  센탑 에서 핀테크 스타트업을 전문 육성하기 ...   \n...                                                 ...   \n9127   카카오게임즈는 사이게임즈에서 개발한 모바일 애니메이션 RPG  프린세스 커넥트  ...   \n9128   니콘이미징코리아는 7일 35㎜ 미러리스 Z시리즈를 다룬  니콘 Z7 amp;Z6;...   \n9129   KB국민은행은 1억5000만달러  규모의 미국 가스복합화력발전소 프로젝트 파이낸스...   \n9130   한국닌텐도는 오는 4월 12일  닌텐도 라보   시리즈 신작  닌텐도 라보 VR ...   \n9131   웹젠은 신작 모바일 다중접속역할수행게임   마스터탱커 를 오는 3월 11일 국내 ...   \n\n                                            regex_blank  \\\n0                                                 [nit]   \n1       [이하 한컴그룹, 경기도 성남시 소재, PKI, AnyPIN, Hancom Pass]   \n2     [G Suite, Data Leak Prevention, 열람, 수정 등, 가능할 ...   \n3     [I'm a Gamer, 빈칸, D코인, 롤드컵, LPL, LEC, LCK, LCS...   \n4     [개인 해외 간편 송금, 온라인 보험 상품 추천, Agora Innovation, ...   \n...                                                 ...   \n9127                       [리:다이브, 리:다이브, 리:다이브, 게임 재화]   \n9128                         [20일 발표, Z7 20만원, Z6 15만원]   \n9129  [약 1680억원, PF, Ares-EIF, Oregon Clean Energy, ...   \n9130  [Nintendo Labo, Nintendo Labo: VR, Toy-Con, Ni...   \n9131                                           [MMORPG]   \n\n                                                  tag_1  \n0                              레온 투명디스플레이 초박형 나리타공항 이온몰  \n1                       한컴위드 한글과컴퓨터 네이버 한컴패스 애니핀 사설인증사업  \n2     넷킬러 구글지스위트 넷킬러dlp 문서공유 외부링크공유 문서보안 문서현황파악 기밀유출...  \n3                        게임브리핑 9월15일 아이머게이머챌린지 한국게임산업협회  \n4                       부산은행 핀테크랩 은행핀테크 bnk 핀테크 핀테크스타트업  \n...                                                 ...  \n9127                                  카카오게임즈 모바일게임 프린세스  \n9128              니콘이미징코리아 35mm z7 z6 미러리스 가이드북 이벤트 캐시백  \n9129                       IT조선  itchosun  IT조선  금융·핀테크  \n9130                                 한국닌텐도 라보 vr 닌텐도스위치  \n9131                                  마스터탱커 웹젠 모바일게임 중국  \n\n[9132 rows x 7 columns]",
            "text/html": "<div>\n<style scoped>\n    .dataframe tbody tr th:only-of-type {\n        vertical-align: middle;\n    }\n\n    .dataframe tbody tr th {\n        vertical-align: top;\n    }\n\n    .dataframe thead th {\n        text-align: right;\n    }\n</style>\n<table border=\"1\" class=\"dataframe\">\n  <thead>\n    <tr style=\"text-align: right;\">\n      <th></th>\n      <th>title</th>\n      <th>content</th>\n      <th>tag</th>\n      <th>category</th>\n      <th>regex_content</th>\n      <th>regex_blank</th>\n      <th>tag_1</th>\n    </tr>\n  </thead>\n  <tbody>\n    <tr>\n      <th>0</th>\n      <td>레온  日 나리타공항에 초박형 투명 디스플레이 설치</td>\n      <td>[&lt;div class=\"par\"&gt;투명 디스플레이 제조업체 레온이 일본 나리타국제공항...</td>\n      <td>레온,투명디스플레이,초박형,나리타공항,이온몰</td>\n      <td>0</td>\n      <td>투명 디스플레이 제조업체 레온이 일본 나리타국제공항에 자체 개발한 초박형 투명 디...</td>\n      <td>[nit]</td>\n      <td>레온 투명디스플레이 초박형 나리타공항 이온몰</td>\n    </tr>\n    <tr>\n      <th>1</th>\n      <td>한컴위드 네이버   사설인증 사업 협력 을 위한 업무협약 체결</td>\n      <td>[&lt;div class=\"par\"&gt;한글과컴퓨터그룹&lt;span style=\"font-si...</td>\n      <td>한컴위드,한글과컴퓨터,네이버,한컴패스,애니핀,사설인증사업</td>\n      <td>1</td>\n      <td>한글과컴퓨터그룹  계열사인  한컴위드 가  네이버 와 손잡고 사설인증 시장 선점을...</td>\n      <td>[이하 한컴그룹, 경기도 성남시 소재, PKI, AnyPIN, Hancom Pass]</td>\n      <td>한컴위드 한글과컴퓨터 네이버 한컴패스 애니핀 사설인증사업</td>\n    </tr>\n    <tr>\n      <th>2</th>\n      <td>넷킬러  구글 드라이브 문서 외부 공유 탐지 솔루션 선봬</td>\n      <td>[&lt;div class=\"par\"&gt;구글 클라우드 솔루션 전문기업 넷킬러가 구글 지스위...</td>\n      <td>넷킬러,구글지스위트,넷킬러dlp,문서공유,외부링크공유,문서보안,문서현황파악,기밀유출...</td>\n      <td>1</td>\n      <td>구글 클라우드 솔루션 전문기업 넷킬러가 구글 지스위트 를 도입한 기업이 중요한 자...</td>\n      <td>[G Suite, Data Leak Prevention, 열람, 수정 등, 가능할 ...</td>\n      <td>넷킬러 구글지스위트 넷킬러dlp 문서공유 외부링크공유 문서보안 문서현황파악 기밀유출...</td>\n    </tr>\n    <tr>\n      <th>3</th>\n      <td>게임브리핑   겜밍아웃 하고 청소년 돕는  아이머게이머 챌린지  진행 외  9월 ...</td>\n      <td>[&lt;div class=\"par\"&gt;한국게임산업협회는 게임의 선한 영향력을 알리는 ‘아...</td>\n      <td>게임브리핑,9월15일,아이머게이머챌린지,한국게임산업협회</td>\n      <td>2</td>\n      <td>한국게임산업협회는 게임의 선한 영향력을 알리는  아이머게이머 챌린지  캠페인을 진...</td>\n      <td>[I'm a Gamer, 빈칸, D코인, 롤드컵, LPL, LEC, LCK, LCS...</td>\n      <td>게임브리핑 9월15일 아이머게이머챌린지 한국게임산업협회</td>\n    </tr>\n    <tr>\n      <th>4</th>\n      <td>부산은행  BNK핀테크랩  2기 출범</td>\n      <td>[&lt;div class=\"par\"&gt;BNK부산은행은 부산 해운대구 우동 '센탑'에서 핀...</td>\n      <td>부산은행,핀테크랩,은행핀테크,bnk,핀테크,핀테크스타트업</td>\n      <td>3</td>\n      <td>BNK부산은행은 부산 해운대구 우동  센탑 에서 핀테크 스타트업을 전문 육성하기 ...</td>\n      <td>[개인 해외 간편 송금, 온라인 보험 상품 추천, Agora Innovation, ...</td>\n      <td>부산은행 핀테크랩 은행핀테크 bnk 핀테크 핀테크스타트업</td>\n    </tr>\n    <tr>\n      <th>...</th>\n      <td>...</td>\n      <td>...</td>\n      <td>...</td>\n      <td>...</td>\n      <td>...</td>\n      <td>...</td>\n      <td>...</td>\n    </tr>\n    <tr>\n      <th>9127</th>\n      <td>프린세스 커넥트  리 다이브  사전예약자 70만명 돌파</td>\n      <td>[&lt;div class=\"par\"&gt;카카오게임즈는 사이게임즈에서 개발한 모바일 애니메이...</td>\n      <td>카카오게임즈,모바일게임,프린세스</td>\n      <td>2</td>\n      <td>카카오게임즈는 사이게임즈에서 개발한 모바일 애니메이션 RPG  프린세스 커넥트  ...</td>\n      <td>[리:다이브, 리:다이브, 리:다이브, 게임 재화]</td>\n      <td>카카오게임즈 모바일게임 프린세스</td>\n    </tr>\n    <tr>\n      <th>9128</th>\n      <td>니콘  35mm 미러리스 Z7 Z6  가이드북 출간</td>\n      <td>[&lt;div class=\"par\"&gt;니콘이미징코리아는 7일 35㎜ 미러리스 Z시리즈를 ...</td>\n      <td>니콘이미징코리아,35mm,z7,z6,미러리스,가이드북,이벤트,캐시백</td>\n      <td>0</td>\n      <td>니콘이미징코리아는 7일 35㎜ 미러리스 Z시리즈를 다룬  니콘 Z7 amp;Z6;...</td>\n      <td>[20일 발표, Z7 20만원, Z6 15만원]</td>\n      <td>니콘이미징코리아 35mm z7 z6 미러리스 가이드북 이벤트 캐시백</td>\n    </tr>\n    <tr>\n      <th>9129</th>\n      <td>KB국민은행  1680억원 규모 미국 가스발전소 PF 공동주선</td>\n      <td>[&lt;div class=\"par\"&gt;KB국민은행은 1억5000만달러(약 1680억원) ...</td>\n      <td>IT조선, itchosun, IT조선, 금융·핀테크</td>\n      <td>3</td>\n      <td>KB국민은행은 1억5000만달러  규모의 미국 가스복합화력발전소 프로젝트 파이낸스...</td>\n      <td>[약 1680억원, PF, Ares-EIF, Oregon Clean Energy, ...</td>\n      <td>IT조선  itchosun  IT조선  금융·핀테크</td>\n    </tr>\n    <tr>\n      <th>9130</th>\n      <td>닌텐도 스위치로 가상현실 게임 즐겨요  라보 Labo  VR 키트  4월 발매</td>\n      <td>[&lt;div class=\"par\"&gt;한국닌텐도는 오는 4월 12일 ‘닌텐도 라보(Nin...</td>\n      <td>한국닌텐도,라보,vr,닌텐도스위치</td>\n      <td>2</td>\n      <td>한국닌텐도는 오는 4월 12일  닌텐도 라보   시리즈 신작  닌텐도 라보 VR ...</td>\n      <td>[Nintendo Labo, Nintendo Labo: VR, Toy-Con, Ni...</td>\n      <td>한국닌텐도 라보 vr 닌텐도스위치</td>\n    </tr>\n    <tr>\n      <th>9131</th>\n      <td>모바일 MMORPG  마스터탱커  3월 11일 정식서비스 확정</td>\n      <td>[&lt;div class=\"par\"&gt;웹젠은 신작 모바일 다중접속역할수행게임(MMORPG...</td>\n      <td>마스터탱커,웹젠,모바일게임,중국</td>\n      <td>2</td>\n      <td>웹젠은 신작 모바일 다중접속역할수행게임   마스터탱커 를 오는 3월 11일 국내 ...</td>\n      <td>[MMORPG]</td>\n      <td>마스터탱커 웹젠 모바일게임 중국</td>\n    </tr>\n  </tbody>\n</table>\n<p>9132 rows × 7 columns</p>\n</div>"
          },
          "metadata": {},
          "execution_count": 129
        }
      ]
    },
    {
      "cell_type": "code",
      "metadata": {
        "id": "lW5gzX63JK7G",
        "colab_type": "code",
        "colab": {}
      },
      "source": [
        "# 메캅 사용 X -> split으로 대체\n",
        "########################################## ########################################## ########################################## \n",
        "# ######################                     MECAB 설치 https://sosomemo.tistory.com/31                     ###################### \n",
        "# ########################################## ########################################## ########################################## \n",
        "\n",
        "# !apt-get update\n",
        "# !apt-get install g++ openjdk-8-jdk\n",
        "# !pip3 install konlpy JPype1-py3\n",
        "# !bash <(curl -s https://raw.githubusercontent.com/konlpy/konlpy/master/scripts/mecab.sh)"
      ],
      "execution_count": 130,
      "outputs": []
    },
    {
      "cell_type": "code",
      "metadata": {
        "id": "wjSInQPRa22i",
        "colab_type": "code",
        "colab": {}
      },
      "source": [
        "news_data['all']=news_data['title'] +' ' + news_data['tag_1'] + ' ' + news_data['regex_content']\n",
        "news_data['all']\n",
        "\n",
        "# 불용어 제거, 토큰화 진행 --> 띄어쓰기 기준으로 문장 잘라 list에 담기\n",
        "stopwords = ['','▲','밝혔다','있는','의','관련','예정이다','주로','이를','보면','두고','줄','게','역시', '각','볼','다', '등이다','수도','매우','중요한','보였다','혹은','등과','이라는', '관한','itchosun','한다고','이어','후','매일', '여부를','등은','이들은','그동안','했다','할', '◇','시','모든','현재', '1','주요', '이후','설명했다','전','경우','내','하지만','그는', '같은', '총','따라', '가장','것이','대비','관계자는','있도록','최근','기존','한다','것이다','라고','더','중','따르면', '다양한','말했다','이번','것으로','한','이에','다만','하고','또','함께','수','를','을','등','으로','것','약','가','이','즉','은','될','큰','는','로','및','에','그','곧','기자','chosunbiz','며','우리','com','위해','아니라','고','바','와','과','있다','통해','뒤','해','밖에','대한','보다','하는','위한','등을']\n",
        "\n",
        "\n",
        "X_token = []\n",
        "for stc in news_data['all']:\n",
        "    token = []\n",
        "    words = stc.split()\n",
        "    for word in words:\n",
        "        if word not in stopwords:\n",
        "            token.append(word)\n",
        "    X_token.append(token)\n"
      ],
      "execution_count": 131,
      "outputs": []
    },
    {
      "cell_type": "code",
      "metadata": {
        "id": "wxkHD6uc3D55",
        "colab_type": "code",
        "colab": {
          "base_uri": "https://localhost:8080/",
          "height": 34
        },
        "outputId": "dba1052b-3742-4ff3-87f4-8507582b61fb"
      },
      "source": [
        "len(X_token),len(news_data['category'])"
      ],
      "execution_count": 132,
      "outputs": [
        {
          "output_type": "execute_result",
          "data": {
            "text/plain": "(9132, 9132)"
          },
          "metadata": {},
          "execution_count": 132
        }
      ]
    },
    {
      "cell_type": "code",
      "execution_count": 133,
      "metadata": {},
      "outputs": [
        {
          "output_type": "execute_result",
          "data": {
            "text/plain": "0       레온  日 나리타공항에 초박형 투명 디스플레이 설치  레온 투명디스플레이 초박형 나...\n1       한컴위드 네이버   사설인증 사업 협력 을 위한 업무협약 체결  한컴위드 한글과컴퓨...\n2       넷킬러  구글 드라이브 문서 외부 공유 탐지 솔루션 선봬  넷킬러 구글지스위트 넷킬...\n3        게임브리핑   겜밍아웃 하고 청소년 돕는  아이머게이머 챌린지  진행 외  9월 ...\n4       부산은행  BNK핀테크랩  2기 출범  부산은행 핀테크랩 은행핀테크 bnk 핀테크 ...\n                              ...                        \n9127     프린세스 커넥트  리 다이브  사전예약자 70만명 돌파  카카오게임즈 모바일게임 ...\n9128    니콘  35mm 미러리스 Z7 Z6  가이드북 출간  니콘이미징코리아 35mm z7...\n9129    KB국민은행  1680억원 규모 미국 가스발전소 PF 공동주선  IT조선  itch...\n9130    닌텐도 스위치로 가상현실 게임 즐겨요  라보 Labo  VR 키트  4월 발매  한...\n9131    모바일 MMORPG  마스터탱커  3월 11일 정식서비스 확정  마스터탱커 웹젠 모...\nName: all, Length: 9132, dtype: object"
          },
          "metadata": {},
          "execution_count": 133
        }
      ],
      "source": [
        "news_data['all']"
      ]
    },
    {
      "cell_type": "markdown",
      "metadata": {
        "id": "qfID9DzeKQHN",
        "colab_type": "text"
      },
      "source": [
        "# test, trainset / classification fitting"
      ]
    },
    {
      "cell_type": "code",
      "metadata": {
        "id": "2frf1Kn8G9gC",
        "colab_type": "code",
        "colab": {
          "base_uri": "https://localhost:8080/",
          "height": 52
        },
        "outputId": "e8796b56-a661-4290-fa76-471367698cbc",
        "tags": []
      },
      "source": [
        "from sklearn.model_selection import train_test_split\n",
        "\n",
        "# split하면서 shuffle 적용\n",
        "X_train, X_test, y_train, y_test = train_test_split(X_token, news_data['category'], test_size=0.2,shuffle=True)\n",
        "\n",
        "# 카테고리 OnehotVector\n",
        "y_train = to_categorical(y_train)\n",
        "y_test = to_categorical(y_test)\n",
        "\n",
        "print(len(y_train[0]))\n",
        "print(len(y_test[0]))\n",
        "\n",
        "# y_train.nunique(), y_test.nunique()"
      ],
      "execution_count": 134,
      "outputs": [
        {
          "output_type": "stream",
          "name": "stdout",
          "text": "6\n6\n"
        }
      ]
    },
    {
      "cell_type": "code",
      "metadata": {
        "id": "z2TdBHcwHA7D",
        "colab_type": "code",
        "colab": {}
      },
      "source": [
        "from tensorflow.keras.preprocessing.text import Tokenizer\n",
        "\n",
        "# 헤드라인 정수인코딩\n",
        "tokenizer = Tokenizer(150000) # 가장 빈도가 높은 150000개의 단어만 선택하도록 함\n",
        "tokenizer.fit_on_texts(X_train) #vocabulary 만들기\n",
        "X_train = tokenizer.texts_to_sequences(X_train) # vocabulary랑 매칭해 인덱스로 나타내기, 리스트 변환\n",
        "X_test = tokenizer.texts_to_sequences(X_test)\n",
        "\n",
        "word_index = tokenizer.word_index\n",
        "\n",
        "import json\n",
        "json = json.dumps(word_index)\n",
        "f3 = open(\"wordIndex.json\", \"w\")\n",
        "f3.write(json)\n",
        "f3.close()"
      ],
      "execution_count": 135,
      "outputs": []
    },
    {
      "cell_type": "code",
      "metadata": {
        "id": "nBKVMIAPHCXQ",
        "colab_type": "code",
        "colab": {
          "base_uri": "https://localhost:8080/",
          "height": 52
        },
        "outputId": "306075b3-817b-42dd-ee3c-30fd85df6220",
        "tags": []
      },
      "source": [
        "print(len(tokenizer.word_index))\n",
        "\n",
        "wc = 0\n",
        "for word, word_count in tokenizer.word_counts.items():\n",
        "    if word_count <= 2:\n",
        "        wc += 1\n",
        "\n",
        "print(wc)"
      ],
      "execution_count": 136,
      "outputs": [
        {
          "output_type": "stream",
          "name": "stdout",
          "text": "261052\n190024\n"
        }
      ]
    },
    {
      "cell_type": "code",
      "metadata": {
        "id": "BdmyLiGHHEUx",
        "colab_type": "code",
        "colab": {
          "base_uri": "https://localhost:8080/",
          "height": 265
        },
        "outputId": "5eef0ca0-80ab-409f-e1b1-47a7e6b1f13b"
      },
      "source": [
        "import matplotlib.pyplot as plt # 500단어\n",
        "\n",
        "len_stc = []\n",
        "for data in X_train:\n",
        "    len_stc.append(len(data))\n",
        "\n",
        "y, x, _ = plt.hist(len_stc, bins=100)\n",
        "plt.show()"
      ],
      "execution_count": 137,
      "outputs": [
        {
          "output_type": "display_data",
          "data": {
            "text/plain": "<Figure size 432x288 with 1 Axes>",
            "image/svg+xml": "<?xml version=\"1.0\" encoding=\"utf-8\" standalone=\"no\"?>\r\n<!DOCTYPE svg PUBLIC \"-//W3C//DTD SVG 1.1//EN\"\r\n  \"http://www.w3.org/Graphics/SVG/1.1/DTD/svg11.dtd\">\r\n<!-- Created with matplotlib (https://matplotlib.org/) -->\r\n<svg height=\"248.518125pt\" version=\"1.1\" viewBox=\"0 0 392.401094 248.518125\" width=\"392.401094pt\" xmlns=\"http://www.w3.org/2000/svg\" xmlns:xlink=\"http://www.w3.org/1999/xlink\">\r\n <defs>\r\n  <style type=\"text/css\">\r\n*{stroke-linecap:butt;stroke-linejoin:round;}\r\n  </style>\r\n </defs>\r\n <g id=\"figure_1\">\r\n  <g id=\"patch_1\">\r\n   <path d=\"M -0 248.518125 \r\nL 392.401094 248.518125 \r\nL 392.401094 0 \r\nL -0 0 \r\nz\r\n\" style=\"fill:none;\"/>\r\n  </g>\r\n  <g id=\"axes_1\">\r\n   <g id=\"patch_2\">\r\n    <path d=\"M 39.65 224.64 \r\nL 374.45 224.64 \r\nL 374.45 7.2 \r\nL 39.65 7.2 \r\nz\r\n\" style=\"fill:#ffffff;\"/>\r\n   </g>\r\n   <g id=\"patch_3\">\r\n    <path clip-path=\"url(#p13dd545502)\" d=\"M 54.868182 224.64 \r\nL 57.911818 224.64 \r\nL 57.911818 222.757403 \r\nL 54.868182 222.757403 \r\nz\r\n\" style=\"fill:#1f77b4;\"/>\r\n   </g>\r\n   <g id=\"patch_4\">\r\n    <path clip-path=\"url(#p13dd545502)\" d=\"M 57.911818 224.64 \r\nL 60.955455 224.64 \r\nL 60.955455 207.905801 \r\nL 57.911818 207.905801 \r\nz\r\n\" style=\"fill:#1f77b4;\"/>\r\n   </g>\r\n   <g id=\"patch_5\">\r\n    <path clip-path=\"url(#p13dd545502)\" d=\"M 60.955455 224.64 \r\nL 63.999091 224.64 \r\nL 63.999091 154.565541 \r\nL 60.955455 154.565541 \r\nz\r\n\" style=\"fill:#1f77b4;\"/>\r\n   </g>\r\n   <g id=\"patch_6\">\r\n    <path clip-path=\"url(#p13dd545502)\" d=\"M 63.999091 224.64 \r\nL 67.042727 224.64 \r\nL 67.042727 64.410043 \r\nL 63.999091 64.410043 \r\nz\r\n\" style=\"fill:#1f77b4;\"/>\r\n   </g>\r\n   <g id=\"patch_7\">\r\n    <path clip-path=\"url(#p13dd545502)\" d=\"M 67.042727 224.64 \r\nL 70.086364 224.64 \r\nL 70.086364 17.554286 \r\nL 67.042727 17.554286 \r\nz\r\n\" style=\"fill:#1f77b4;\"/>\r\n   </g>\r\n   <g id=\"patch_8\">\r\n    <path clip-path=\"url(#p13dd545502)\" d=\"M 70.086364 224.64 \r\nL 73.13 224.64 \r\nL 73.13 32.824242 \r\nL 70.086364 32.824242 \r\nz\r\n\" style=\"fill:#1f77b4;\"/>\r\n   </g>\r\n   <g id=\"patch_9\">\r\n    <path clip-path=\"url(#p13dd545502)\" d=\"M 73.13 224.64 \r\nL 76.173636 224.64 \r\nL 76.173636 70.267013 \r\nL 73.13 70.267013 \r\nz\r\n\" style=\"fill:#1f77b4;\"/>\r\n   </g>\r\n   <g id=\"patch_10\">\r\n    <path clip-path=\"url(#p13dd545502)\" d=\"M 76.173636 224.64 \r\nL 79.217273 224.64 \r\nL 79.217273 99.342684 \r\nL 76.173636 99.342684 \r\nz\r\n\" style=\"fill:#1f77b4;\"/>\r\n   </g>\r\n   <g id=\"patch_11\">\r\n    <path clip-path=\"url(#p13dd545502)\" d=\"M 79.217273 224.64 \r\nL 82.260909 224.64 \r\nL 82.260909 129.882597 \r\nL 79.217273 129.882597 \r\nz\r\n\" style=\"fill:#1f77b4;\"/>\r\n   </g>\r\n   <g id=\"patch_12\">\r\n    <path clip-path=\"url(#p13dd545502)\" d=\"M 82.260909 224.64 \r\nL 85.304545 224.64 \r\nL 85.304545 155.820606 \r\nL 82.260909 155.820606 \r\nz\r\n\" style=\"fill:#1f77b4;\"/>\r\n   </g>\r\n   <g id=\"patch_13\">\r\n    <path clip-path=\"url(#p13dd545502)\" d=\"M 85.304545 224.64 \r\nL 88.348182 224.64 \r\nL 88.348182 161.468398 \r\nL 85.304545 161.468398 \r\nz\r\n\" style=\"fill:#1f77b4;\"/>\r\n   </g>\r\n   <g id=\"patch_14\">\r\n    <path clip-path=\"url(#p13dd545502)\" d=\"M 88.348182 224.64 \r\nL 91.391818 224.64 \r\nL 91.391818 172.554805 \r\nL 88.348182 172.554805 \r\nz\r\n\" style=\"fill:#1f77b4;\"/>\r\n   </g>\r\n   <g id=\"patch_15\">\r\n    <path clip-path=\"url(#p13dd545502)\" d=\"M 91.391818 224.64 \r\nL 94.435455 224.64 \r\nL 94.435455 184.268745 \r\nL 91.391818 184.268745 \r\nz\r\n\" style=\"fill:#1f77b4;\"/>\r\n   </g>\r\n   <g id=\"patch_16\">\r\n    <path clip-path=\"url(#p13dd545502)\" d=\"M 94.435455 224.64 \r\nL 97.479091 224.64 \r\nL 97.479091 190.544069 \r\nL 94.435455 190.544069 \r\nz\r\n\" style=\"fill:#1f77b4;\"/>\r\n   </g>\r\n   <g id=\"patch_17\">\r\n    <path clip-path=\"url(#p13dd545502)\" d=\"M 97.479091 224.64 \r\nL 100.522727 224.64 \r\nL 100.522727 190.962424 \r\nL 97.479091 190.962424 \r\nz\r\n\" style=\"fill:#1f77b4;\"/>\r\n   </g>\r\n   <g id=\"patch_18\">\r\n    <path clip-path=\"url(#p13dd545502)\" d=\"M 100.522727 224.64 \r\nL 103.566364 224.64 \r\nL 103.566364 195.982684 \r\nL 100.522727 195.982684 \r\nz\r\n\" style=\"fill:#1f77b4;\"/>\r\n   </g>\r\n   <g id=\"patch_19\">\r\n    <path clip-path=\"url(#p13dd545502)\" d=\"M 103.566364 224.64 \r\nL 106.61 224.64 \r\nL 106.61 200.166234 \r\nL 103.566364 200.166234 \r\nz\r\n\" style=\"fill:#1f77b4;\"/>\r\n   </g>\r\n   <g id=\"patch_20\">\r\n    <path clip-path=\"url(#p13dd545502)\" d=\"M 106.61 224.64 \r\nL 109.653636 224.64 \r\nL 109.653636 204.349784 \r\nL 106.61 204.349784 \r\nz\r\n\" style=\"fill:#1f77b4;\"/>\r\n   </g>\r\n   <g id=\"patch_21\">\r\n    <path clip-path=\"url(#p13dd545502)\" d=\"M 109.653636 224.64 \r\nL 112.697273 224.64 \r\nL 112.697273 204.349784 \r\nL 109.653636 204.349784 \r\nz\r\n\" style=\"fill:#1f77b4;\"/>\r\n   </g>\r\n   <g id=\"patch_22\">\r\n    <path clip-path=\"url(#p13dd545502)\" d=\"M 112.697273 224.64 \r\nL 115.740909 224.64 \r\nL 115.740909 209.579221 \r\nL 112.697273 209.579221 \r\nz\r\n\" style=\"fill:#1f77b4;\"/>\r\n   </g>\r\n   <g id=\"patch_23\">\r\n    <path clip-path=\"url(#p13dd545502)\" d=\"M 115.740909 224.64 \r\nL 118.784545 224.64 \r\nL 118.784545 208.114978 \r\nL 115.740909 208.114978 \r\nz\r\n\" style=\"fill:#1f77b4;\"/>\r\n   </g>\r\n   <g id=\"patch_24\">\r\n    <path clip-path=\"url(#p13dd545502)\" d=\"M 118.784545 224.64 \r\nL 121.828182 224.64 \r\nL 121.828182 211.252641 \r\nL 118.784545 211.252641 \r\nz\r\n\" style=\"fill:#1f77b4;\"/>\r\n   </g>\r\n   <g id=\"patch_25\">\r\n    <path clip-path=\"url(#p13dd545502)\" d=\"M 121.828182 224.64 \r\nL 124.871818 224.64 \r\nL 124.871818 216.482078 \r\nL 121.828182 216.482078 \r\nz\r\n\" style=\"fill:#1f77b4;\"/>\r\n   </g>\r\n   <g id=\"patch_26\">\r\n    <path clip-path=\"url(#p13dd545502)\" d=\"M 124.871818 224.64 \r\nL 127.915455 224.64 \r\nL 127.915455 217.737143 \r\nL 124.871818 217.737143 \r\nz\r\n\" style=\"fill:#1f77b4;\"/>\r\n   </g>\r\n   <g id=\"patch_27\">\r\n    <path clip-path=\"url(#p13dd545502)\" d=\"M 127.915455 224.64 \r\nL 130.959091 224.64 \r\nL 130.959091 217.737143 \r\nL 127.915455 217.737143 \r\nz\r\n\" style=\"fill:#1f77b4;\"/>\r\n   </g>\r\n   <g id=\"patch_28\">\r\n    <path clip-path=\"url(#p13dd545502)\" d=\"M 130.959091 224.64 \r\nL 134.002727 224.64 \r\nL 134.002727 216.482078 \r\nL 130.959091 216.482078 \r\nz\r\n\" style=\"fill:#1f77b4;\"/>\r\n   </g>\r\n   <g id=\"patch_29\">\r\n    <path clip-path=\"url(#p13dd545502)\" d=\"M 134.002727 224.64 \r\nL 137.046364 224.64 \r\nL 137.046364 218.364675 \r\nL 134.002727 218.364675 \r\nz\r\n\" style=\"fill:#1f77b4;\"/>\r\n   </g>\r\n   <g id=\"patch_30\">\r\n    <path clip-path=\"url(#p13dd545502)\" d=\"M 137.046364 224.64 \r\nL 140.09 224.64 \r\nL 140.09 220.247273 \r\nL 137.046364 220.247273 \r\nz\r\n\" style=\"fill:#1f77b4;\"/>\r\n   </g>\r\n   <g id=\"patch_31\">\r\n    <path clip-path=\"url(#p13dd545502)\" d=\"M 140.09 224.64 \r\nL 143.133636 224.64 \r\nL 143.133636 219.61974 \r\nL 140.09 219.61974 \r\nz\r\n\" style=\"fill:#1f77b4;\"/>\r\n   </g>\r\n   <g id=\"patch_32\">\r\n    <path clip-path=\"url(#p13dd545502)\" d=\"M 143.133636 224.64 \r\nL 146.177273 224.64 \r\nL 146.177273 222.548225 \r\nL 143.133636 222.548225 \r\nz\r\n\" style=\"fill:#1f77b4;\"/>\r\n   </g>\r\n   <g id=\"patch_33\">\r\n    <path clip-path=\"url(#p13dd545502)\" d=\"M 146.177273 224.64 \r\nL 149.220909 224.64 \r\nL 149.220909 221.502338 \r\nL 146.177273 221.502338 \r\nz\r\n\" style=\"fill:#1f77b4;\"/>\r\n   </g>\r\n   <g id=\"patch_34\">\r\n    <path clip-path=\"url(#p13dd545502)\" d=\"M 149.220909 224.64 \r\nL 152.264545 224.64 \r\nL 152.264545 222.548225 \r\nL 149.220909 222.548225 \r\nz\r\n\" style=\"fill:#1f77b4;\"/>\r\n   </g>\r\n   <g id=\"patch_35\">\r\n    <path clip-path=\"url(#p13dd545502)\" d=\"M 152.264545 224.64 \r\nL 155.308182 224.64 \r\nL 155.308182 222.339048 \r\nL 152.264545 222.339048 \r\nz\r\n\" style=\"fill:#1f77b4;\"/>\r\n   </g>\r\n   <g id=\"patch_36\">\r\n    <path clip-path=\"url(#p13dd545502)\" d=\"M 155.308182 224.64 \r\nL 158.351818 224.64 \r\nL 158.351818 223.594113 \r\nL 155.308182 223.594113 \r\nz\r\n\" style=\"fill:#1f77b4;\"/>\r\n   </g>\r\n   <g id=\"patch_37\">\r\n    <path clip-path=\"url(#p13dd545502)\" d=\"M 158.351818 224.64 \r\nL 161.395455 224.64 \r\nL 161.395455 222.339048 \r\nL 158.351818 222.339048 \r\nz\r\n\" style=\"fill:#1f77b4;\"/>\r\n   </g>\r\n   <g id=\"patch_38\">\r\n    <path clip-path=\"url(#p13dd545502)\" d=\"M 161.395455 224.64 \r\nL 164.439091 224.64 \r\nL 164.439091 223.384935 \r\nL 161.395455 223.384935 \r\nz\r\n\" style=\"fill:#1f77b4;\"/>\r\n   </g>\r\n   <g id=\"patch_39\">\r\n    <path clip-path=\"url(#p13dd545502)\" d=\"M 164.439091 224.64 \r\nL 167.482727 224.64 \r\nL 167.482727 224.221645 \r\nL 164.439091 224.221645 \r\nz\r\n\" style=\"fill:#1f77b4;\"/>\r\n   </g>\r\n   <g id=\"patch_40\">\r\n    <path clip-path=\"url(#p13dd545502)\" d=\"M 167.482727 224.64 \r\nL 170.526364 224.64 \r\nL 170.526364 223.594113 \r\nL 167.482727 223.594113 \r\nz\r\n\" style=\"fill:#1f77b4;\"/>\r\n   </g>\r\n   <g id=\"patch_41\">\r\n    <path clip-path=\"url(#p13dd545502)\" d=\"M 170.526364 224.64 \r\nL 173.57 224.64 \r\nL 173.57 223.80329 \r\nL 170.526364 223.80329 \r\nz\r\n\" style=\"fill:#1f77b4;\"/>\r\n   </g>\r\n   <g id=\"patch_42\">\r\n    <path clip-path=\"url(#p13dd545502)\" d=\"M 173.57 224.64 \r\nL 176.613636 224.64 \r\nL 176.613636 223.80329 \r\nL 173.57 223.80329 \r\nz\r\n\" style=\"fill:#1f77b4;\"/>\r\n   </g>\r\n   <g id=\"patch_43\">\r\n    <path clip-path=\"url(#p13dd545502)\" d=\"M 176.613636 224.64 \r\nL 179.657273 224.64 \r\nL 179.657273 224.012468 \r\nL 176.613636 224.012468 \r\nz\r\n\" style=\"fill:#1f77b4;\"/>\r\n   </g>\r\n   <g id=\"patch_44\">\r\n    <path clip-path=\"url(#p13dd545502)\" d=\"M 179.657273 224.64 \r\nL 182.700909 224.64 \r\nL 182.700909 224.012468 \r\nL 179.657273 224.012468 \r\nz\r\n\" style=\"fill:#1f77b4;\"/>\r\n   </g>\r\n   <g id=\"patch_45\">\r\n    <path clip-path=\"url(#p13dd545502)\" d=\"M 182.700909 224.64 \r\nL 185.744545 224.64 \r\nL 185.744545 223.594113 \r\nL 182.700909 223.594113 \r\nz\r\n\" style=\"fill:#1f77b4;\"/>\r\n   </g>\r\n   <g id=\"patch_46\">\r\n    <path clip-path=\"url(#p13dd545502)\" d=\"M 185.744545 224.64 \r\nL 188.788182 224.64 \r\nL 188.788182 224.012468 \r\nL 185.744545 224.012468 \r\nz\r\n\" style=\"fill:#1f77b4;\"/>\r\n   </g>\r\n   <g id=\"patch_47\">\r\n    <path clip-path=\"url(#p13dd545502)\" d=\"M 188.788182 224.64 \r\nL 191.831818 224.64 \r\nL 191.831818 223.80329 \r\nL 188.788182 223.80329 \r\nz\r\n\" style=\"fill:#1f77b4;\"/>\r\n   </g>\r\n   <g id=\"patch_48\">\r\n    <path clip-path=\"url(#p13dd545502)\" d=\"M 191.831818 224.64 \r\nL 194.875455 224.64 \r\nL 194.875455 224.64 \r\nL 191.831818 224.64 \r\nz\r\n\" style=\"fill:#1f77b4;\"/>\r\n   </g>\r\n   <g id=\"patch_49\">\r\n    <path clip-path=\"url(#p13dd545502)\" d=\"M 194.875455 224.64 \r\nL 197.919091 224.64 \r\nL 197.919091 223.80329 \r\nL 194.875455 223.80329 \r\nz\r\n\" style=\"fill:#1f77b4;\"/>\r\n   </g>\r\n   <g id=\"patch_50\">\r\n    <path clip-path=\"url(#p13dd545502)\" d=\"M 197.919091 224.64 \r\nL 200.962727 224.64 \r\nL 200.962727 224.64 \r\nL 197.919091 224.64 \r\nz\r\n\" style=\"fill:#1f77b4;\"/>\r\n   </g>\r\n   <g id=\"patch_51\">\r\n    <path clip-path=\"url(#p13dd545502)\" d=\"M 200.962727 224.64 \r\nL 204.006364 224.64 \r\nL 204.006364 223.80329 \r\nL 200.962727 223.80329 \r\nz\r\n\" style=\"fill:#1f77b4;\"/>\r\n   </g>\r\n   <g id=\"patch_52\">\r\n    <path clip-path=\"url(#p13dd545502)\" d=\"M 204.006364 224.64 \r\nL 207.05 224.64 \r\nL 207.05 224.430823 \r\nL 204.006364 224.430823 \r\nz\r\n\" style=\"fill:#1f77b4;\"/>\r\n   </g>\r\n   <g id=\"patch_53\">\r\n    <path clip-path=\"url(#p13dd545502)\" d=\"M 207.05 224.64 \r\nL 210.093636 224.64 \r\nL 210.093636 224.221645 \r\nL 207.05 224.221645 \r\nz\r\n\" style=\"fill:#1f77b4;\"/>\r\n   </g>\r\n   <g id=\"patch_54\">\r\n    <path clip-path=\"url(#p13dd545502)\" d=\"M 210.093636 224.64 \r\nL 213.137273 224.64 \r\nL 213.137273 224.221645 \r\nL 210.093636 224.221645 \r\nz\r\n\" style=\"fill:#1f77b4;\"/>\r\n   </g>\r\n   <g id=\"patch_55\">\r\n    <path clip-path=\"url(#p13dd545502)\" d=\"M 213.137273 224.64 \r\nL 216.180909 224.64 \r\nL 216.180909 224.430823 \r\nL 213.137273 224.430823 \r\nz\r\n\" style=\"fill:#1f77b4;\"/>\r\n   </g>\r\n   <g id=\"patch_56\">\r\n    <path clip-path=\"url(#p13dd545502)\" d=\"M 216.180909 224.64 \r\nL 219.224545 224.64 \r\nL 219.224545 224.64 \r\nL 216.180909 224.64 \r\nz\r\n\" style=\"fill:#1f77b4;\"/>\r\n   </g>\r\n   <g id=\"patch_57\">\r\n    <path clip-path=\"url(#p13dd545502)\" d=\"M 219.224545 224.64 \r\nL 222.268182 224.64 \r\nL 222.268182 224.430823 \r\nL 219.224545 224.430823 \r\nz\r\n\" style=\"fill:#1f77b4;\"/>\r\n   </g>\r\n   <g id=\"patch_58\">\r\n    <path clip-path=\"url(#p13dd545502)\" d=\"M 222.268182 224.64 \r\nL 225.311818 224.64 \r\nL 225.311818 224.221645 \r\nL 222.268182 224.221645 \r\nz\r\n\" style=\"fill:#1f77b4;\"/>\r\n   </g>\r\n   <g id=\"patch_59\">\r\n    <path clip-path=\"url(#p13dd545502)\" d=\"M 225.311818 224.64 \r\nL 228.355455 224.64 \r\nL 228.355455 224.012468 \r\nL 225.311818 224.012468 \r\nz\r\n\" style=\"fill:#1f77b4;\"/>\r\n   </g>\r\n   <g id=\"patch_60\">\r\n    <path clip-path=\"url(#p13dd545502)\" d=\"M 228.355455 224.64 \r\nL 231.399091 224.64 \r\nL 231.399091 224.430823 \r\nL 228.355455 224.430823 \r\nz\r\n\" style=\"fill:#1f77b4;\"/>\r\n   </g>\r\n   <g id=\"patch_61\">\r\n    <path clip-path=\"url(#p13dd545502)\" d=\"M 231.399091 224.64 \r\nL 234.442727 224.64 \r\nL 234.442727 224.221645 \r\nL 231.399091 224.221645 \r\nz\r\n\" style=\"fill:#1f77b4;\"/>\r\n   </g>\r\n   <g id=\"patch_62\">\r\n    <path clip-path=\"url(#p13dd545502)\" d=\"M 234.442727 224.64 \r\nL 237.486364 224.64 \r\nL 237.486364 224.221645 \r\nL 234.442727 224.221645 \r\nz\r\n\" style=\"fill:#1f77b4;\"/>\r\n   </g>\r\n   <g id=\"patch_63\">\r\n    <path clip-path=\"url(#p13dd545502)\" d=\"M 237.486364 224.64 \r\nL 240.53 224.64 \r\nL 240.53 224.64 \r\nL 237.486364 224.64 \r\nz\r\n\" style=\"fill:#1f77b4;\"/>\r\n   </g>\r\n   <g id=\"patch_64\">\r\n    <path clip-path=\"url(#p13dd545502)\" d=\"M 240.53 224.64 \r\nL 243.573636 224.64 \r\nL 243.573636 224.64 \r\nL 240.53 224.64 \r\nz\r\n\" style=\"fill:#1f77b4;\"/>\r\n   </g>\r\n   <g id=\"patch_65\">\r\n    <path clip-path=\"url(#p13dd545502)\" d=\"M 243.573636 224.64 \r\nL 246.617273 224.64 \r\nL 246.617273 224.64 \r\nL 243.573636 224.64 \r\nz\r\n\" style=\"fill:#1f77b4;\"/>\r\n   </g>\r\n   <g id=\"patch_66\">\r\n    <path clip-path=\"url(#p13dd545502)\" d=\"M 246.617273 224.64 \r\nL 249.660909 224.64 \r\nL 249.660909 224.64 \r\nL 246.617273 224.64 \r\nz\r\n\" style=\"fill:#1f77b4;\"/>\r\n   </g>\r\n   <g id=\"patch_67\">\r\n    <path clip-path=\"url(#p13dd545502)\" d=\"M 249.660909 224.64 \r\nL 252.704545 224.64 \r\nL 252.704545 224.64 \r\nL 249.660909 224.64 \r\nz\r\n\" style=\"fill:#1f77b4;\"/>\r\n   </g>\r\n   <g id=\"patch_68\">\r\n    <path clip-path=\"url(#p13dd545502)\" d=\"M 252.704545 224.64 \r\nL 255.748182 224.64 \r\nL 255.748182 224.221645 \r\nL 252.704545 224.221645 \r\nz\r\n\" style=\"fill:#1f77b4;\"/>\r\n   </g>\r\n   <g id=\"patch_69\">\r\n    <path clip-path=\"url(#p13dd545502)\" d=\"M 255.748182 224.64 \r\nL 258.791818 224.64 \r\nL 258.791818 224.64 \r\nL 255.748182 224.64 \r\nz\r\n\" style=\"fill:#1f77b4;\"/>\r\n   </g>\r\n   <g id=\"patch_70\">\r\n    <path clip-path=\"url(#p13dd545502)\" d=\"M 258.791818 224.64 \r\nL 261.835455 224.64 \r\nL 261.835455 224.430823 \r\nL 258.791818 224.430823 \r\nz\r\n\" style=\"fill:#1f77b4;\"/>\r\n   </g>\r\n   <g id=\"patch_71\">\r\n    <path clip-path=\"url(#p13dd545502)\" d=\"M 261.835455 224.64 \r\nL 264.879091 224.64 \r\nL 264.879091 224.64 \r\nL 261.835455 224.64 \r\nz\r\n\" style=\"fill:#1f77b4;\"/>\r\n   </g>\r\n   <g id=\"patch_72\">\r\n    <path clip-path=\"url(#p13dd545502)\" d=\"M 264.879091 224.64 \r\nL 267.922727 224.64 \r\nL 267.922727 224.64 \r\nL 264.879091 224.64 \r\nz\r\n\" style=\"fill:#1f77b4;\"/>\r\n   </g>\r\n   <g id=\"patch_73\">\r\n    <path clip-path=\"url(#p13dd545502)\" d=\"M 267.922727 224.64 \r\nL 270.966364 224.64 \r\nL 270.966364 224.430823 \r\nL 267.922727 224.430823 \r\nz\r\n\" style=\"fill:#1f77b4;\"/>\r\n   </g>\r\n   <g id=\"patch_74\">\r\n    <path clip-path=\"url(#p13dd545502)\" d=\"M 270.966364 224.64 \r\nL 274.01 224.64 \r\nL 274.01 224.64 \r\nL 270.966364 224.64 \r\nz\r\n\" style=\"fill:#1f77b4;\"/>\r\n   </g>\r\n   <g id=\"patch_75\">\r\n    <path clip-path=\"url(#p13dd545502)\" d=\"M 274.01 224.64 \r\nL 277.053636 224.64 \r\nL 277.053636 224.430823 \r\nL 274.01 224.430823 \r\nz\r\n\" style=\"fill:#1f77b4;\"/>\r\n   </g>\r\n   <g id=\"patch_76\">\r\n    <path clip-path=\"url(#p13dd545502)\" d=\"M 277.053636 224.64 \r\nL 280.097273 224.64 \r\nL 280.097273 224.64 \r\nL 277.053636 224.64 \r\nz\r\n\" style=\"fill:#1f77b4;\"/>\r\n   </g>\r\n   <g id=\"patch_77\">\r\n    <path clip-path=\"url(#p13dd545502)\" d=\"M 280.097273 224.64 \r\nL 283.140909 224.64 \r\nL 283.140909 224.430823 \r\nL 280.097273 224.430823 \r\nz\r\n\" style=\"fill:#1f77b4;\"/>\r\n   </g>\r\n   <g id=\"patch_78\">\r\n    <path clip-path=\"url(#p13dd545502)\" d=\"M 283.140909 224.64 \r\nL 286.184545 224.64 \r\nL 286.184545 224.64 \r\nL 283.140909 224.64 \r\nz\r\n\" style=\"fill:#1f77b4;\"/>\r\n   </g>\r\n   <g id=\"patch_79\">\r\n    <path clip-path=\"url(#p13dd545502)\" d=\"M 286.184545 224.64 \r\nL 289.228182 224.64 \r\nL 289.228182 224.64 \r\nL 286.184545 224.64 \r\nz\r\n\" style=\"fill:#1f77b4;\"/>\r\n   </g>\r\n   <g id=\"patch_80\">\r\n    <path clip-path=\"url(#p13dd545502)\" d=\"M 289.228182 224.64 \r\nL 292.271818 224.64 \r\nL 292.271818 224.64 \r\nL 289.228182 224.64 \r\nz\r\n\" style=\"fill:#1f77b4;\"/>\r\n   </g>\r\n   <g id=\"patch_81\">\r\n    <path clip-path=\"url(#p13dd545502)\" d=\"M 292.271818 224.64 \r\nL 295.315455 224.64 \r\nL 295.315455 224.64 \r\nL 292.271818 224.64 \r\nz\r\n\" style=\"fill:#1f77b4;\"/>\r\n   </g>\r\n   <g id=\"patch_82\">\r\n    <path clip-path=\"url(#p13dd545502)\" d=\"M 295.315455 224.64 \r\nL 298.359091 224.64 \r\nL 298.359091 224.64 \r\nL 295.315455 224.64 \r\nz\r\n\" style=\"fill:#1f77b4;\"/>\r\n   </g>\r\n   <g id=\"patch_83\">\r\n    <path clip-path=\"url(#p13dd545502)\" d=\"M 298.359091 224.64 \r\nL 301.402727 224.64 \r\nL 301.402727 224.221645 \r\nL 298.359091 224.221645 \r\nz\r\n\" style=\"fill:#1f77b4;\"/>\r\n   </g>\r\n   <g id=\"patch_84\">\r\n    <path clip-path=\"url(#p13dd545502)\" d=\"M 301.402727 224.64 \r\nL 304.446364 224.64 \r\nL 304.446364 224.430823 \r\nL 301.402727 224.430823 \r\nz\r\n\" style=\"fill:#1f77b4;\"/>\r\n   </g>\r\n   <g id=\"patch_85\">\r\n    <path clip-path=\"url(#p13dd545502)\" d=\"M 304.446364 224.64 \r\nL 307.49 224.64 \r\nL 307.49 224.430823 \r\nL 304.446364 224.430823 \r\nz\r\n\" style=\"fill:#1f77b4;\"/>\r\n   </g>\r\n   <g id=\"patch_86\">\r\n    <path clip-path=\"url(#p13dd545502)\" d=\"M 307.49 224.64 \r\nL 310.533636 224.64 \r\nL 310.533636 224.430823 \r\nL 307.49 224.430823 \r\nz\r\n\" style=\"fill:#1f77b4;\"/>\r\n   </g>\r\n   <g id=\"patch_87\">\r\n    <path clip-path=\"url(#p13dd545502)\" d=\"M 310.533636 224.64 \r\nL 313.577273 224.64 \r\nL 313.577273 224.64 \r\nL 310.533636 224.64 \r\nz\r\n\" style=\"fill:#1f77b4;\"/>\r\n   </g>\r\n   <g id=\"patch_88\">\r\n    <path clip-path=\"url(#p13dd545502)\" d=\"M 313.577273 224.64 \r\nL 316.620909 224.64 \r\nL 316.620909 224.64 \r\nL 313.577273 224.64 \r\nz\r\n\" style=\"fill:#1f77b4;\"/>\r\n   </g>\r\n   <g id=\"patch_89\">\r\n    <path clip-path=\"url(#p13dd545502)\" d=\"M 316.620909 224.64 \r\nL 319.664545 224.64 \r\nL 319.664545 224.64 \r\nL 316.620909 224.64 \r\nz\r\n\" style=\"fill:#1f77b4;\"/>\r\n   </g>\r\n   <g id=\"patch_90\">\r\n    <path clip-path=\"url(#p13dd545502)\" d=\"M 319.664545 224.64 \r\nL 322.708182 224.64 \r\nL 322.708182 224.64 \r\nL 319.664545 224.64 \r\nz\r\n\" style=\"fill:#1f77b4;\"/>\r\n   </g>\r\n   <g id=\"patch_91\">\r\n    <path clip-path=\"url(#p13dd545502)\" d=\"M 322.708182 224.64 \r\nL 325.751818 224.64 \r\nL 325.751818 224.64 \r\nL 322.708182 224.64 \r\nz\r\n\" style=\"fill:#1f77b4;\"/>\r\n   </g>\r\n   <g id=\"patch_92\">\r\n    <path clip-path=\"url(#p13dd545502)\" d=\"M 325.751818 224.64 \r\nL 328.795455 224.64 \r\nL 328.795455 224.64 \r\nL 325.751818 224.64 \r\nz\r\n\" style=\"fill:#1f77b4;\"/>\r\n   </g>\r\n   <g id=\"patch_93\">\r\n    <path clip-path=\"url(#p13dd545502)\" d=\"M 328.795455 224.64 \r\nL 331.839091 224.64 \r\nL 331.839091 224.64 \r\nL 328.795455 224.64 \r\nz\r\n\" style=\"fill:#1f77b4;\"/>\r\n   </g>\r\n   <g id=\"patch_94\">\r\n    <path clip-path=\"url(#p13dd545502)\" d=\"M 331.839091 224.64 \r\nL 334.882727 224.64 \r\nL 334.882727 224.64 \r\nL 331.839091 224.64 \r\nz\r\n\" style=\"fill:#1f77b4;\"/>\r\n   </g>\r\n   <g id=\"patch_95\">\r\n    <path clip-path=\"url(#p13dd545502)\" d=\"M 334.882727 224.64 \r\nL 337.926364 224.64 \r\nL 337.926364 224.64 \r\nL 334.882727 224.64 \r\nz\r\n\" style=\"fill:#1f77b4;\"/>\r\n   </g>\r\n   <g id=\"patch_96\">\r\n    <path clip-path=\"url(#p13dd545502)\" d=\"M 337.926364 224.64 \r\nL 340.97 224.64 \r\nL 340.97 224.64 \r\nL 337.926364 224.64 \r\nz\r\n\" style=\"fill:#1f77b4;\"/>\r\n   </g>\r\n   <g id=\"patch_97\">\r\n    <path clip-path=\"url(#p13dd545502)\" d=\"M 340.97 224.64 \r\nL 344.013636 224.64 \r\nL 344.013636 224.64 \r\nL 340.97 224.64 \r\nz\r\n\" style=\"fill:#1f77b4;\"/>\r\n   </g>\r\n   <g id=\"patch_98\">\r\n    <path clip-path=\"url(#p13dd545502)\" d=\"M 344.013636 224.64 \r\nL 347.057273 224.64 \r\nL 347.057273 224.64 \r\nL 344.013636 224.64 \r\nz\r\n\" style=\"fill:#1f77b4;\"/>\r\n   </g>\r\n   <g id=\"patch_99\">\r\n    <path clip-path=\"url(#p13dd545502)\" d=\"M 347.057273 224.64 \r\nL 350.100909 224.64 \r\nL 350.100909 224.430823 \r\nL 347.057273 224.430823 \r\nz\r\n\" style=\"fill:#1f77b4;\"/>\r\n   </g>\r\n   <g id=\"patch_100\">\r\n    <path clip-path=\"url(#p13dd545502)\" d=\"M 350.100909 224.64 \r\nL 353.144545 224.64 \r\nL 353.144545 224.64 \r\nL 350.100909 224.64 \r\nz\r\n\" style=\"fill:#1f77b4;\"/>\r\n   </g>\r\n   <g id=\"patch_101\">\r\n    <path clip-path=\"url(#p13dd545502)\" d=\"M 353.144545 224.64 \r\nL 356.188182 224.64 \r\nL 356.188182 224.64 \r\nL 353.144545 224.64 \r\nz\r\n\" style=\"fill:#1f77b4;\"/>\r\n   </g>\r\n   <g id=\"patch_102\">\r\n    <path clip-path=\"url(#p13dd545502)\" d=\"M 356.188182 224.64 \r\nL 359.231818 224.64 \r\nL 359.231818 224.430823 \r\nL 356.188182 224.430823 \r\nz\r\n\" style=\"fill:#1f77b4;\"/>\r\n   </g>\r\n   <g id=\"matplotlib.axis_1\">\r\n    <g id=\"xtick_1\">\r\n     <g id=\"line2d_1\">\r\n      <defs>\r\n       <path d=\"M 0 0 \r\nL 0 3.5 \r\n\" id=\"m47be83207c\" style=\"stroke:#000000;stroke-width:0.8;\"/>\r\n      </defs>\r\n      <g>\r\n       <use style=\"stroke:#000000;stroke-width:0.8;\" x=\"54.104089\" xlink:href=\"#m47be83207c\" y=\"224.64\"/>\r\n      </g>\r\n     </g>\r\n     <g id=\"text_1\">\r\n      <!-- 0 -->\r\n      <defs>\r\n       <path d=\"M 31.78125 66.40625 \r\nQ 24.171875 66.40625 20.328125 58.90625 \r\nQ 16.5 51.421875 16.5 36.375 \r\nQ 16.5 21.390625 20.328125 13.890625 \r\nQ 24.171875 6.390625 31.78125 6.390625 \r\nQ 39.453125 6.390625 43.28125 13.890625 \r\nQ 47.125 21.390625 47.125 36.375 \r\nQ 47.125 51.421875 43.28125 58.90625 \r\nQ 39.453125 66.40625 31.78125 66.40625 \r\nz\r\nM 31.78125 74.21875 \r\nQ 44.046875 74.21875 50.515625 64.515625 \r\nQ 56.984375 54.828125 56.984375 36.375 \r\nQ 56.984375 17.96875 50.515625 8.265625 \r\nQ 44.046875 -1.421875 31.78125 -1.421875 \r\nQ 19.53125 -1.421875 13.0625 8.265625 \r\nQ 6.59375 17.96875 6.59375 36.375 \r\nQ 6.59375 54.828125 13.0625 64.515625 \r\nQ 19.53125 74.21875 31.78125 74.21875 \r\nz\r\n\" id=\"DejaVuSans-48\"/>\r\n      </defs>\r\n      <g transform=\"translate(50.922839 239.238437)scale(0.1 -0.1)\">\r\n       <use xlink:href=\"#DejaVuSans-48\"/>\r\n      </g>\r\n     </g>\r\n    </g>\r\n    <g id=\"xtick_2\">\r\n     <g id=\"line2d_2\">\r\n      <g>\r\n       <use style=\"stroke:#000000;stroke-width:0.8;\" x=\"117.77849\" xlink:href=\"#m47be83207c\" y=\"224.64\"/>\r\n      </g>\r\n     </g>\r\n     <g id=\"text_2\">\r\n      <!-- 500 -->\r\n      <defs>\r\n       <path d=\"M 10.796875 72.90625 \r\nL 49.515625 72.90625 \r\nL 49.515625 64.59375 \r\nL 19.828125 64.59375 \r\nL 19.828125 46.734375 \r\nQ 21.96875 47.46875 24.109375 47.828125 \r\nQ 26.265625 48.1875 28.421875 48.1875 \r\nQ 40.625 48.1875 47.75 41.5 \r\nQ 54.890625 34.8125 54.890625 23.390625 \r\nQ 54.890625 11.625 47.5625 5.09375 \r\nQ 40.234375 -1.421875 26.90625 -1.421875 \r\nQ 22.3125 -1.421875 17.546875 -0.640625 \r\nQ 12.796875 0.140625 7.71875 1.703125 \r\nL 7.71875 11.625 \r\nQ 12.109375 9.234375 16.796875 8.0625 \r\nQ 21.484375 6.890625 26.703125 6.890625 \r\nQ 35.15625 6.890625 40.078125 11.328125 \r\nQ 45.015625 15.765625 45.015625 23.390625 \r\nQ 45.015625 31 40.078125 35.4375 \r\nQ 35.15625 39.890625 26.703125 39.890625 \r\nQ 22.75 39.890625 18.8125 39.015625 \r\nQ 14.890625 38.140625 10.796875 36.28125 \r\nz\r\n\" id=\"DejaVuSans-53\"/>\r\n      </defs>\r\n      <g transform=\"translate(108.23474 239.238437)scale(0.1 -0.1)\">\r\n       <use xlink:href=\"#DejaVuSans-53\"/>\r\n       <use x=\"63.623047\" xlink:href=\"#DejaVuSans-48\"/>\r\n       <use x=\"127.246094\" xlink:href=\"#DejaVuSans-48\"/>\r\n      </g>\r\n     </g>\r\n    </g>\r\n    <g id=\"xtick_3\">\r\n     <g id=\"line2d_3\">\r\n      <g>\r\n       <use style=\"stroke:#000000;stroke-width:0.8;\" x=\"181.452891\" xlink:href=\"#m47be83207c\" y=\"224.64\"/>\r\n      </g>\r\n     </g>\r\n     <g id=\"text_3\">\r\n      <!-- 1000 -->\r\n      <defs>\r\n       <path d=\"M 12.40625 8.296875 \r\nL 28.515625 8.296875 \r\nL 28.515625 63.921875 \r\nL 10.984375 60.40625 \r\nL 10.984375 69.390625 \r\nL 28.421875 72.90625 \r\nL 38.28125 72.90625 \r\nL 38.28125 8.296875 \r\nL 54.390625 8.296875 \r\nL 54.390625 0 \r\nL 12.40625 0 \r\nz\r\n\" id=\"DejaVuSans-49\"/>\r\n      </defs>\r\n      <g transform=\"translate(168.727891 239.238437)scale(0.1 -0.1)\">\r\n       <use xlink:href=\"#DejaVuSans-49\"/>\r\n       <use x=\"63.623047\" xlink:href=\"#DejaVuSans-48\"/>\r\n       <use x=\"127.246094\" xlink:href=\"#DejaVuSans-48\"/>\r\n       <use x=\"190.869141\" xlink:href=\"#DejaVuSans-48\"/>\r\n      </g>\r\n     </g>\r\n    </g>\r\n    <g id=\"xtick_4\">\r\n     <g id=\"line2d_4\">\r\n      <g>\r\n       <use style=\"stroke:#000000;stroke-width:0.8;\" x=\"245.127292\" xlink:href=\"#m47be83207c\" y=\"224.64\"/>\r\n      </g>\r\n     </g>\r\n     <g id=\"text_4\">\r\n      <!-- 1500 -->\r\n      <g transform=\"translate(232.402292 239.238437)scale(0.1 -0.1)\">\r\n       <use xlink:href=\"#DejaVuSans-49\"/>\r\n       <use x=\"63.623047\" xlink:href=\"#DejaVuSans-53\"/>\r\n       <use x=\"127.246094\" xlink:href=\"#DejaVuSans-48\"/>\r\n       <use x=\"190.869141\" xlink:href=\"#DejaVuSans-48\"/>\r\n      </g>\r\n     </g>\r\n    </g>\r\n    <g id=\"xtick_5\">\r\n     <g id=\"line2d_5\">\r\n      <g>\r\n       <use style=\"stroke:#000000;stroke-width:0.8;\" x=\"308.801693\" xlink:href=\"#m47be83207c\" y=\"224.64\"/>\r\n      </g>\r\n     </g>\r\n     <g id=\"text_5\">\r\n      <!-- 2000 -->\r\n      <defs>\r\n       <path d=\"M 19.1875 8.296875 \r\nL 53.609375 8.296875 \r\nL 53.609375 0 \r\nL 7.328125 0 \r\nL 7.328125 8.296875 \r\nQ 12.9375 14.109375 22.625 23.890625 \r\nQ 32.328125 33.6875 34.8125 36.53125 \r\nQ 39.546875 41.84375 41.421875 45.53125 \r\nQ 43.3125 49.21875 43.3125 52.78125 \r\nQ 43.3125 58.59375 39.234375 62.25 \r\nQ 35.15625 65.921875 28.609375 65.921875 \r\nQ 23.96875 65.921875 18.8125 64.3125 \r\nQ 13.671875 62.703125 7.8125 59.421875 \r\nL 7.8125 69.390625 \r\nQ 13.765625 71.78125 18.9375 73 \r\nQ 24.125 74.21875 28.421875 74.21875 \r\nQ 39.75 74.21875 46.484375 68.546875 \r\nQ 53.21875 62.890625 53.21875 53.421875 \r\nQ 53.21875 48.921875 51.53125 44.890625 \r\nQ 49.859375 40.875 45.40625 35.40625 \r\nQ 44.1875 33.984375 37.640625 27.21875 \r\nQ 31.109375 20.453125 19.1875 8.296875 \r\nz\r\n\" id=\"DejaVuSans-50\"/>\r\n      </defs>\r\n      <g transform=\"translate(296.076693 239.238437)scale(0.1 -0.1)\">\r\n       <use xlink:href=\"#DejaVuSans-50\"/>\r\n       <use x=\"63.623047\" xlink:href=\"#DejaVuSans-48\"/>\r\n       <use x=\"127.246094\" xlink:href=\"#DejaVuSans-48\"/>\r\n       <use x=\"190.869141\" xlink:href=\"#DejaVuSans-48\"/>\r\n      </g>\r\n     </g>\r\n    </g>\r\n    <g id=\"xtick_6\">\r\n     <g id=\"line2d_6\">\r\n      <g>\r\n       <use style=\"stroke:#000000;stroke-width:0.8;\" x=\"372.476094\" xlink:href=\"#m47be83207c\" y=\"224.64\"/>\r\n      </g>\r\n     </g>\r\n     <g id=\"text_6\">\r\n      <!-- 2500 -->\r\n      <g transform=\"translate(359.751094 239.238437)scale(0.1 -0.1)\">\r\n       <use xlink:href=\"#DejaVuSans-50\"/>\r\n       <use x=\"63.623047\" xlink:href=\"#DejaVuSans-53\"/>\r\n       <use x=\"127.246094\" xlink:href=\"#DejaVuSans-48\"/>\r\n       <use x=\"190.869141\" xlink:href=\"#DejaVuSans-48\"/>\r\n      </g>\r\n     </g>\r\n    </g>\r\n   </g>\r\n   <g id=\"matplotlib.axis_2\">\r\n    <g id=\"ytick_1\">\r\n     <g id=\"line2d_7\">\r\n      <defs>\r\n       <path d=\"M 0 0 \r\nL -3.5 0 \r\n\" id=\"mbe9bea9ff3\" style=\"stroke:#000000;stroke-width:0.8;\"/>\r\n      </defs>\r\n      <g>\r\n       <use style=\"stroke:#000000;stroke-width:0.8;\" x=\"39.65\" xlink:href=\"#mbe9bea9ff3\" y=\"224.64\"/>\r\n      </g>\r\n     </g>\r\n     <g id=\"text_7\">\r\n      <!-- 0 -->\r\n      <g transform=\"translate(26.2875 228.439219)scale(0.1 -0.1)\">\r\n       <use xlink:href=\"#DejaVuSans-48\"/>\r\n      </g>\r\n     </g>\r\n    </g>\r\n    <g id=\"ytick_2\">\r\n     <g id=\"line2d_8\">\r\n      <g>\r\n       <use style=\"stroke:#000000;stroke-width:0.8;\" x=\"39.65\" xlink:href=\"#mbe9bea9ff3\" y=\"182.804502\"/>\r\n      </g>\r\n     </g>\r\n     <g id=\"text_8\">\r\n      <!-- 200 -->\r\n      <g transform=\"translate(13.5625 186.603721)scale(0.1 -0.1)\">\r\n       <use xlink:href=\"#DejaVuSans-50\"/>\r\n       <use x=\"63.623047\" xlink:href=\"#DejaVuSans-48\"/>\r\n       <use x=\"127.246094\" xlink:href=\"#DejaVuSans-48\"/>\r\n      </g>\r\n     </g>\r\n    </g>\r\n    <g id=\"ytick_3\">\r\n     <g id=\"line2d_9\">\r\n      <g>\r\n       <use style=\"stroke:#000000;stroke-width:0.8;\" x=\"39.65\" xlink:href=\"#mbe9bea9ff3\" y=\"140.969004\"/>\r\n      </g>\r\n     </g>\r\n     <g id=\"text_9\">\r\n      <!-- 400 -->\r\n      <defs>\r\n       <path d=\"M 37.796875 64.3125 \r\nL 12.890625 25.390625 \r\nL 37.796875 25.390625 \r\nz\r\nM 35.203125 72.90625 \r\nL 47.609375 72.90625 \r\nL 47.609375 25.390625 \r\nL 58.015625 25.390625 \r\nL 58.015625 17.1875 \r\nL 47.609375 17.1875 \r\nL 47.609375 0 \r\nL 37.796875 0 \r\nL 37.796875 17.1875 \r\nL 4.890625 17.1875 \r\nL 4.890625 26.703125 \r\nz\r\n\" id=\"DejaVuSans-52\"/>\r\n      </defs>\r\n      <g transform=\"translate(13.5625 144.768223)scale(0.1 -0.1)\">\r\n       <use xlink:href=\"#DejaVuSans-52\"/>\r\n       <use x=\"63.623047\" xlink:href=\"#DejaVuSans-48\"/>\r\n       <use x=\"127.246094\" xlink:href=\"#DejaVuSans-48\"/>\r\n      </g>\r\n     </g>\r\n    </g>\r\n    <g id=\"ytick_4\">\r\n     <g id=\"line2d_10\">\r\n      <g>\r\n       <use style=\"stroke:#000000;stroke-width:0.8;\" x=\"39.65\" xlink:href=\"#mbe9bea9ff3\" y=\"99.133506\"/>\r\n      </g>\r\n     </g>\r\n     <g id=\"text_10\">\r\n      <!-- 600 -->\r\n      <defs>\r\n       <path d=\"M 33.015625 40.375 \r\nQ 26.375 40.375 22.484375 35.828125 \r\nQ 18.609375 31.296875 18.609375 23.390625 \r\nQ 18.609375 15.53125 22.484375 10.953125 \r\nQ 26.375 6.390625 33.015625 6.390625 \r\nQ 39.65625 6.390625 43.53125 10.953125 \r\nQ 47.40625 15.53125 47.40625 23.390625 \r\nQ 47.40625 31.296875 43.53125 35.828125 \r\nQ 39.65625 40.375 33.015625 40.375 \r\nz\r\nM 52.59375 71.296875 \r\nL 52.59375 62.3125 \r\nQ 48.875 64.0625 45.09375 64.984375 \r\nQ 41.3125 65.921875 37.59375 65.921875 \r\nQ 27.828125 65.921875 22.671875 59.328125 \r\nQ 17.53125 52.734375 16.796875 39.40625 \r\nQ 19.671875 43.65625 24.015625 45.921875 \r\nQ 28.375 48.1875 33.59375 48.1875 \r\nQ 44.578125 48.1875 50.953125 41.515625 \r\nQ 57.328125 34.859375 57.328125 23.390625 \r\nQ 57.328125 12.15625 50.6875 5.359375 \r\nQ 44.046875 -1.421875 33.015625 -1.421875 \r\nQ 20.359375 -1.421875 13.671875 8.265625 \r\nQ 6.984375 17.96875 6.984375 36.375 \r\nQ 6.984375 53.65625 15.1875 63.9375 \r\nQ 23.390625 74.21875 37.203125 74.21875 \r\nQ 40.921875 74.21875 44.703125 73.484375 \r\nQ 48.484375 72.75 52.59375 71.296875 \r\nz\r\n\" id=\"DejaVuSans-54\"/>\r\n      </defs>\r\n      <g transform=\"translate(13.5625 102.932725)scale(0.1 -0.1)\">\r\n       <use xlink:href=\"#DejaVuSans-54\"/>\r\n       <use x=\"63.623047\" xlink:href=\"#DejaVuSans-48\"/>\r\n       <use x=\"127.246094\" xlink:href=\"#DejaVuSans-48\"/>\r\n      </g>\r\n     </g>\r\n    </g>\r\n    <g id=\"ytick_5\">\r\n     <g id=\"line2d_11\">\r\n      <g>\r\n       <use style=\"stroke:#000000;stroke-width:0.8;\" x=\"39.65\" xlink:href=\"#mbe9bea9ff3\" y=\"57.298009\"/>\r\n      </g>\r\n     </g>\r\n     <g id=\"text_11\">\r\n      <!-- 800 -->\r\n      <defs>\r\n       <path d=\"M 31.78125 34.625 \r\nQ 24.75 34.625 20.71875 30.859375 \r\nQ 16.703125 27.09375 16.703125 20.515625 \r\nQ 16.703125 13.921875 20.71875 10.15625 \r\nQ 24.75 6.390625 31.78125 6.390625 \r\nQ 38.8125 6.390625 42.859375 10.171875 \r\nQ 46.921875 13.96875 46.921875 20.515625 \r\nQ 46.921875 27.09375 42.890625 30.859375 \r\nQ 38.875 34.625 31.78125 34.625 \r\nz\r\nM 21.921875 38.8125 \r\nQ 15.578125 40.375 12.03125 44.71875 \r\nQ 8.5 49.078125 8.5 55.328125 \r\nQ 8.5 64.0625 14.71875 69.140625 \r\nQ 20.953125 74.21875 31.78125 74.21875 \r\nQ 42.671875 74.21875 48.875 69.140625 \r\nQ 55.078125 64.0625 55.078125 55.328125 \r\nQ 55.078125 49.078125 51.53125 44.71875 \r\nQ 48 40.375 41.703125 38.8125 \r\nQ 48.828125 37.15625 52.796875 32.3125 \r\nQ 56.78125 27.484375 56.78125 20.515625 \r\nQ 56.78125 9.90625 50.3125 4.234375 \r\nQ 43.84375 -1.421875 31.78125 -1.421875 \r\nQ 19.734375 -1.421875 13.25 4.234375 \r\nQ 6.78125 9.90625 6.78125 20.515625 \r\nQ 6.78125 27.484375 10.78125 32.3125 \r\nQ 14.796875 37.15625 21.921875 38.8125 \r\nz\r\nM 18.3125 54.390625 \r\nQ 18.3125 48.734375 21.84375 45.5625 \r\nQ 25.390625 42.390625 31.78125 42.390625 \r\nQ 38.140625 42.390625 41.71875 45.5625 \r\nQ 45.3125 48.734375 45.3125 54.390625 \r\nQ 45.3125 60.0625 41.71875 63.234375 \r\nQ 38.140625 66.40625 31.78125 66.40625 \r\nQ 25.390625 66.40625 21.84375 63.234375 \r\nQ 18.3125 60.0625 18.3125 54.390625 \r\nz\r\n\" id=\"DejaVuSans-56\"/>\r\n      </defs>\r\n      <g transform=\"translate(13.5625 61.097227)scale(0.1 -0.1)\">\r\n       <use xlink:href=\"#DejaVuSans-56\"/>\r\n       <use x=\"63.623047\" xlink:href=\"#DejaVuSans-48\"/>\r\n       <use x=\"127.246094\" xlink:href=\"#DejaVuSans-48\"/>\r\n      </g>\r\n     </g>\r\n    </g>\r\n    <g id=\"ytick_6\">\r\n     <g id=\"line2d_12\">\r\n      <g>\r\n       <use style=\"stroke:#000000;stroke-width:0.8;\" x=\"39.65\" xlink:href=\"#mbe9bea9ff3\" y=\"15.462511\"/>\r\n      </g>\r\n     </g>\r\n     <g id=\"text_12\">\r\n      <!-- 1000 -->\r\n      <g transform=\"translate(7.2 19.26173)scale(0.1 -0.1)\">\r\n       <use xlink:href=\"#DejaVuSans-49\"/>\r\n       <use x=\"63.623047\" xlink:href=\"#DejaVuSans-48\"/>\r\n       <use x=\"127.246094\" xlink:href=\"#DejaVuSans-48\"/>\r\n       <use x=\"190.869141\" xlink:href=\"#DejaVuSans-48\"/>\r\n      </g>\r\n     </g>\r\n    </g>\r\n   </g>\r\n   <g id=\"patch_103\">\r\n    <path d=\"M 39.65 224.64 \r\nL 39.65 7.2 \r\n\" style=\"fill:none;stroke:#000000;stroke-linecap:square;stroke-linejoin:miter;stroke-width:0.8;\"/>\r\n   </g>\r\n   <g id=\"patch_104\">\r\n    <path d=\"M 374.45 224.64 \r\nL 374.45 7.2 \r\n\" style=\"fill:none;stroke:#000000;stroke-linecap:square;stroke-linejoin:miter;stroke-width:0.8;\"/>\r\n   </g>\r\n   <g id=\"patch_105\">\r\n    <path d=\"M 39.65 224.64 \r\nL 374.45 224.64 \r\n\" style=\"fill:none;stroke:#000000;stroke-linecap:square;stroke-linejoin:miter;stroke-width:0.8;\"/>\r\n   </g>\r\n   <g id=\"patch_106\">\r\n    <path d=\"M 39.65 7.2 \r\nL 374.45 7.2 \r\n\" style=\"fill:none;stroke:#000000;stroke-linecap:square;stroke-linejoin:miter;stroke-width:0.8;\"/>\r\n   </g>\r\n  </g>\r\n </g>\r\n <defs>\r\n  <clipPath id=\"p13dd545502\">\r\n   <rect height=\"217.44\" width=\"334.8\" x=\"39.65\" y=\"7.2\"/>\r\n  </clipPath>\r\n </defs>\r\n</svg>\r\n",
            "image/png": "[encoded data removed]"
          },
          "metadata": {
            "needs_background": "light"
          }
        }
      ]
    },
    {
      "cell_type": "code",
      "metadata": {
        "id": "_FlbIpERHFuS",
        "colab_type": "code",
        "colab": {
          "base_uri": "https://localhost:8080/",
          "height": 140
        },
        "outputId": "f9521bad-af02-48f8-dc14-c6d58c51e8c7"
      },
      "source": [
        "max_len = 500 # 헤드라인 문장 길이를 보고 맞춰주기 - 패딩\n",
        "X_train = pad_sequences(X_train, maxlen=max_len)\n",
        "X_test = pad_sequences(X_test, maxlen=max_len)"
      ],
      "execution_count": 138,
      "outputs": []
    },
    {
      "cell_type": "code",
      "metadata": {
        "id": "DgB8_3_DHG6b",
        "colab_type": "code",
        "colab": {}
      },
      "source": [
        "model = Sequential()\n",
        "model.add(Embedding(150000, 128))\n",
        "model.add(LSTM(128))\n",
        "model.add(Dense(6, activation='softmax')) #출력개수 6개의 카테고리"
      ],
      "execution_count": 139,
      "outputs": []
    },
    {
      "cell_type": "code",
      "metadata": {
        "id": "loIwsdJhHIKz",
        "colab_type": "code",
        "colab": {
          "base_uri": "https://localhost:8080/",
          "height": 562
        },
        "outputId": "ca7b3253-c4bb-4f3d-e957-e388e549529a",
        "tags": []
      },
      "source": [
        "model.compile(loss='categorical_crossentropy', optimizer='adam', metrics=['acc'])\n",
        "model.fit(X_train, y_train, validation_data=(X_test, y_test), batch_size=500, epochs=10)\n",
        "\n",
        "#batch_size : 한번의 batch마다 주는 데이터 샘플 사이즈/ 한 번에 모든 데이터를 넣을 수가 없음\n",
        "#iteration \n",
        "# epoch : 전체 데이터 셋에 대해 한 번 학습을 완료한 상태"
      ],
      "execution_count": 140,
      "outputs": [
        {
          "output_type": "stream",
          "name": "stdout",
          "text": "Epoch 1/10\n15/15 [==============================] - 39s 3s/step - loss: 1.7299 - acc: 0.3043 - val_loss: 1.6560 - val_acc: 0.3366\nEpoch 2/10\n15/15 [==============================] - 41s 3s/step - loss: 1.5731 - acc: 0.4338 - val_loss: 1.5126 - val_acc: 0.3831\nEpoch 3/10\n15/15 [==============================] - 43s 3s/step - loss: 1.2041 - acc: 0.5177 - val_loss: 1.0777 - val_acc: 0.5446\nEpoch 4/10\n15/15 [==============================] - 53s 4s/step - loss: 0.7876 - acc: 0.7585 - val_loss: 0.8732 - val_acc: 0.6935\nEpoch 5/10\n15/15 [==============================] - 65s 4s/step - loss: 0.4617 - acc: 0.8613 - val_loss: 0.7998 - val_acc: 0.7126\nEpoch 6/10\n15/15 [==============================] - 68s 5s/step - loss: 0.2650 - acc: 0.9307 - val_loss: 0.7576 - val_acc: 0.7504\nEpoch 7/10\n15/15 [==============================] - 72s 5s/step - loss: 0.1356 - acc: 0.9617 - val_loss: 0.6820 - val_acc: 0.7679\nEpoch 8/10\n15/15 [==============================] - 66s 4s/step - loss: 0.0771 - acc: 0.9748 - val_loss: 0.6772 - val_acc: 0.7778\nEpoch 9/10\n15/15 [==============================] - 67s 4s/step - loss: 0.0324 - acc: 0.9947 - val_loss: 0.6979 - val_acc: 0.7904\nEpoch 10/10\n15/15 [==============================] - 69s 5s/step - loss: 0.0201 - acc: 0.9974 - val_loss: 0.6862 - val_acc: 0.7947\n"
        },
        {
          "output_type": "execute_result",
          "data": {
            "text/plain": "<tensorflow.python.keras.callbacks.History at 0x11f97bb9fc8>"
          },
          "metadata": {},
          "execution_count": 140
        }
      ]
    },
    {
      "cell_type": "code",
      "execution_count": 141,
      "metadata": {},
      "outputs": [],
      "source": [
        "model.save('news_classification_500_10_0.7947.h5')"
      ]
    },
    {
      "cell_type": "markdown",
      "metadata": {
        "id": "iNwtSY7Z5XpD",
        "colab_type": "text"
      },
      "source": [
        "# AI타임즈 최근 뉴스120개 분류해보기"
      ]
    },
    {
      "cell_type": "code",
      "metadata": {
        "id": "wdmAkCntn3o6",
        "colab_type": "code",
        "colab": {}
      },
      "source": [
        "test_csv=pd.read_csv('AItimes_content.csv')\n",
        "test_list =pd.read_csv('AItimes_list.csv')\n",
        "\n",
        "times_data= pd.merge(test_csv, test_list,on='link')\n",
        "times_data = times_data[['tag','content','title']]"
      ],
      "execution_count": 142,
      "outputs": []
    },
    {
      "cell_type": "code",
      "metadata": {
        "id": "DIQ3v8ko9wi0",
        "colab_type": "code",
        "colab": {
          "base_uri": "https://localhost:8080/",
          "height": 570
        },
        "outputId": "9c22855c-a0cd-435d-e1e9-b7ce77d49f7c"
      },
      "source": [
        "times_data"
      ],
      "execution_count": 143,
      "outputs": [
        {
          "output_type": "execute_result",
          "data": {
            "text/plain": "                                                   tag  \\\n0                           엔비디아,ARM,소프트뱅크,GPU,CPU,반도체   \n1                                                  NaN   \n2                                                  NaN   \n3                       5G,전자파,전자기파,전파,무선통신,이동통신,과기정통부   \n4                                                  NaN   \n..                                                 ...   \n115  국립전파연구원,국제전기통신연합,ITU,ITU-T,SG17,양자암호통신,정보보호,국제...   \n116                                                NaN   \n117  산업통상자원부,인공지능반도체,AI반도체,자율주행차,사물인터넷,IoT,바이오,로봇,미세공정   \n118    한국인공지능학회,인공지능,AI,인공지능대학원,AI대학원,바이오의료,신경과학,컴퓨터비전   \n119                                                NaN   \n\n                                               content  \\\n0    [<p>결국 엔비디아가 ARM을 인수했다. 인수액은 400억달러(약 47조원). 전...   \n1    [<p>광주와 전남지역을 합쳐 하나의 지방자치단체를 만들자는 '광주·전남 행정통합'...   \n2    [<p> </p>, <p>1조원의 예산이 투입되는 AI 중심 산업융합 집적단지가 광...   \n3    [<p>국립전파연구원이 전자파에 대한 올바른 정보를 제공한다. 온라인 포럼을 통해 ...   \n4    [<p>삼성전기가 초소형 파워인덕터를 개발했다. </p>, <p>파워인덕터는 반도체...   \n..                                                 ...   \n115  [<p>국제표준기구가 국내 연구진 주도로 제안한 정보보호 분야 표준안 8건을 국제 ...   \n116  [<p>4족 보행 로봇 ‘스폿(Spot)’이 코로나19 최전방에서 고생하는 의료진에...   \n117  [<p>정부가 인공지능(AI) 반도체 상용화를 목표로 관련 기술 개발에 착수한다. ...   \n118  [<p>한국인공지능학회(학회장 유창동)는 인공지능(AI) 연구자의 학술 교류 및 최...   \n119  [<p>마스크 착용 여부와 체온을 측정해 코로나19 방역 관리 효율을 높일 수 있는...   \n\n                                                 title  \n0               엔비디아, ARM 인수 '확정'…젠슨 황, \"AI 시대를 위한 결정\"  \n1                                광주·전남 행정 통합 논의 시동 걸었다  \n2    [Monday News] 'AI 중심도시 광주' 이것이 풀어야 할 과제다 ④ 광주 ...  \n3                   인체에 유해한 전자파?…국립전파연구원, '팩트체크' 자리 마련  \n4                      삼성전기, 초소형 파워인덕터 개발…엣지 AI 소형화 가속  \n..                                                 ...  \n115                     국내 주도 ICT 보안 표준안 8건 '국제 표준' 채택  \n116                   로봇견 ‘스폿’, 코로나19 최전방서 의료진 도와 활약할까  \n117       산업부, AI 반도체 상용화 위한 기술 개발 추진… 미래차ㆍIoT 등에 적용한다  \n118               한국인공지능학회, '2020년 하계학술대회' 열어 AI 연구 조망  \n119                 \"턱스크 잡는다\"...LG U+, ‘AIㆍ5G 방역로봇’ 개발  \n\n[120 rows x 3 columns]",
            "text/html": "<div>\n<style scoped>\n    .dataframe tbody tr th:only-of-type {\n        vertical-align: middle;\n    }\n\n    .dataframe tbody tr th {\n        vertical-align: top;\n    }\n\n    .dataframe thead th {\n        text-align: right;\n    }\n</style>\n<table border=\"1\" class=\"dataframe\">\n  <thead>\n    <tr style=\"text-align: right;\">\n      <th></th>\n      <th>tag</th>\n      <th>content</th>\n      <th>title</th>\n    </tr>\n  </thead>\n  <tbody>\n    <tr>\n      <th>0</th>\n      <td>엔비디아,ARM,소프트뱅크,GPU,CPU,반도체</td>\n      <td>[&lt;p&gt;결국 엔비디아가 ARM을 인수했다. 인수액은 400억달러(약 47조원). 전...</td>\n      <td>엔비디아, ARM 인수 '확정'…젠슨 황, \"AI 시대를 위한 결정\"</td>\n    </tr>\n    <tr>\n      <th>1</th>\n      <td>NaN</td>\n      <td>[&lt;p&gt;광주와 전남지역을 합쳐 하나의 지방자치단체를 만들자는 '광주·전남 행정통합'...</td>\n      <td>광주·전남 행정 통합 논의 시동 걸었다</td>\n    </tr>\n    <tr>\n      <th>2</th>\n      <td>NaN</td>\n      <td>[&lt;p&gt; &lt;/p&gt;, &lt;p&gt;1조원의 예산이 투입되는 AI 중심 산업융합 집적단지가 광...</td>\n      <td>[Monday News] 'AI 중심도시 광주' 이것이 풀어야 할 과제다 ④ 광주 ...</td>\n    </tr>\n    <tr>\n      <th>3</th>\n      <td>5G,전자파,전자기파,전파,무선통신,이동통신,과기정통부</td>\n      <td>[&lt;p&gt;국립전파연구원이 전자파에 대한 올바른 정보를 제공한다. 온라인 포럼을 통해 ...</td>\n      <td>인체에 유해한 전자파?…국립전파연구원, '팩트체크' 자리 마련</td>\n    </tr>\n    <tr>\n      <th>4</th>\n      <td>NaN</td>\n      <td>[&lt;p&gt;삼성전기가 초소형 파워인덕터를 개발했다. &lt;/p&gt;, &lt;p&gt;파워인덕터는 반도체...</td>\n      <td>삼성전기, 초소형 파워인덕터 개발…엣지 AI 소형화 가속</td>\n    </tr>\n    <tr>\n      <th>...</th>\n      <td>...</td>\n      <td>...</td>\n      <td>...</td>\n    </tr>\n    <tr>\n      <th>115</th>\n      <td>국립전파연구원,국제전기통신연합,ITU,ITU-T,SG17,양자암호통신,정보보호,국제...</td>\n      <td>[&lt;p&gt;국제표준기구가 국내 연구진 주도로 제안한 정보보호 분야 표준안 8건을 국제 ...</td>\n      <td>국내 주도 ICT 보안 표준안 8건 '국제 표준' 채택</td>\n    </tr>\n    <tr>\n      <th>116</th>\n      <td>NaN</td>\n      <td>[&lt;p&gt;4족 보행 로봇 ‘스폿(Spot)’이 코로나19 최전방에서 고생하는 의료진에...</td>\n      <td>로봇견 ‘스폿’, 코로나19 최전방서 의료진 도와 활약할까</td>\n    </tr>\n    <tr>\n      <th>117</th>\n      <td>산업통상자원부,인공지능반도체,AI반도체,자율주행차,사물인터넷,IoT,바이오,로봇,미세공정</td>\n      <td>[&lt;p&gt;정부가 인공지능(AI) 반도체 상용화를 목표로 관련 기술 개발에 착수한다. ...</td>\n      <td>산업부, AI 반도체 상용화 위한 기술 개발 추진… 미래차ㆍIoT 등에 적용한다</td>\n    </tr>\n    <tr>\n      <th>118</th>\n      <td>한국인공지능학회,인공지능,AI,인공지능대학원,AI대학원,바이오의료,신경과학,컴퓨터비전</td>\n      <td>[&lt;p&gt;한국인공지능학회(학회장 유창동)는 인공지능(AI) 연구자의 학술 교류 및 최...</td>\n      <td>한국인공지능학회, '2020년 하계학술대회' 열어 AI 연구 조망</td>\n    </tr>\n    <tr>\n      <th>119</th>\n      <td>NaN</td>\n      <td>[&lt;p&gt;마스크 착용 여부와 체온을 측정해 코로나19 방역 관리 효율을 높일 수 있는...</td>\n      <td>\"턱스크 잡는다\"...LG U+, ‘AIㆍ5G 방역로봇’ 개발</td>\n    </tr>\n  </tbody>\n</table>\n<p>120 rows × 3 columns</p>\n</div>"
          },
          "metadata": {},
          "execution_count": 143
        }
      ]
    },
    {
      "cell_type": "code",
      "metadata": {
        "id": "-ZxQxoUxiXXG",
        "colab_type": "code",
        "colab": {
          "base_uri": "https://localhost:8080/",
          "height": 228
        },
        "outputId": "5b3dadc4-af51-49a6-f9b3-512e9dd42c07"
      },
      "source": [
        "# 뉴스 제목 전처리, 단어 이외의 문자들은 띄어쓰기로 변경\n",
        "times_data['title'] = times_data['title'].str.replace(\"[^\\w]\", \" \")\n",
        "\n",
        "# 기사 내용 전처리, 괄호 단어 뽑기, 괄호 제거 후 띄어쓰기\n",
        "import re\n",
        "p = re.compile(r'<.+?>') #html 구조 제거\n",
        "p2 = re.compile(r'\\(([^)]+)') # 괄호 뽑기\n",
        "p3 = re.compile( r'\\([^)]*\\)') # 괄호 제거\n",
        "\n",
        "times_data['regex_content'] = ''\n",
        "times_data['regex_blank'] = ''\n",
        "\n",
        "for n in range(len(times_data['content'])):\n",
        "  sub_content= re.sub(p,'',times_data['content'][n]) #html 구조 제거한 기사 문장\n",
        "  times_data['regex_blank'][n]= p2.findall(times_data['content'][n]) #괄호 단어 뽑은 리스트\n",
        "  sub_content = re.sub(p3,' ',sub_content) #괄호 제거한 기사 문장\n",
        "  sub_content = sub_content.replace(\"[^\\w]\", \" \")\n",
        "  times_data['regex_content'][n] = re.sub('[-=+,#/\\?:^$.@*\\\"※~&%ㆍ·∙!』▲\\\\’‘|\\(\\)\\[\\]\\<\\>`\\'…》]', ' ', sub_content)\n",
        "  \n",
        "times_data['regex_content']\n",
        "\n",
        "# 태그 내용 전처리\n",
        "\n",
        "times_data['tag_1'] = ''\n",
        "for i in range(len(times_data['tag'])) :\n",
        "  if times_data['tag'].isnull()[i]: times_data['tag_1'][i] = \"\"\n",
        "  else : times_data['tag_1'][i]= times_data['tag'][i].replace(',',' ')\n",
        "\n",
        "  \n",
        "times_data['all']=times_data['title'] +' ' + times_data['tag_1'] + ' ' + times_data['regex_content']\n",
        "times_data['all']"
      ],
      "execution_count": 144,
      "outputs": [
        {
          "output_type": "execute_result",
          "data": {
            "text/plain": "0      엔비디아  ARM 인수  확정  젠슨 황   AI 시대를 위한 결정  엔비디아 AR...\n1      광주 전남 행정 통합 논의 시동 걸었다   광주와 전남지역을 합쳐 하나의 지방자치단...\n2       Monday News   AI 중심도시 광주  이것이 풀어야 할 과제다 ④ 광주 ...\n3      인체에 유해한 전자파  국립전파연구원   팩트체크  자리 마련 5G 전자파 전자기파...\n4      삼성전기  초소형 파워인덕터 개발 엣지 AI 소형화 가속   삼성전기가 초소형 파워...\n                             ...                        \n115    국내 주도 ICT 보안 표준안 8건  국제 표준  채택 국립전파연구원 국제전기통신연...\n116    로봇견  스폿   코로나19 최전방서 의료진 도와 활약할까   4족 보행 로봇  스...\n117    산업부  AI 반도체 상용화 위한 기술 개발 추진  미래차ㆍIoT 등에 적용한다 산...\n118    한국인공지능학회   2020년 하계학술대회  열어 AI 연구 조망 한국인공지능학회 ...\n119     턱스크 잡는다    LG U    AIㆍ5G 방역로봇  개발   마스크 착용 여부...\nName: all, Length: 120, dtype: object"
          },
          "metadata": {},
          "execution_count": 144
        }
      ]
    },
    {
      "cell_type": "code",
      "metadata": {
        "id": "MTFyHFTppS00",
        "colab_type": "code",
        "colab": {}
      },
      "source": [
        "# 불용어 제거, 토큰화 진행 --> 띄어쓰기 기준으로 문장 잘라 list에 담기\n",
        "\n",
        "stopwords = ['','▲','밝혔다','있는','의','관련','예정이다','주로','이를','보면','두고','줄','게','역시', '각','볼','다', '등이다','수도','매우','중요한','보였다','혹은','등과','이라는', '관한','itchosun','한다고','이어','후','매일', '여부를','등은','이들은','그동안','했다','할', '◇','시','모든','현재', '1','주요', '이후','설명했다','전','경우','내','하지만','그는', '같은', '총','따라', '가장','것이','대비','관계자는','있도록','최근','기존','한다','것이다','라고','더','중','따르면', '다양한','말했다','이번','것으로','한','이에','다만','하고','또','함께','수','를','을','등','으로','것','약','가','이','즉','은','될','큰','는','로','및','에','그','곧','기자','chosunbiz','며','우리','com','위해','아니라','고','바','와','과','있다','통해','뒤','해','밖에','대한','보다','하는','위한','등을']\n",
        "\n",
        "X_token = []\n",
        "for stc in times_data['all']:\n",
        "    token = []\n",
        "    words = stc.split()\n",
        "    for word in words:\n",
        "        if word not in stopwords:\n",
        "            token.append(word)\n",
        "    X_token.append(token)"
      ],
      "execution_count": 145,
      "outputs": []
    },
    {
      "cell_type": "code",
      "metadata": {
        "id": "wdZuRHptGetK",
        "colab_type": "code",
        "colab": {}
      },
      "source": [
        "# token_stc =m.nouns(sentence)\n",
        "from tensorflow.keras.models import load_model\n",
        "model = load_model('news_classification_500_10_0.7947.h5')\n",
        "empty = []\n",
        "\n",
        "for token_stc in X_token :\n",
        "  encode_stc = tokenizer.texts_to_sequences([token_stc])\n",
        "  pad_stc = pad_sequences(encode_stc, maxlen=500)\n",
        "  score = model.predict(pad_stc)\n",
        "  result_category = category_list[score.argmax()]\n",
        "  result_prob= score[0, score.argmax()] # 확률값 반환\n",
        "  empty.append([result_category, result_prob])"
      ],
      "execution_count": 158,
      "outputs": []
    },
    {
      "cell_type": "code",
      "metadata": {
        "id": "UAdm2rYM9jaq",
        "colab_type": "code",
        "colab": {
          "base_uri": "https://localhost:8080/",
          "height": 402
        },
        "outputId": "dcfa977a-1926-4dc9-9ffd-5a515f26c5f5"
      },
      "source": [
        "result=pd.DataFrame(empty,columns=['category','prob'])\n",
        "resultttt=pd.concat([times_data,result],axis=1)\n",
        "\n",
        "resultttt[['title','category','prob']]"
      ],
      "execution_count": 159,
      "outputs": [
        {
          "output_type": "execute_result",
          "data": {
            "text/plain": "                                                 title category      prob\n0               엔비디아  ARM 인수  확정  젠슨 황   AI 시대를 위한 결정        공통  0.991313\n1                                광주 전남 행정 통합 논의 시동 걸었다       공통  0.334632\n2     Monday News   AI 중심도시 광주  이것이 풀어야 할 과제다 ④ 광주 ...       공통  0.874326\n3                   인체에 유해한 전자파  국립전파연구원   팩트체크  자리 마련       공통  0.982499\n4                      삼성전기  초소형 파워인덕터 개발 엣지 AI 소형화 가속       기술  0.989388\n..                                                 ...      ...       ...\n115                     국내 주도 ICT 보안 표준안 8건  국제 표준  채택       기술  0.810954\n116                   로봇견  스폿   코로나19 최전방서 의료진 도와 활약할까       공통  0.747474\n117       산업부  AI 반도체 상용화 위한 기술 개발 추진  미래차ㆍIoT 등에 적용한다       기술  0.716872\n118               한국인공지능학회   2020년 하계학술대회  열어 AI 연구 조망       공통  0.705879\n119                  턱스크 잡는다    LG U    AIㆍ5G 방역로봇  개발       공통  0.993220\n\n[120 rows x 3 columns]",
            "text/html": "<div>\n<style scoped>\n    .dataframe tbody tr th:only-of-type {\n        vertical-align: middle;\n    }\n\n    .dataframe tbody tr th {\n        vertical-align: top;\n    }\n\n    .dataframe thead th {\n        text-align: right;\n    }\n</style>\n<table border=\"1\" class=\"dataframe\">\n  <thead>\n    <tr style=\"text-align: right;\">\n      <th></th>\n      <th>title</th>\n      <th>category</th>\n      <th>prob</th>\n    </tr>\n  </thead>\n  <tbody>\n    <tr>\n      <th>0</th>\n      <td>엔비디아  ARM 인수  확정  젠슨 황   AI 시대를 위한 결정</td>\n      <td>공통</td>\n      <td>0.991313</td>\n    </tr>\n    <tr>\n      <th>1</th>\n      <td>광주 전남 행정 통합 논의 시동 걸었다</td>\n      <td>공통</td>\n      <td>0.334632</td>\n    </tr>\n    <tr>\n      <th>2</th>\n      <td>Monday News   AI 중심도시 광주  이것이 풀어야 할 과제다 ④ 광주 ...</td>\n      <td>공통</td>\n      <td>0.874326</td>\n    </tr>\n    <tr>\n      <th>3</th>\n      <td>인체에 유해한 전자파  국립전파연구원   팩트체크  자리 마련</td>\n      <td>공통</td>\n      <td>0.982499</td>\n    </tr>\n    <tr>\n      <th>4</th>\n      <td>삼성전기  초소형 파워인덕터 개발 엣지 AI 소형화 가속</td>\n      <td>기술</td>\n      <td>0.989388</td>\n    </tr>\n    <tr>\n      <th>...</th>\n      <td>...</td>\n      <td>...</td>\n      <td>...</td>\n    </tr>\n    <tr>\n      <th>115</th>\n      <td>국내 주도 ICT 보안 표준안 8건  국제 표준  채택</td>\n      <td>기술</td>\n      <td>0.810954</td>\n    </tr>\n    <tr>\n      <th>116</th>\n      <td>로봇견  스폿   코로나19 최전방서 의료진 도와 활약할까</td>\n      <td>공통</td>\n      <td>0.747474</td>\n    </tr>\n    <tr>\n      <th>117</th>\n      <td>산업부  AI 반도체 상용화 위한 기술 개발 추진  미래차ㆍIoT 등에 적용한다</td>\n      <td>기술</td>\n      <td>0.716872</td>\n    </tr>\n    <tr>\n      <th>118</th>\n      <td>한국인공지능학회   2020년 하계학술대회  열어 AI 연구 조망</td>\n      <td>공통</td>\n      <td>0.705879</td>\n    </tr>\n    <tr>\n      <th>119</th>\n      <td>턱스크 잡는다    LG U    AIㆍ5G 방역로봇  개발</td>\n      <td>공통</td>\n      <td>0.993220</td>\n    </tr>\n  </tbody>\n</table>\n<p>120 rows × 3 columns</p>\n</div>"
          },
          "metadata": {},
          "execution_count": 159
        }
      ]
    },
    {
      "cell_type": "code",
      "metadata": {
        "id": "F9E7y8nwAwyE",
        "colab_type": "code",
        "colab": {
          "base_uri": "https://localhost:8080/",
          "height": 122
        },
        "outputId": "a0a486bc-469f-49e7-ba6f-ef3d4793dad2"
      },
      "source": [
        "resultttt.category.value_counts()"
      ],
      "execution_count": 160,
      "outputs": [
        {
          "output_type": "execute_result",
          "data": {
            "text/plain": "공통       72\n기술       33\n문화/예술     8\n경제        5\n사회        2\nName: category, dtype: int64"
          },
          "metadata": {},
          "execution_count": 160
        }
      ]
    },
    {
      "cell_type": "code",
      "metadata": {
        "id": "rWiwXmvs-WTQ",
        "colab_type": "code",
        "colab": {
          "base_uri": "https://localhost:8080/",
          "height": 254
        },
        "outputId": "470769e4-83f7-4b38-cbb2-7c7597a85412"
      },
      "source": [
        "resultttt[resultttt.category == '문화/예술'].sort_values(['prob'],ascending=False)"
      ],
      "execution_count": 161,
      "outputs": [
        {
          "output_type": "execute_result",
          "data": {
            "text/plain": "                                             tag  \\\n41   네이버,연세대학교,MOU,협약식,상호협약,SW,HW,온라인협약,교육과정공동개발   \n99                                           NaN   \n46                                           NaN   \n32                                           NaN   \n82       카카오,경기도청,데이터센터,한양대,네트워크,서버,스토리지,AI,클라우드   \n113                                          NaN   \n38                                           NaN   \n103                                          NaN   \n\n                                               content  \\\n41   [<p>네이버와 연세대가 AI 교육과 산학 협력 프로젝트를 위해 힘을 모은다.</p...   \n99   [<p>미래 국내 게임 산업을 이끌 스타트업 기업을 발굴하는 지역행사가 성공적으로 ...   \n46   [<p>국내 가상현실(VR) 콘텐츠 진화는 어느 단계까지 와 있을까? 전남 나주혁신...   \n32   [<p>데이터 과학자들이 한데 모여 앨범자켓만으로 장르를 구별해내는 AI를 개발했다...   \n82   [<p>카카오(대표 여민수, 조수용)가 4000억원을 투입해 경기도 안산시 소재 한...   \n113  [<p>미 국방부(펜타곤)가 2일(현지시간) 구글과 협업해 퇴역 참전용사가 겪는 특...   \n38   [<p>광주광역시가 인공지능(AI)과 문화기술(CT)를 활용해 지역 문화재를 보전한...   \n103  [<p>지난 8월 18일부터 AI타임스가 시작한 특집 기획 [한국의 인공지능대학원]...   \n\n                                   title  \\\n41          네이버 연세대학교  AI 인재 발굴 위한 협력 제휴   \n99         전남에서 게임 창업하자  스타트업 지원 행사  눈길    \n46                 VR 콘텐츠 진화 BCWW에서 확인한다   \n32                앨범자켓만으로 장르 구분하는 AI 나온다   \n82   카카오  한양대 에리카 캠퍼스에 6EB 규모 데이터센터 건설한다   \n113          펜타곤 구글  암 투병 퇴역 군인 위해 AI 활용   \n38                 광주 지역 무형문화재  AI로 보전한다   \n103              특집  한국의 8대 인공지능대학원 총 집합   \n\n                                         regex_content  \\\n41    네이버와 연세대가 AI 교육과 산학 협력 프로젝트를 위해 힘을 모은다   네이버 ...   \n99    미래 국내 게임 산업을 이끌 스타트업 기업을 발굴하는 지역행사가 성공적으로 개최돼...   \n46    국내 가상현실  콘텐츠 진화는 어느 단계까지 와 있을까  전남 나주혁신도시에 위치...   \n32    데이터 과학자들이 한데 모여 앨범자켓만으로 장르를 구별해내는 AI를 개발했다   ...   \n82    카카오 가 4000억원을 투입해 경기도 안산시 소재 한양대 에리카 캠퍼스에 6EB...   \n113   미 국방부 가 2일  구글과 협업해 퇴역 참전용사가 겪는 특정 암을 연구하고 식별...   \n38    광주광역시가 인공지능 과 문화기술 를 활용해 지역 문화재를 보전한다  광주시는 광...   \n103   지난 8월 18일부터 AI타임스가 시작한 특집 기획  한국의 인공지능대학원 이 9...   \n\n                          regex_blank  \\\n41         [대표이사 한성숙, 총장 서승환, HW, SW]   \n99                       [AI, AR, VR]   \n46                     [VR, BCWW, AI]   \n32                 [주황색 표시, 약 7000억원]   \n82   [대표 여민수, 조수용, 엑사바이트, MOU, 엑사바이트]   \n113      [펜타곤, 현지시간, DHA, DARPA, 다르파]   \n38     [AI, CT, 국비 25, 시비 25, AI, CT]   \n103                [GIST, AI, 입학금 포함]   \n\n                                           tag_1  \\\n41   네이버 연세대학교 MOU 협약식 상호협약 SW HW 온라인협약 교육과정공동개발   \n99                                                 \n46                                                 \n32                                                 \n82       카카오 경기도청 데이터센터 한양대 네트워크 서버 스토리지 AI 클라우드   \n113                                                \n38                                                 \n103                                                \n\n                                                   all category      prob  \n41   네이버 연세대학교  AI 인재 발굴 위한 협력 제휴 네이버 연세대학교 MOU 협약식...    문화/예술  0.926351  \n99    전남에서 게임 창업하자  스타트업 지원 행사  눈길    미래 국내 게임 산업을 ...    문화/예술  0.903985  \n46   VR 콘텐츠 진화 BCWW에서 확인한다   국내 가상현실  콘텐츠 진화는 어느 단계...    문화/예술  0.902828  \n32   앨범자켓만으로 장르 구분하는 AI 나온다   데이터 과학자들이 한데 모여 앨범자켓만...    문화/예술  0.629920  \n82   카카오  한양대 에리카 캠퍼스에 6EB 규모 데이터센터 건설한다 카카오 경기도청 데...    문화/예술  0.612981  \n113  펜타곤 구글  암 투병 퇴역 군인 위해 AI 활용   미 국방부 가 2일  구글과 ...    문화/예술  0.470480  \n38   광주 지역 무형문화재  AI로 보전한다   광주광역시가 인공지능 과 문화기술 를 활...    문화/예술  0.469742  \n103   특집  한국의 8대 인공지능대학원 총 집합   지난 8월 18일부터 AI타임스가 ...    문화/예술  0.377623  ",
            "text/html": "<div>\n<style scoped>\n    .dataframe tbody tr th:only-of-type {\n        vertical-align: middle;\n    }\n\n    .dataframe tbody tr th {\n        vertical-align: top;\n    }\n\n    .dataframe thead th {\n        text-align: right;\n    }\n</style>\n<table border=\"1\" class=\"dataframe\">\n  <thead>\n    <tr style=\"text-align: right;\">\n      <th></th>\n      <th>tag</th>\n      <th>content</th>\n      <th>title</th>\n      <th>regex_content</th>\n      <th>regex_blank</th>\n      <th>tag_1</th>\n      <th>all</th>\n      <th>category</th>\n      <th>prob</th>\n    </tr>\n  </thead>\n  <tbody>\n    <tr>\n      <th>41</th>\n      <td>네이버,연세대학교,MOU,협약식,상호협약,SW,HW,온라인협약,교육과정공동개발</td>\n      <td>[&lt;p&gt;네이버와 연세대가 AI 교육과 산학 협력 프로젝트를 위해 힘을 모은다.&lt;/p...</td>\n      <td>네이버 연세대학교  AI 인재 발굴 위한 협력 제휴</td>\n      <td>네이버와 연세대가 AI 교육과 산학 협력 프로젝트를 위해 힘을 모은다   네이버 ...</td>\n      <td>[대표이사 한성숙, 총장 서승환, HW, SW]</td>\n      <td>네이버 연세대학교 MOU 협약식 상호협약 SW HW 온라인협약 교육과정공동개발</td>\n      <td>네이버 연세대학교  AI 인재 발굴 위한 협력 제휴 네이버 연세대학교 MOU 협약식...</td>\n      <td>문화/예술</td>\n      <td>0.926351</td>\n    </tr>\n    <tr>\n      <th>99</th>\n      <td>NaN</td>\n      <td>[&lt;p&gt;미래 국내 게임 산업을 이끌 스타트업 기업을 발굴하는 지역행사가 성공적으로 ...</td>\n      <td>전남에서 게임 창업하자  스타트업 지원 행사  눈길</td>\n      <td>미래 국내 게임 산업을 이끌 스타트업 기업을 발굴하는 지역행사가 성공적으로 개최돼...</td>\n      <td>[AI, AR, VR]</td>\n      <td></td>\n      <td>전남에서 게임 창업하자  스타트업 지원 행사  눈길    미래 국내 게임 산업을 ...</td>\n      <td>문화/예술</td>\n      <td>0.903985</td>\n    </tr>\n    <tr>\n      <th>46</th>\n      <td>NaN</td>\n      <td>[&lt;p&gt;국내 가상현실(VR) 콘텐츠 진화는 어느 단계까지 와 있을까? 전남 나주혁신...</td>\n      <td>VR 콘텐츠 진화 BCWW에서 확인한다</td>\n      <td>국내 가상현실  콘텐츠 진화는 어느 단계까지 와 있을까  전남 나주혁신도시에 위치...</td>\n      <td>[VR, BCWW, AI]</td>\n      <td></td>\n      <td>VR 콘텐츠 진화 BCWW에서 확인한다   국내 가상현실  콘텐츠 진화는 어느 단계...</td>\n      <td>문화/예술</td>\n      <td>0.902828</td>\n    </tr>\n    <tr>\n      <th>32</th>\n      <td>NaN</td>\n      <td>[&lt;p&gt;데이터 과학자들이 한데 모여 앨범자켓만으로 장르를 구별해내는 AI를 개발했다...</td>\n      <td>앨범자켓만으로 장르 구분하는 AI 나온다</td>\n      <td>데이터 과학자들이 한데 모여 앨범자켓만으로 장르를 구별해내는 AI를 개발했다   ...</td>\n      <td>[주황색 표시, 약 7000억원]</td>\n      <td></td>\n      <td>앨범자켓만으로 장르 구분하는 AI 나온다   데이터 과학자들이 한데 모여 앨범자켓만...</td>\n      <td>문화/예술</td>\n      <td>0.629920</td>\n    </tr>\n    <tr>\n      <th>82</th>\n      <td>카카오,경기도청,데이터센터,한양대,네트워크,서버,스토리지,AI,클라우드</td>\n      <td>[&lt;p&gt;카카오(대표 여민수, 조수용)가 4000억원을 투입해 경기도 안산시 소재 한...</td>\n      <td>카카오  한양대 에리카 캠퍼스에 6EB 규모 데이터센터 건설한다</td>\n      <td>카카오 가 4000억원을 투입해 경기도 안산시 소재 한양대 에리카 캠퍼스에 6EB...</td>\n      <td>[대표 여민수, 조수용, 엑사바이트, MOU, 엑사바이트]</td>\n      <td>카카오 경기도청 데이터센터 한양대 네트워크 서버 스토리지 AI 클라우드</td>\n      <td>카카오  한양대 에리카 캠퍼스에 6EB 규모 데이터센터 건설한다 카카오 경기도청 데...</td>\n      <td>문화/예술</td>\n      <td>0.612981</td>\n    </tr>\n    <tr>\n      <th>113</th>\n      <td>NaN</td>\n      <td>[&lt;p&gt;미 국방부(펜타곤)가 2일(현지시간) 구글과 협업해 퇴역 참전용사가 겪는 특...</td>\n      <td>펜타곤 구글  암 투병 퇴역 군인 위해 AI 활용</td>\n      <td>미 국방부 가 2일  구글과 협업해 퇴역 참전용사가 겪는 특정 암을 연구하고 식별...</td>\n      <td>[펜타곤, 현지시간, DHA, DARPA, 다르파]</td>\n      <td></td>\n      <td>펜타곤 구글  암 투병 퇴역 군인 위해 AI 활용   미 국방부 가 2일  구글과 ...</td>\n      <td>문화/예술</td>\n      <td>0.470480</td>\n    </tr>\n    <tr>\n      <th>38</th>\n      <td>NaN</td>\n      <td>[&lt;p&gt;광주광역시가 인공지능(AI)과 문화기술(CT)를 활용해 지역 문화재를 보전한...</td>\n      <td>광주 지역 무형문화재  AI로 보전한다</td>\n      <td>광주광역시가 인공지능 과 문화기술 를 활용해 지역 문화재를 보전한다  광주시는 광...</td>\n      <td>[AI, CT, 국비 25, 시비 25, AI, CT]</td>\n      <td></td>\n      <td>광주 지역 무형문화재  AI로 보전한다   광주광역시가 인공지능 과 문화기술 를 활...</td>\n      <td>문화/예술</td>\n      <td>0.469742</td>\n    </tr>\n    <tr>\n      <th>103</th>\n      <td>NaN</td>\n      <td>[&lt;p&gt;지난 8월 18일부터 AI타임스가 시작한 특집 기획 [한국의 인공지능대학원]...</td>\n      <td>특집  한국의 8대 인공지능대학원 총 집합</td>\n      <td>지난 8월 18일부터 AI타임스가 시작한 특집 기획  한국의 인공지능대학원 이 9...</td>\n      <td>[GIST, AI, 입학금 포함]</td>\n      <td></td>\n      <td>특집  한국의 8대 인공지능대학원 총 집합   지난 8월 18일부터 AI타임스가 ...</td>\n      <td>문화/예술</td>\n      <td>0.377623</td>\n    </tr>\n  </tbody>\n</table>\n</div>"
          },
          "metadata": {},
          "execution_count": 161
        }
      ]
    },
    {
      "cell_type": "code",
      "metadata": {
        "id": "ahQwx7I4AkVm",
        "colab_type": "code",
        "colab": {}
      },
      "source": [
        ""
      ],
      "execution_count": null,
      "outputs": []
    }
  ]
}