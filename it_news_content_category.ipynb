{
  "nbformat": 4,
  "nbformat_minor": 0,
  "metadata": {
    "colab": {
      "name": "it_news_content_category.ipynb",
      "provenance": [],
      "collapsed_sections": []
    },
    "kernelspec": {
      "name": "python3",
      "display_name": "Python 3"
    }
  },
  "cells": [
    {
      "cell_type": "code",
      "metadata": {
        "id": "64lb59mPm_lR",
        "colab_type": "code",
        "colab": {
          "base_uri": "https://localhost:8080/",
          "height": 34
        },
        "outputId": "e23100b6-1ee2-4b16-f81a-1dd9ce0f53e0"
      },
      "source": [
        "from google.colab import drive\n",
        "drive.mount('/content/drive')"
      ],
      "execution_count": 301,
      "outputs": [
        {
          "output_type": "stream",
          "text": [
            "Drive already mounted at /content/drive; to attempt to forcibly remount, call drive.mount(\"/content/drive\", force_remount=True).\n"
          ],
          "name": "stdout"
        }
      ]
    },
    {
      "cell_type": "code",
      "metadata": {
        "id": "8RM-eg0dEiao",
        "colab_type": "code",
        "colab": {}
      },
      "source": [
        "from tensorflow.keras.models import Sequential, Model\n",
        "from tensorflow.keras.layers import Embedding, Conv1D, GlobalMaxPooling1D, Dense, Flatten, Concatenate, Input, LSTM\n",
        "from tensorflow.keras.utils import to_categorical\n",
        "from tensorflow.keras.preprocessing.sequence import pad_sequences\n",
        "\n",
        "import pandas as pd"
      ],
      "execution_count": 307,
      "outputs": []
    },
    {
      "cell_type": "markdown",
      "metadata": {
        "id": "ydbQv_xFFQQN",
        "colab_type": "text"
      },
      "source": [
        "# 데이터 로드 및 전처리"
      ]
    },
    {
      "cell_type": "code",
      "metadata": {
        "id": "q7LgP7bOgmcX",
        "colab_type": "code",
        "colab": {
          "base_uri": "https://localhost:8080/",
          "height": 586
        },
        "outputId": "92147a72-c79f-4aef-9ecc-75f7bf502303"
      },
      "source": [
        "\n",
        "news_data = pd.read_csv('/content/drive/My Drive/ITchosun_content.csv')\n",
        "\n",
        "news_data=news_data.rename(columns={\"small_category\":'category'})\n",
        "news_data=news_data.dropna(axis=0)\n",
        "news_data.reset_index(drop=True, inplace=True)\n",
        "news_data"
      ],
      "execution_count": 308,
      "outputs": [
        {
          "output_type": "execute_result",
          "data": {
            "text/html": [
              "<div>\n",
              "<style scoped>\n",
              "    .dataframe tbody tr th:only-of-type {\n",
              "        vertical-align: middle;\n",
              "    }\n",
              "\n",
              "    .dataframe tbody tr th {\n",
              "        vertical-align: top;\n",
              "    }\n",
              "\n",
              "    .dataframe thead th {\n",
              "        text-align: right;\n",
              "    }\n",
              "</style>\n",
              "<table border=\"1\" class=\"dataframe\">\n",
              "  <thead>\n",
              "    <tr style=\"text-align: right;\">\n",
              "      <th></th>\n",
              "      <th>link</th>\n",
              "      <th>title</th>\n",
              "      <th>date</th>\n",
              "      <th>content</th>\n",
              "      <th>tag</th>\n",
              "      <th>big_category</th>\n",
              "      <th>category</th>\n",
              "    </tr>\n",
              "  </thead>\n",
              "  <tbody>\n",
              "    <tr>\n",
              "      <th>0</th>\n",
              "      <td>http://it.chosun.com/site/data/html_dir/2020/0...</td>\n",
              "      <td>LG, AI로 차세대 화학소재 개발 나선다</td>\n",
              "      <td>2020.09.13</td>\n",
              "      <td>[&lt;div class=\"par\"&gt;LG가 친환경 촉매, 차세대 소재 등 화학소재 개발...</td>\n",
              "      <td>lg사이언스파크,화학소재,인공지능,ai,a3md,토탈</td>\n",
              "      <td>기술</td>\n",
              "      <td>과학·기술</td>\n",
              "    </tr>\n",
              "    <tr>\n",
              "      <th>1</th>\n",
              "      <td>http://it.chosun.com/site/data/html_dir/2020/0...</td>\n",
              "      <td>현대차·인천시, 국토부 ‘스마트시티 챌린지 사업’ 협약 맺어</td>\n",
              "      <td>2020.09.13</td>\n",
              "      <td>[&lt;div class=\"par\"&gt;현대자동차가 인공지능 기반 통합 모빌리티 서비스 고...</td>\n",
              "      <td>자동차,국산차,현대자동차,컨소시엄,스마트챌린지</td>\n",
              "      <td>자동차</td>\n",
              "      <td>일반</td>\n",
              "    </tr>\n",
              "    <tr>\n",
              "      <th>2</th>\n",
              "      <td>http://it.chosun.com/site/data/html_dir/2020/0...</td>\n",
              "      <td>[차주경의 테크&amp;영화] 그러게 고독이 무섭다니까, 패신저스(Passengers, 2...</td>\n",
              "      <td>2020.09.13</td>\n",
              "      <td>[&lt;div class=\"par\"&gt;&lt;span style=\"color:#0000ff;\"...</td>\n",
              "      <td>영화,테크,기술,ict,인공지능,ai,가상현실,vr,로봇,칩,인공두뇌,증강현실,바이...</td>\n",
              "      <td>게임·라이프</td>\n",
              "      <td>미디어·엔터테인먼트</td>\n",
              "    </tr>\n",
              "    <tr>\n",
              "      <th>3</th>\n",
              "      <td>http://it.chosun.com/site/data/html_dir/2020/0...</td>\n",
              "      <td>[주간 테크 뉴스] 넥슨, 부당한 방법으로 단숨에 던파 1위 등극 의혹</td>\n",
              "      <td>2020.09.12</td>\n",
              "      <td>[&lt;div class=\"par\"&gt;2020년 9월 7일부터 9월 11일까지 한 주간 ...</td>\n",
              "      <td>IT조선, itchosun, IT조선, 일반</td>\n",
              "      <td>기업</td>\n",
              "      <td>일반</td>\n",
              "    </tr>\n",
              "    <tr>\n",
              "      <th>4</th>\n",
              "      <td>http://it.chosun.com/site/data/html_dir/2020/0...</td>\n",
              "      <td>메가존 클라우드, AI 유니콘 '그래프코어'와 총판 계약 체결</td>\n",
              "      <td>2020.09.11</td>\n",
              "      <td>[&lt;div class=\"par\"&gt;클라우드 관리 기업&lt;span style=\"font-...</td>\n",
              "      <td>메가존클라우드,메가존,그래프코어,이주완,자연어처리,컴퓨터비전,ai</td>\n",
              "      <td>기업</td>\n",
              "      <td>컴퓨팅·IT서비스</td>\n",
              "    </tr>\n",
              "    <tr>\n",
              "      <th>...</th>\n",
              "      <td>...</td>\n",
              "      <td>...</td>\n",
              "      <td>...</td>\n",
              "      <td>...</td>\n",
              "      <td>...</td>\n",
              "      <td>...</td>\n",
              "      <td>...</td>\n",
              "    </tr>\n",
              "    <tr>\n",
              "      <th>1966</th>\n",
              "      <td>http://it.chosun.com/site/data/html_dir/2019/0...</td>\n",
              "      <td>'눈 가리고 달리는' 중국 기술개발, 개인정보·인권 무시에 사회 감시까지</td>\n",
              "      <td>2019.09.05</td>\n",
              "      <td>[&lt;div class=\"par\"&gt;중국이 미국 기술 리더십에 도전하는 과정에서 끊임없...</td>\n",
              "      <td>중국,자오,딥페이크,감시,통제,위구르족,아이폰해킹,멀웨어</td>\n",
              "      <td>기술</td>\n",
              "      <td>로봇·드론·VR</td>\n",
              "    </tr>\n",
              "    <tr>\n",
              "      <th>1967</th>\n",
              "      <td>http://it.chosun.com/site/data/html_dir/2019/0...</td>\n",
              "      <td>코닥은 ‘폭망’ 인스타는 '대박'…“창의적인건 실패 가능성 높지만 끝까지 밀어부쳐야\"</td>\n",
              "      <td>2019.09.05</td>\n",
              "      <td>[&lt;div class=\"par\"&gt;코닥은 디지털 카메라 시장 선구자다. 누구도 코닥의...</td>\n",
              "      <td>실패박물관,사무엘웨스트,스타트업,혁신</td>\n",
              "      <td>기업</td>\n",
              "      <td>중기·벤처</td>\n",
              "    </tr>\n",
              "    <tr>\n",
              "      <th>1968</th>\n",
              "      <td>http://it.chosun.com/site/data/html_dir/2019/0...</td>\n",
              "      <td>KT, 관리시스템 ‘아타카마’로 글로벌 시장 도전</td>\n",
              "      <td>2019.09.04</td>\n",
              "      <td>[&lt;div class=\"par\"&gt;KT가 50억원을 투자해 빅데이터 기반 차세대 외부...</td>\n",
              "      <td>아타카마,차세대osp관리시스템,kt,5g,사파이어,아현화재</td>\n",
              "      <td>기업</td>\n",
              "      <td>방송·통신</td>\n",
              "    </tr>\n",
              "    <tr>\n",
              "      <th>1969</th>\n",
              "      <td>http://it.chosun.com/site/data/html_dir/2019/0...</td>\n",
              "      <td>인텔, IFA서 '10세대' 노트북 대거 공개…차세대 노트북 비전 제시한다</td>\n",
              "      <td>2019.09.04</td>\n",
              "      <td>[&lt;div class=\"par\"&gt;인텔이 독일 베를린에서 열리는 IFA 2019에서 ...</td>\n",
              "      <td>인텔,ifa2019,10세대프로세서,아테나프로젝트,오픈랩,노트북,2in1,pc혁신</td>\n",
              "      <td>기업</td>\n",
              "      <td>PC·가전·모바일</td>\n",
              "    </tr>\n",
              "    <tr>\n",
              "      <th>1970</th>\n",
              "      <td>http://it.chosun.com/site/data/html_dir/2019/0...</td>\n",
              "      <td>삼성전자, 5G 통합 모바일 AP 프로세서 내놨다</td>\n",
              "      <td>2019.09.04</td>\n",
              "      <td>[&lt;div class=\"par\"&gt;&lt;strong&gt;고성능 NPU 탑재로 AI 연산 속도...</td>\n",
              "      <td>삼성전자,엑시노스980,5g통합칩,온디바이스ai</td>\n",
              "      <td>기업</td>\n",
              "      <td>PC·가전·모바일</td>\n",
              "    </tr>\n",
              "  </tbody>\n",
              "</table>\n",
              "<p>1971 rows × 7 columns</p>\n",
              "</div>"
            ],
            "text/plain": [
              "                                                   link  ...    category\n",
              "0     http://it.chosun.com/site/data/html_dir/2020/0...  ...       과학·기술\n",
              "1     http://it.chosun.com/site/data/html_dir/2020/0...  ...          일반\n",
              "2     http://it.chosun.com/site/data/html_dir/2020/0...  ...  미디어·엔터테인먼트\n",
              "3     http://it.chosun.com/site/data/html_dir/2020/0...  ...          일반\n",
              "4     http://it.chosun.com/site/data/html_dir/2020/0...  ...   컴퓨팅·IT서비스\n",
              "...                                                 ...  ...         ...\n",
              "1966  http://it.chosun.com/site/data/html_dir/2019/0...  ...    로봇·드론·VR\n",
              "1967  http://it.chosun.com/site/data/html_dir/2019/0...  ...       중기·벤처\n",
              "1968  http://it.chosun.com/site/data/html_dir/2019/0...  ...       방송·통신\n",
              "1969  http://it.chosun.com/site/data/html_dir/2019/0...  ...   PC·가전·모바일\n",
              "1970  http://it.chosun.com/site/data/html_dir/2019/0...  ...   PC·가전·모바일\n",
              "\n",
              "[1971 rows x 7 columns]"
            ]
          },
          "metadata": {
            "tags": []
          },
          "execution_count": 308
        }
      ]
    },
    {
      "cell_type": "code",
      "metadata": {
        "id": "sU1H11m_tAqU",
        "colab_type": "code",
        "colab": {
          "base_uri": "https://localhost:8080/",
          "height": 52
        },
        "outputId": "e169a73d-2027-4b00-a4cc-e9c2d2710ef0"
      },
      "source": [
        "news_data['big_category'].unique()"
      ],
      "execution_count": 309,
      "outputs": [
        {
          "output_type": "execute_result",
          "data": {
            "text/plain": [
              "array(['기술', '자동차', '게임·라이프', '기업', '칼럼·해설', '사람', '전체 기사', '뉴스'],\n",
              "      dtype=object)"
            ]
          },
          "metadata": {
            "tags": []
          },
          "execution_count": 309
        }
      ]
    },
    {
      "cell_type": "markdown",
      "metadata": {
        "id": "YkLbQsGT4DF7",
        "colab_type": "text"
      },
      "source": [
        "\n",
        "================================================\n",
        "\n",
        "<기술>\n",
        "- 공통 --> 일반\n",
        "- 기술 --> 과학·기술 , 보안 , 로봇·드론·VR\n",
        "\n",
        "=================================================\n",
        "\n",
        "<게임·라이프>\n",
        "- 문화/예술 --> 미디어·엔터테인먼트, 게임·인터넷\n",
        "- 사회 --> 유통·쇼핑, 키덜트·키즈, 일반\n",
        "\n",
        "=======================================================\n",
        "\n",
        "<기업>\n",
        "- 일반, 중기·벤처, 산업일반, 중공업 제거\n",
        "\n",
        "- 공통 --> 컴퓨팅·IT서비스, 방송·통신, 외신\n",
        "- 경제 --> 금융·핀테크\n",
        "- 건강 --> 헬스케어·바이오\n",
        "- 기술 --> PC·가전·모바일, 반도체·디스플레이\n"
      ]
    },
    {
      "cell_type": "code",
      "metadata": {
        "id": "WZbe5Gd3tLTc",
        "colab_type": "code",
        "colab": {
          "base_uri": "https://localhost:8080/",
          "height": 52
        },
        "outputId": "ba8a7718-2965-41be-e900-55388a2ce25c"
      },
      "source": [
        "tech=news_data[news_data['big_category'] == '기술'].index ################# 기술\n",
        "news_data.iloc[tech].category.unique()  # '과학·기술', '일반', '로봇·드론·VR', '보안'\n",
        "\n",
        "game_life=news_data[news_data['big_category'] == '게임·라이프'].index\n",
        "news_data.iloc[game_life].category.unique() #'미디어·엔터테인먼트', '게임·인터넷', '유통·쇼핑', '일반', '키덜트·키즈'\n",
        "\n",
        "company=news_data[news_data['big_category'] == '기업'].index \n",
        "news_data.iloc[company].category.unique() #'일반', '컴퓨팅·IT서비스', 'PC·가전·모바일', '금융·핀테크', '중기·벤처', '반도체·디스플레이', '헬스케어·바이오', '외신', '방송·통신', '산업일반', '중공업'\n"
      ],
      "execution_count": 310,
      "outputs": [
        {
          "output_type": "execute_result",
          "data": {
            "text/plain": [
              "array(['일반', '컴퓨팅·IT서비스', 'PC·가전·모바일', '금융·핀테크', '중기·벤처', '반도체·디스플레이',\n",
              "       '헬스케어·바이오', '외신', '방송·통신', '산업일반', '중공업'], dtype=object)"
            ]
          },
          "metadata": {
            "tags": []
          },
          "execution_count": 310
        }
      ]
    },
    {
      "cell_type": "markdown",
      "metadata": {
        "id": "pLOtfw6LICWm",
        "colab_type": "text"
      },
      "source": [
        "\n",
        "카테고리 삭제"
      ]
    },
    {
      "cell_type": "code",
      "metadata": {
        "id": "dQcLeMH3rBDO",
        "colab_type": "code",
        "colab": {}
      },
      "source": [
        "news_data['category'].value_counts()\n",
        "\n",
        "drop1=news_data[news_data['big_category'] == '자동차'].index\n",
        "news_data=news_data.drop(drop1)\n",
        "drop2=news_data[news_data['big_category'] == '칼럼·해설'].index\n",
        "news_data=news_data.drop(drop2)\n",
        "drop2=news_data[news_data['big_category'] == '사람'].index\n",
        "news_data=news_data.drop(drop2)\n",
        "drop2=news_data[news_data['big_category'] == '전체 기사'].index\n",
        "news_data=news_data.drop(drop2)\n",
        "drop2=news_data[news_data['big_category'] == '뉴스'].index\n",
        "news_data=news_data.drop(drop2)\n",
        "drop2 = news_data[(news_data['big_category']=='기업') & (news_data['category']=='일반')].index\n",
        "news_data=news_data.drop(drop2)\n",
        "drop2 = news_data[(news_data['big_category']=='기업') & (news_data['category']=='중기·벤처')].index\n",
        "news_data=news_data.drop(drop2)\n",
        "drop2 = news_data[(news_data['big_category']=='기업') & (news_data['category']=='산업일반')].index\n",
        "news_data=news_data.drop(drop2)\n",
        "drop2 = news_data[(news_data['big_category']=='기업') & (news_data['category']=='중공업')].index\n",
        "news_data=news_data.drop(drop2)\n",
        "\n",
        "\n",
        "news_data.reset_index(drop=True, inplace=True)"
      ],
      "execution_count": 311,
      "outputs": []
    },
    {
      "cell_type": "markdown",
      "metadata": {
        "id": "RbCdXGVQIIk2",
        "colab_type": "text"
      },
      "source": [
        "팀메이트에 맞는 카테고리로 변환 --> 교육이 없음ㅠㅠ"
      ]
    },
    {
      "cell_type": "code",
      "metadata": {
        "id": "5qjk1Hat3g5m",
        "colab_type": "code",
        "colab": {
          "base_uri": "https://localhost:8080/",
          "height": 105
        },
        "outputId": "a12b6b43-8c5e-4a30-d48a-678a8ee39649"
      },
      "source": [
        "import numpy as np\n",
        "\n",
        "news_data['team_category'] = np.nan\n",
        "news_data['team_category'][news_data[(news_data['big_category']=='기술') & (news_data['category']=='과학·기술')].index]='기술'\n",
        "\n",
        "news_data['team_category'][news_data[(news_data['big_category']=='기술') & (news_data['category']=='보안')].index] = '기술'\n",
        "news_data['team_category'][news_data[(news_data['big_category']=='기술') & (news_data['category']=='로봇·드론·VR')].index] = '기술'\n",
        "news_data['team_category'][news_data[(news_data['big_category']=='기술') & (news_data['category']=='일반')].index]= '공통'\n",
        "\n",
        "news_data['team_category'][news_data[(news_data['big_category']=='게임·라이프') & (news_data['category']=='미디어·엔터테인먼트')].index]= '문화/예술'\n",
        "news_data['team_category'][news_data[(news_data['big_category']=='게임·라이프') & (news_data['category']=='게임·인터넷')].index] = '문화/예술'\n",
        "news_data['team_category'][news_data[(news_data['big_category']=='게임·라이프') & (news_data['category']=='유통·쇼핑')].index] = '사회'\n",
        "news_data['team_category'][news_data[(news_data['big_category']=='게임·라이프') & (news_data['category']=='키덜트·키즈')].index] = '사회'\n",
        "news_data['team_category'][news_data[(news_data['big_category']=='게임·라이프') & (news_data['category']=='일반')].index] = '사회'\n",
        "\n",
        "news_data['team_category'][news_data[(news_data['big_category']=='기업') & (news_data['category']=='컴퓨팅·IT서비스')].index] = '공통'\n",
        "news_data['team_category'][news_data[(news_data['big_category']=='기업') & (news_data['category']=='방송·통신')].index] = '공통'\n",
        "news_data['team_category'][news_data[(news_data['big_category']=='기업') & (news_data['category']=='외신')].index]= '공통'\n",
        "news_data['team_category'][news_data[(news_data['big_category']=='기업') & (news_data['category']=='금융·핀테크')].index] = '경제'\n",
        "news_data['team_category'][news_data[(news_data['big_category']=='기업') & (news_data['category']=='헬스케어·바이오')].index]= '건강'\n",
        "news_data['team_category'][news_data[(news_data['big_category']=='기업') & (news_data['category']=='PC·가전·모바일')].index]= '기술'\n",
        "news_data['team_category'][news_data[(news_data['big_category']=='기업') & (news_data['category']=='반도체·디스플레이')].index] = '기술'\n",
        "\n"
      ],
      "execution_count": 312,
      "outputs": [
        {
          "output_type": "stream",
          "text": [
            "/usr/local/lib/python3.6/dist-packages/ipykernel_launcher.py:4: SettingWithCopyWarning: \n",
            "A value is trying to be set on a copy of a slice from a DataFrame\n",
            "\n",
            "See the caveats in the documentation: https://pandas.pydata.org/pandas-docs/stable/user_guide/indexing.html#returning-a-view-versus-a-copy\n",
            "  after removing the cwd from sys.path.\n"
          ],
          "name": "stderr"
        }
      ]
    },
    {
      "cell_type": "code",
      "metadata": {
        "id": "fBTVtijj6sBa",
        "colab_type": "code",
        "colab": {
          "base_uri": "https://localhost:8080/",
          "height": 228
        },
        "outputId": "373b48a7-c5c5-47cc-b9a2-a0fbaafba4ff"
      },
      "source": [
        "news_data.isna().sum()\n",
        "news_data['team_category']"
      ],
      "execution_count": 313,
      "outputs": [
        {
          "output_type": "execute_result",
          "data": {
            "text/plain": [
              "0          기술\n",
              "1       문화/예술\n",
              "2          공통\n",
              "3          기술\n",
              "4          기술\n",
              "        ...  \n",
              "1399       기술\n",
              "1400       기술\n",
              "1401       공통\n",
              "1402       기술\n",
              "1403       기술\n",
              "Name: team_category, Length: 1404, dtype: object"
            ]
          },
          "metadata": {
            "tags": []
          },
          "execution_count": 313
        }
      ]
    },
    {
      "cell_type": "code",
      "metadata": {
        "id": "xt_pnlx5r7W5",
        "colab_type": "code",
        "colab": {}
      },
      "source": [
        "# 카테고리 정수 인코딩\n",
        "\n",
        "category_list = pd.factorize(news_data['team_category'])[1]\n",
        "news_data['category'] = pd.factorize(news_data['team_category'])[0]\n",
        "\n",
        "news_data['category'].unique()\n",
        "category_list.nunique()\n",
        "\n",
        "news_data=news_data[['title','content','tag','category']]"
      ],
      "execution_count": 314,
      "outputs": []
    },
    {
      "cell_type": "code",
      "metadata": {
        "id": "DO0B-7ZCIhL3",
        "colab_type": "code",
        "colab": {
          "base_uri": "https://localhost:8080/",
          "height": 140
        },
        "outputId": "9927c1b8-8334-45b8-d679-c0abc07105c1"
      },
      "source": [
        "news_data['category'].value_counts() # 6개의 카테고리"
      ],
      "execution_count": 315,
      "outputs": [
        {
          "output_type": "execute_result",
          "data": {
            "text/plain": [
              "2    691\n",
              "0    371\n",
              "1    158\n",
              "3     79\n",
              "4     61\n",
              "5     44\n",
              "Name: category, dtype: int64"
            ]
          },
          "metadata": {
            "tags": []
          },
          "execution_count": 315
        }
      ]
    },
    {
      "cell_type": "markdown",
      "metadata": {
        "id": "uOrTchPaIhXb",
        "colab_type": "text"
      },
      "source": [
        "# 뉴스 제목, 기사 내용, 태그 내용 전처리"
      ]
    },
    {
      "cell_type": "code",
      "metadata": {
        "id": "y060Ub92G8kN",
        "colab_type": "code",
        "colab": {}
      },
      "source": [
        "# 뉴스 제목 전처리, 단어 이외의 문자들은 띄어쓰기로 변경\n",
        "news_data['title'] = news_data['title'].str.replace(\"[^\\w]\", \" \")"
      ],
      "execution_count": null,
      "outputs": []
    },
    {
      "cell_type": "code",
      "metadata": {
        "id": "-0DWB3bJsvje",
        "colab_type": "code",
        "colab": {
          "base_uri": "https://localhost:8080/",
          "height": 193
        },
        "outputId": "61dee6f9-ceb2-47ae-e0a7-3058eba34bd3"
      },
      "source": [
        "#  기사 내용 전처리, 괄호 단어 뽑기, 괄호 제거, 기호 제거 후 띄어쓰기로 분리 준비\n",
        "\n",
        "import re\n",
        "p = re.compile(r'<.+?>') #html 구조 제거\n",
        "p2 = re.compile(r'\\(([^)]+)') # 괄호 뽑기\n",
        "p3 = re.compile( r'\\([^)]*\\)') # 괄호 제거\n",
        "\n",
        "news_data['regex_content'] = ''\n",
        "news_data['regex_blank'] = ''\n",
        "\n",
        "for n in range(len(news_data['content'])):\n",
        "  sub_content= re.sub(p,'',news_data['content'][n]) #html 구조 제거한 기사 문장\n",
        "  news_data['regex_blank'][n]= p2.findall(news_data['content'][n]) #괄호 단어 뽑은 리스트\n",
        "  sub_content = re.sub(p3,' ',sub_content) #괄호 제거한 기사 문장\n",
        "  sub_content = sub_content.replace(\"[^\\w]\", \" \")\n",
        "  news_data['regex_content'][n] = re.sub('[-=+,#/\\?:^$.@*\\\"※~&%ㆍ·∙!』\\\\’‘|\\(\\)\\[\\]\\<\\>`\\'…》]', ' ', sub_content)\n",
        "  "
      ],
      "execution_count": 317,
      "outputs": [
        {
          "output_type": "stream",
          "text": [
            "/usr/local/lib/python3.6/dist-packages/ipykernel_launcher.py:13: SettingWithCopyWarning: \n",
            "A value is trying to be set on a copy of a slice from a DataFrame\n",
            "\n",
            "See the caveats in the documentation: https://pandas.pydata.org/pandas-docs/stable/user_guide/indexing.html#returning-a-view-versus-a-copy\n",
            "  del sys.path[0]\n",
            "/usr/local/lib/python3.6/dist-packages/ipykernel_launcher.py:16: SettingWithCopyWarning: \n",
            "A value is trying to be set on a copy of a slice from a DataFrame\n",
            "\n",
            "See the caveats in the documentation: https://pandas.pydata.org/pandas-docs/stable/user_guide/indexing.html#returning-a-view-versus-a-copy\n",
            "  app.launch_new_instance()\n"
          ],
          "name": "stderr"
        }
      ]
    },
    {
      "cell_type": "code",
      "metadata": {
        "id": "9uxnlK40GaNL",
        "colab_type": "code",
        "colab": {
          "base_uri": "https://localhost:8080/",
          "height": 105
        },
        "outputId": "36000b2b-d2d9-4ea9-e93d-1d1481ca96fd"
      },
      "source": [
        "#태그 전처리\n",
        "\n",
        "news_data['tag_1'] = ''\n",
        "\n",
        "for i in range(len(news_data['tag'])) :\n",
        "  news_data['tag_1'][i]= news_data['tag'][i].replace(',',' ')\n",
        "\n",
        "  # .replace(',',' ')"
      ],
      "execution_count": null,
      "outputs": [
        {
          "output_type": "stream",
          "text": [
            "/usr/local/lib/python3.6/dist-packages/ipykernel_launcher.py:6: SettingWithCopyWarning: \n",
            "A value is trying to be set on a copy of a slice from a DataFrame\n",
            "\n",
            "See the caveats in the documentation: https://pandas.pydata.org/pandas-docs/stable/user_guide/indexing.html#returning-a-view-versus-a-copy\n",
            "  \n"
          ],
          "name": "stderr"
        }
      ]
    },
    {
      "cell_type": "code",
      "metadata": {
        "id": "aX8NzK5qyd4S",
        "colab_type": "code",
        "colab": {
          "base_uri": "https://localhost:8080/",
          "height": 178
        },
        "outputId": "06012a7b-64fa-42e8-a8e7-e07ad4114dbf"
      },
      "source": [
        "news_data['regex_content'][0]"
      ],
      "execution_count": null,
      "outputs": [
        {
          "output_type": "execute_result",
          "data": {
            "application/vnd.google.colaboratory.intrinsic+json": {
              "type": "string"
            },
            "text/plain": [
              "' LG가 친환경 촉매  차세대 소재 등 화학소재 개발 분야에서 인공지능 와 로봇 기술을 활용한 혁신을 가속화한다 LG사이언스파크는 11일 캐나다의 토론토대학교와 맥마스터대학교  프랑스 에너지 석유회사  토탈 과 함께  AI 기반 소재 개발 컨소시엄  을 결성해 공동연구를 추진한다고 13일 밝혔다   A3MD는 AI를 활용한 소재 개발 분야에서 글로벌 최고 수준의 학계와 산업계 파트너가 함께 참여하는 AI 연합이다 LG는 창립 멤버로 참여했다  신소재 개발을 위한 AI 선행기술을 확보하는 동시에 소재 분야 AI 석학 등과 함께 공동 연구개발 네트워크 기반을 구축한다 컨소시엄은  친환경 촉매 와  차세대 광학소재  개발이 목표다  다양한 AI 모델링 및 자동화 실험 플랫폼 구축 등을 진행한다 보통 석유화학 공정에서 뽑아내는 에틸렌과 같은 화합물은 공기 중의 이산화탄소로부터도 생산할 수 있다  이때 화학반응을 유도하는 촉매를 머신러닝과 자동화 로봇 시스템을 이용해 설계할 수 있다는 것이다  전기를 빛으로 변환하는  페로브스카이트  같은 차세대 소재도 슈퍼컴퓨터 시뮬레이션과 AI 모델링 등을 통해 개발기간을 앞당기고 발광소재 등으로 활용도를 넓힐 수 있다 기존의 소재 연구는 먼저 신규 소재를 발굴한 뒤  이를 합성하고 물성을 검증하는 과정을 반복해야 해 신소재 개발에 수년 혹은 십수년 시간이 소요될 수 밖에 없었다 AI 기술을 소재 개발에 적용하면 소재 물성에 대한 데이터를 보다 정확하게 파악할 수 있다  반복 실험을 거쳐야 하는 기존 연구방법보다 개발 비용이나 기간을 대폭 줄여 고객사별 맞춤형 소재를 보다 제공할 수 있다 컨소시엄에는 소재 정보학  계산 화학 및 로봇을 이용한 대규모 실험 자동화 분야의 AI 권위자인 토론토대 테드 사전트 와 알란 아스푸루구직   맥마스터대 드류 히긴스  등 교수진이 참여한다  에너지 데이터 분석을 위한 AI 솔루션 개발에 적극적인 토탈도 산업계 파트너로 참여한다 A3MD는 비대면 온라인 화상회의 등을 통해 공동 프로젝트를 진행하면서 생성된 데이터와 알고리즘과 같은 성과를 공유하고  AI 교육 프로그램  전문가 포럼  기업 인턴십 등을 통해 교류를 늘려갈 계획이다 LG사이언스파크는 인공지능 분야의 선두 주자인 토론토대학교를 비롯한 글로벌 유수 기관들과의 협업을 통해 딥러닝  머신러닝 등 다양한 연구를 진행하고 있다  2019년 7월에는 토론토대학교와 산업과 물류  제조 현장에 적용되는 AI 기술 개발을 위해  토론토 기업용 인공지능연구소 를 신설하기도 했다 배경훈 LG사이언스파크 AI추진단장은  LG는 화학소재 분야뿐 아니라  다방면에 걸쳐 글로벌 AI의 선두주자들과 오픈 파트너십을 통해 내외부 AI역량을 확보하고 우리 주변 난제를 해결하겠다 며  고객의 삶을 바꿀 수 있는 의미 있는 연구를 지속하겠다 고 말했다 이광영 기자 gwang0e chosunbiz com '"
            ]
          },
          "metadata": {
            "tags": []
          },
          "execution_count": 200
        }
      ]
    },
    {
      "cell_type": "code",
      "metadata": {
        "id": "lW5gzX63JK7G",
        "colab_type": "code",
        "colab": {}
      },
      "source": [
        "# 메캅 사용 X -> split으로 대체\n",
        "########################################## ########################################## ########################################## \n",
        "# ######################                     MECAB 설치 https://sosomemo.tistory.com/31                     ###################### \n",
        "# ########################################## ########################################## ########################################## \n",
        "\n",
        "# !apt-get update\n",
        "# !apt-get install g++ openjdk-8-jdk\n",
        "# !pip3 install konlpy JPype1-py3\n",
        "# !bash <(curl -s https://raw.githubusercontent.com/konlpy/konlpy/master/scripts/mecab.sh)"
      ],
      "execution_count": 318,
      "outputs": []
    },
    {
      "cell_type": "code",
      "metadata": {
        "id": "wjSInQPRa22i",
        "colab_type": "code",
        "colab": {}
      },
      "source": [
        "news_data['headline']=news_data['title'] +' ' + news_data['tag_1'] + ' ' + news_data['regex_content']\n",
        "news_data['headline']\n",
        "\n",
        "# 불용어 제거, 토큰화 진행 --> 띄어쓰기 기준으로 문장 잘라 list에 담기\n",
        "stopwords = ['','또','함께','수','를','을','등','으로','것','약','가','이','즉','은','될','큰','는','로','및','에','그','곧','기자','chosunbiz','며','우리','com','위해','아니라','고','바','와','과','있다','통해','뒤','해','밖에','대한','보다','하는','위한','등을']\n",
        "\n",
        "X_token = []\n",
        "for stc in news_data['headline']:\n",
        "    token = []\n",
        "    words = stc.split()\n",
        "    for word in words:\n",
        "        if word not in stopwords:\n",
        "            token.append(word)\n",
        "    X_token.append(token)\n"
      ],
      "execution_count": null,
      "outputs": []
    },
    {
      "cell_type": "code",
      "metadata": {
        "id": "wxkHD6uc3D55",
        "colab_type": "code",
        "colab": {
          "base_uri": "https://localhost:8080/",
          "height": 34
        },
        "outputId": "dba1052b-3742-4ff3-87f4-8507582b61fb"
      },
      "source": [
        "len(X_token),len(news_data['category'])"
      ],
      "execution_count": null,
      "outputs": [
        {
          "output_type": "execute_result",
          "data": {
            "text/plain": [
              "(1404, 1404)"
            ]
          },
          "metadata": {
            "tags": []
          },
          "execution_count": 210
        }
      ]
    },
    {
      "cell_type": "markdown",
      "metadata": {
        "id": "qfID9DzeKQHN",
        "colab_type": "text"
      },
      "source": [
        "# test, trainset / classification fitting"
      ]
    },
    {
      "cell_type": "code",
      "metadata": {
        "id": "2frf1Kn8G9gC",
        "colab_type": "code",
        "colab": {
          "base_uri": "https://localhost:8080/",
          "height": 52
        },
        "outputId": "e8796b56-a661-4290-fa76-471367698cbc"
      },
      "source": [
        "from sklearn.model_selection import train_test_split\n",
        "\n",
        "# split하면서 shuffle 적용\n",
        "X_train, X_test, y_train, y_test = train_test_split(X_token, news_data['category'], test_size=0.2,shuffle=True)\n",
        "\n",
        "# 카테고리 OnehotVector\n",
        "y_train = to_categorical(y_train)\n",
        "y_test = to_categorical(y_test)\n",
        "\n",
        "print(len(y_train[0]))\n",
        "print(len(y_test[0]))\n",
        "\n",
        "# y_train.nunique(), y_test.nunique()"
      ],
      "execution_count": null,
      "outputs": [
        {
          "output_type": "stream",
          "text": [
            "6\n",
            "6\n"
          ],
          "name": "stdout"
        }
      ]
    },
    {
      "cell_type": "code",
      "metadata": {
        "id": "z2TdBHcwHA7D",
        "colab_type": "code",
        "colab": {}
      },
      "source": [
        "from tensorflow.keras.preprocessing.text import Tokenizer\n",
        "\n",
        "# 헤드라인 정수인코딩\n",
        "tokenizer = Tokenizer(20000) # 가장 빈도가 높은 10000개의 단어만 선택하도록 함\n",
        "tokenizer.fit_on_texts(X_train) #vocabulary 만들기\n",
        "X_train = tokenizer.texts_to_sequences(X_train) # vocabulary랑 매칭해 인덱스로 나타내기, 리스트 변환\n",
        "X_test = tokenizer.texts_to_sequences(X_test)"
      ],
      "execution_count": null,
      "outputs": []
    },
    {
      "cell_type": "code",
      "metadata": {
        "id": "nBKVMIAPHCXQ",
        "colab_type": "code",
        "colab": {
          "base_uri": "https://localhost:8080/",
          "height": 52
        },
        "outputId": "306075b3-817b-42dd-ee3c-30fd85df6220"
      },
      "source": [
        "print(len(tokenizer.word_index))\n",
        "\n",
        "wc = 0\n",
        "for word, word_count in tokenizer.word_counts.items():\n",
        "    if word_count <= 2:\n",
        "        wc += 1\n",
        "\n",
        "print(wc)"
      ],
      "execution_count": null,
      "outputs": [
        {
          "output_type": "stream",
          "text": [
            "82447\n",
            "62233\n"
          ],
          "name": "stdout"
        }
      ]
    },
    {
      "cell_type": "code",
      "metadata": {
        "id": "BdmyLiGHHEUx",
        "colab_type": "code",
        "colab": {
          "base_uri": "https://localhost:8080/",
          "height": 265
        },
        "outputId": "5eef0ca0-80ab-409f-e1b1-47a7e6b1f13b"
      },
      "source": [
        "import matplotlib.pyplot as plt # 500단어\n",
        "\n",
        "len_stc = []\n",
        "for data in X_train:\n",
        "    len_stc.append(len(data))\n",
        "\n",
        "y, x, _ = plt.hist(len_stc, bins=100)\n",
        "plt.show()"
      ],
      "execution_count": null,
      "outputs": [
        {
          "output_type": "display_data",
          "data": {
            "image/png": "[encoded data removed]",
            "text/plain": [
              "<Figure size 432x288 with 1 Axes>"
            ]
          },
          "metadata": {
            "tags": [],
            "needs_background": "light"
          }
        }
      ]
    },
    {
      "cell_type": "code",
      "metadata": {
        "id": "_FlbIpERHFuS",
        "colab_type": "code",
        "colab": {
          "base_uri": "https://localhost:8080/",
          "height": 140
        },
        "outputId": "f9521bad-af02-48f8-dc14-c6d58c51e8c7"
      },
      "source": [
        "max_len = 500 # 헤드라인 문장 길이를 보고 맞춰주기 - 패딩\n",
        "X_train = pad_sequences(X_train, maxlen=max_len)\n",
        "X_test = pad_sequences(X_test, maxlen=max_len)"
      ],
      "execution_count": null,
      "outputs": [
        {
          "output_type": "execute_result",
          "data": {
            "text/plain": [
              "array([[0., 0., 1., 0., 0., 0.],\n",
              "       [0., 1., 0., 0., 0., 0.],\n",
              "       [0., 0., 1., 0., 0., 0.],\n",
              "       ...,\n",
              "       [0., 0., 1., 0., 0., 0.],\n",
              "       [0., 0., 1., 0., 0., 0.],\n",
              "       [0., 0., 1., 0., 0., 0.]], dtype=float32)"
            ]
          },
          "metadata": {
            "tags": []
          },
          "execution_count": 215
        }
      ]
    },
    {
      "cell_type": "code",
      "metadata": {
        "id": "DgB8_3_DHG6b",
        "colab_type": "code",
        "colab": {}
      },
      "source": [
        "model = Sequential()\n",
        "model.add(Embedding(20000, 128))\n",
        "model.add(LSTM(128))\n",
        "model.add(Dense(6, activation='softmax')) #출력개수 6개의 카테고리"
      ],
      "execution_count": null,
      "outputs": []
    },
    {
      "cell_type": "code",
      "metadata": {
        "id": "loIwsdJhHIKz",
        "colab_type": "code",
        "colab": {
          "base_uri": "https://localhost:8080/",
          "height": 562
        },
        "outputId": "ca7b3253-c4bb-4f3d-e957-e388e549529a"
      },
      "source": [
        "model.compile(loss='categorical_crossentropy', optimizer='adam', metrics=['acc'])\n",
        "model.fit(X_train, y_train, validation_data=(X_test, y_test), batch_size=100, epochs=15)\n",
        "\n",
        "#batch_size : 한번의 batch마다 주는 데이터 샘플 사이즈/ 한 번에 모든 데이터를 넣을 수가 없음\n",
        "#iteration \n",
        "# epoch : 전체 데이터 셋에 대해 한 번 학습을 완료한 상태"
      ],
      "execution_count": null,
      "outputs": [
        {
          "output_type": "stream",
          "text": [
            "Epoch 1/15\n",
            "12/12 [==============================] - 19s 2s/step - loss: 1.7070 - acc: 0.4568 - val_loss: 1.4158 - val_acc: 0.4662\n",
            "Epoch 2/15\n",
            "12/12 [==============================] - 18s 2s/step - loss: 1.3278 - acc: 0.4987 - val_loss: 1.3170 - val_acc: 0.4662\n",
            "Epoch 3/15\n",
            "12/12 [==============================] - 18s 2s/step - loss: 1.1700 - acc: 0.5013 - val_loss: 1.2447 - val_acc: 0.4662\n",
            "Epoch 4/15\n",
            "12/12 [==============================] - 18s 2s/step - loss: 0.8923 - acc: 0.6046 - val_loss: 1.1184 - val_acc: 0.5338\n",
            "Epoch 5/15\n",
            "12/12 [==============================] - 18s 2s/step - loss: 0.5890 - acc: 0.7863 - val_loss: 1.7349 - val_acc: 0.5302\n",
            "Epoch 6/15\n",
            "12/12 [==============================] - 18s 2s/step - loss: 0.4953 - acc: 0.8210 - val_loss: 1.2037 - val_acc: 0.5196\n",
            "Epoch 7/15\n",
            "12/12 [==============================] - 18s 2s/step - loss: 0.3996 - acc: 0.8584 - val_loss: 1.3109 - val_acc: 0.5730\n",
            "Epoch 8/15\n",
            "12/12 [==============================] - 18s 2s/step - loss: 0.3138 - acc: 0.8762 - val_loss: 1.4382 - val_acc: 0.5801\n",
            "Epoch 9/15\n",
            "12/12 [==============================] - 18s 2s/step - loss: 0.2643 - acc: 0.8949 - val_loss: 1.6317 - val_acc: 0.5623\n",
            "Epoch 10/15\n",
            "12/12 [==============================] - 18s 2s/step - loss: 0.2205 - acc: 0.9207 - val_loss: 1.6302 - val_acc: 0.5623\n",
            "Epoch 11/15\n",
            "12/12 [==============================] - 18s 2s/step - loss: 0.1782 - acc: 0.9350 - val_loss: 1.6887 - val_acc: 0.6014\n",
            "Epoch 12/15\n",
            "12/12 [==============================] - 19s 2s/step - loss: 0.1389 - acc: 0.9501 - val_loss: 1.7320 - val_acc: 0.5979\n",
            "Epoch 13/15\n",
            "12/12 [==============================] - 18s 2s/step - loss: 0.1009 - acc: 0.9724 - val_loss: 1.8008 - val_acc: 0.5801\n",
            "Epoch 14/15\n",
            "12/12 [==============================] - 18s 2s/step - loss: 0.0731 - acc: 0.9902 - val_loss: 1.9489 - val_acc: 0.5765\n",
            "Epoch 15/15\n",
            "12/12 [==============================] - 18s 2s/step - loss: 0.0543 - acc: 0.9938 - val_loss: 1.8890 - val_acc: 0.5943\n"
          ],
          "name": "stdout"
        },
        {
          "output_type": "execute_result",
          "data": {
            "text/plain": [
              "<tensorflow.python.keras.callbacks.History at 0x7f266f8abfd0>"
            ]
          },
          "metadata": {
            "tags": []
          },
          "execution_count": 217
        }
      ]
    },
    {
      "cell_type": "markdown",
      "metadata": {
        "id": "iNwtSY7Z5XpD",
        "colab_type": "text"
      },
      "source": [
        "# AI타임즈 최근 뉴스120개 분류해보기"
      ]
    },
    {
      "cell_type": "code",
      "metadata": {
        "id": "wdmAkCntn3o6",
        "colab_type": "code",
        "colab": {}
      },
      "source": [
        "test_csv=pd.read_csv('/content/drive/My Drive/times_content.csv')\n",
        "test_list =pd.read_csv('/content/drive/My Drive/AItimes_list.csv')\n",
        "\n",
        "times_data= pd.merge(test_csv, test_list,on='link')\n",
        "times_data = times_data[['tag','content','title']]"
      ],
      "execution_count": null,
      "outputs": []
    },
    {
      "cell_type": "code",
      "metadata": {
        "id": "DIQ3v8ko9wi0",
        "colab_type": "code",
        "colab": {
          "base_uri": "https://localhost:8080/",
          "height": 570
        },
        "outputId": "9c22855c-a0cd-435d-e1e9-b7ce77d49f7c"
      },
      "source": [
        "times_data"
      ],
      "execution_count": null,
      "outputs": [
        {
          "output_type": "execute_result",
          "data": {
            "text/html": [
              "<div>\n",
              "<style scoped>\n",
              "    .dataframe tbody tr th:only-of-type {\n",
              "        vertical-align: middle;\n",
              "    }\n",
              "\n",
              "    .dataframe tbody tr th {\n",
              "        vertical-align: top;\n",
              "    }\n",
              "\n",
              "    .dataframe thead th {\n",
              "        text-align: right;\n",
              "    }\n",
              "</style>\n",
              "<table border=\"1\" class=\"dataframe\">\n",
              "  <thead>\n",
              "    <tr style=\"text-align: right;\">\n",
              "      <th></th>\n",
              "      <th>tag</th>\n",
              "      <th>content</th>\n",
              "      <th>title</th>\n",
              "    </tr>\n",
              "  </thead>\n",
              "  <tbody>\n",
              "    <tr>\n",
              "      <th>0</th>\n",
              "      <td>엔비디아,ARM,소프트뱅크,GPU,CPU,반도체</td>\n",
              "      <td>[&lt;p&gt;결국 엔비디아가 ARM을 인수했다. 인수액은 400억달러(약 47조원). 전...</td>\n",
              "      <td>엔비디아, ARM 인수 '확정'…젠슨 황, \"AI 시대를 위한 결정\"</td>\n",
              "    </tr>\n",
              "    <tr>\n",
              "      <th>1</th>\n",
              "      <td>NaN</td>\n",
              "      <td>[&lt;p&gt;광주와 전남지역을 합쳐 하나의 지방자치단체를 만들자는 '광주·전남 행정통합'...</td>\n",
              "      <td>광주·전남 행정 통합 논의 시동 걸었다</td>\n",
              "    </tr>\n",
              "    <tr>\n",
              "      <th>2</th>\n",
              "      <td>NaN</td>\n",
              "      <td>[&lt;p&gt; &lt;/p&gt;, &lt;p&gt;1조원의 예산이 투입되는 AI 중심 산업융합 집적단지가 광...</td>\n",
              "      <td>[Monday News] 'AI 중심도시 광주' 이것이 풀어야 할 과제다 ④ 광주 ...</td>\n",
              "    </tr>\n",
              "    <tr>\n",
              "      <th>3</th>\n",
              "      <td>5G,전자파,전자기파,전파,무선통신,이동통신,과기정통부</td>\n",
              "      <td>[&lt;p&gt;국립전파연구원이 전자파에 대한 올바른 정보를 제공한다. 온라인 포럼을 통해 ...</td>\n",
              "      <td>인체에 유해한 전자파?…국립전파연구원, '팩트체크' 자리 마련</td>\n",
              "    </tr>\n",
              "    <tr>\n",
              "      <th>4</th>\n",
              "      <td>NaN</td>\n",
              "      <td>[&lt;p&gt;삼성전기가 초소형 파워인덕터를 개발했다. &lt;/p&gt;, &lt;p&gt;파워인덕터는 반도체...</td>\n",
              "      <td>삼성전기, 초소형 파워인덕터 개발…엣지 AI 소형화 가속</td>\n",
              "    </tr>\n",
              "    <tr>\n",
              "      <th>...</th>\n",
              "      <td>...</td>\n",
              "      <td>...</td>\n",
              "      <td>...</td>\n",
              "    </tr>\n",
              "    <tr>\n",
              "      <th>115</th>\n",
              "      <td>국립전파연구원,국제전기통신연합,ITU,ITU-T,SG17,양자암호통신,정보보호,국제...</td>\n",
              "      <td>[&lt;p&gt;국제표준기구가 국내 연구진 주도로 제안한 정보보호 분야 표준안 8건을 국제 ...</td>\n",
              "      <td>국내 주도 ICT 보안 표준안 8건 '국제 표준' 채택</td>\n",
              "    </tr>\n",
              "    <tr>\n",
              "      <th>116</th>\n",
              "      <td>NaN</td>\n",
              "      <td>[&lt;p&gt;4족 보행 로봇 ‘스폿(Spot)’이 코로나19 최전방에서 고생하는 의료진에...</td>\n",
              "      <td>로봇견 ‘스폿’, 코로나19 최전방서 의료진 도와 활약할까</td>\n",
              "    </tr>\n",
              "    <tr>\n",
              "      <th>117</th>\n",
              "      <td>산업통상자원부,인공지능반도체,AI반도체,자율주행차,사물인터넷,IoT,바이오,로봇,미세공정</td>\n",
              "      <td>[&lt;p&gt;정부가 인공지능(AI) 반도체 상용화를 목표로 관련 기술 개발에 착수한다. ...</td>\n",
              "      <td>산업부, AI 반도체 상용화 위한 기술 개발 추진… 미래차ㆍIoT 등에 적용한다</td>\n",
              "    </tr>\n",
              "    <tr>\n",
              "      <th>118</th>\n",
              "      <td>한국인공지능학회,인공지능,AI,인공지능대학원,AI대학원,바이오의료,신경과학,컴퓨터비전</td>\n",
              "      <td>[&lt;p&gt;한국인공지능학회(학회장 유창동)는 인공지능(AI) 연구자의 학술 교류 및 최...</td>\n",
              "      <td>한국인공지능학회, '2020년 하계학술대회' 열어 AI 연구 조망</td>\n",
              "    </tr>\n",
              "    <tr>\n",
              "      <th>119</th>\n",
              "      <td>NaN</td>\n",
              "      <td>[&lt;p&gt;마스크 착용 여부와 체온을 측정해 코로나19 방역 관리 효율을 높일 수 있는...</td>\n",
              "      <td>\"턱스크 잡는다\"...LG U+, ‘AIㆍ5G 방역로봇’ 개발</td>\n",
              "    </tr>\n",
              "  </tbody>\n",
              "</table>\n",
              "<p>120 rows × 3 columns</p>\n",
              "</div>"
            ],
            "text/plain": [
              "                                                   tag  ...                                              title\n",
              "0                           엔비디아,ARM,소프트뱅크,GPU,CPU,반도체  ...             엔비디아, ARM 인수 '확정'…젠슨 황, \"AI 시대를 위한 결정\"\n",
              "1                                                  NaN  ...                              광주·전남 행정 통합 논의 시동 걸었다\n",
              "2                                                  NaN  ...  [Monday News] 'AI 중심도시 광주' 이것이 풀어야 할 과제다 ④ 광주 ...\n",
              "3                       5G,전자파,전자기파,전파,무선통신,이동통신,과기정통부  ...                 인체에 유해한 전자파?…국립전파연구원, '팩트체크' 자리 마련\n",
              "4                                                  NaN  ...                    삼성전기, 초소형 파워인덕터 개발…엣지 AI 소형화 가속\n",
              "..                                                 ...  ...                                                ...\n",
              "115  국립전파연구원,국제전기통신연합,ITU,ITU-T,SG17,양자암호통신,정보보호,국제...  ...                     국내 주도 ICT 보안 표준안 8건 '국제 표준' 채택\n",
              "116                                                NaN  ...                   로봇견 ‘스폿’, 코로나19 최전방서 의료진 도와 활약할까\n",
              "117  산업통상자원부,인공지능반도체,AI반도체,자율주행차,사물인터넷,IoT,바이오,로봇,미세공정  ...       산업부, AI 반도체 상용화 위한 기술 개발 추진… 미래차ㆍIoT 등에 적용한다\n",
              "118    한국인공지능학회,인공지능,AI,인공지능대학원,AI대학원,바이오의료,신경과학,컴퓨터비전  ...               한국인공지능학회, '2020년 하계학술대회' 열어 AI 연구 조망\n",
              "119                                                NaN  ...                 \"턱스크 잡는다\"...LG U+, ‘AIㆍ5G 방역로봇’ 개발\n",
              "\n",
              "[120 rows x 3 columns]"
            ]
          },
          "metadata": {
            "tags": []
          },
          "execution_count": 261
        }
      ]
    },
    {
      "cell_type": "code",
      "metadata": {
        "id": "-ZxQxoUxiXXG",
        "colab_type": "code",
        "colab": {
          "base_uri": "https://localhost:8080/",
          "height": 228
        },
        "outputId": "5b3dadc4-af51-49a6-f9b3-512e9dd42c07"
      },
      "source": [
        "# 뉴스 제목 전처리, 단어 이외의 문자들은 띄어쓰기로 변경\n",
        "times_data['title'] = times_data['title'].str.replace(\"[^\\w]\", \" \")\n",
        "\n",
        "# 기사 내용 전처리, 괄호 단어 뽑기, 괄호 제거 후 띄어쓰기\n",
        "import re\n",
        "p = re.compile(r'<.+?>') #html 구조 제거\n",
        "p2 = re.compile(r'\\(([^)]+)') # 괄호 뽑기\n",
        "p3 = re.compile( r'\\([^)]*\\)') # 괄호 제거\n",
        "\n",
        "times_data['regex_content'] = ''\n",
        "times_data['regex_blank'] = ''\n",
        "\n",
        "for n in range(len(times_data['content'])):\n",
        "  sub_content= re.sub(p,'',times_data['content'][n]) #html 구조 제거한 기사 문장\n",
        "  times_data['regex_blank'][n]= p2.findall(times_data['content'][n]) #괄호 단어 뽑은 리스트\n",
        "  sub_content = re.sub(p3,' ',sub_content) #괄호 제거한 기사 문장\n",
        "  sub_content = sub_content.replace(\"[^\\w]\", \" \")\n",
        "  times_data['regex_content'][n] = re.sub('[-=+,#/\\?:^$.@*\\\"※~&%ㆍ·∙!』\\\\’‘|\\(\\)\\[\\]\\<\\>`\\'…》]', ' ', sub_content)\n",
        "\n",
        "times_data['regex_content']\n",
        "\n",
        "# 태그 내용 전처리\n",
        "\n",
        "times_data['tag_1'] = ''\n",
        "for i in range(len(times_data['tag'])) :\n",
        "  if times_data['tag'].isnull()[i]: times_data['tag_1'][i] = \"\"\n",
        "  else : times_data['tag_1'][i]= times_data['tag'][i].replace(',',' ')\n",
        "\n",
        "  \n",
        "times_data['headline']=times_data['title'] +' ' + times_data['tag_1'] + ' ' + times_data['regex_content']\n",
        "times_data['headline']"
      ],
      "execution_count": 319,
      "outputs": [
        {
          "output_type": "execute_result",
          "data": {
            "text/plain": [
              "0       결국 엔비디아가 ARM을 인수했다  인수액은 400억달러   전날 월스트리트저널 ...\n",
              "1       광주와 전남지역을 합쳐 하나의 지방자치단체를 만들자는  광주 전남 행정통합 이 본...\n",
              "2          1조원의 예산이 투입되는 AI 중심 산업융합 집적단지가 광주에 조성되고 있는...\n",
              "3       국립전파연구원이 전자파에 대한 올바른 정보를 제공한다  온라인 포럼을 통해 5G ...\n",
              "4       삼성전기가 초소형 파워인덕터를 개발했다    파워인덕터는 반도체에 안정적인 전력을...\n",
              "                             ...                        \n",
              "115     국제표준기구가 국내 연구진 주도로 제안한 정보보호 분야 표준안 8건을 국제 표준으...\n",
              "116     4족 보행 로봇  스폿  이 코로나19 최전방에서 고생하는 의료진에 힘을 보탤 수...\n",
              "117     정부가 인공지능  반도체 상용화를 목표로 관련 기술 개발에 착수한다  민간 기관과...\n",
              "118     한국인공지능학회 는 인공지능  연구자의 학술 교류 및 최근 기술 동향을 공유할 목...\n",
              "119     마스크 착용 여부와 체온을 측정해 코로나19 방역 관리 효율을 높일 수 있는  5...\n",
              "Name: regex_content, Length: 120, dtype: object"
            ]
          },
          "metadata": {
            "tags": []
          },
          "execution_count": 319
        }
      ]
    },
    {
      "cell_type": "code",
      "metadata": {
        "id": "MTFyHFTppS00",
        "colab_type": "code",
        "colab": {}
      },
      "source": [
        "# 불용어 제거, 토큰화 진행 --> 띄어쓰기 기준으로 문장 잘라 list에 담기\n",
        "\n",
        "stopwords = ['','함께','하지만','뿐','한','또','수','결국','를','을','등','으로','것','약','가','이','즉','은','될','큰','는','로','및','에','그','곧','기자','chosunbiz','며','우리','com','위해','아니라','고','바','와','과','있다','통해','뒤','해','밖에','대한','보다','하는','위한','등을']\n",
        "\n",
        "X_token = []\n",
        "for stc in times_data['headline']:\n",
        "    token = []\n",
        "    words = stc.split()\n",
        "    for word in words:\n",
        "        if word not in stopwords:\n",
        "            token.append(word)\n",
        "    X_token.append(token)"
      ],
      "execution_count": null,
      "outputs": []
    },
    {
      "cell_type": "code",
      "metadata": {
        "id": "wdZuRHptGetK",
        "colab_type": "code",
        "colab": {}
      },
      "source": [
        "# token_stc =m.nouns(sentence)\n",
        "empty = []\n",
        "\n",
        "for token_stc in X_token :\n",
        "  encode_stc = tokenizer.texts_to_sequences([token_stc])\n",
        "  pad_stc = pad_sequences(encode_stc, maxlen=500)\n",
        "  score = model.predict(pad_stc)\n",
        "  result_category = category_list[score.argmax()]\n",
        "  result_prob= score[0, score.argmax()] # 확률값 반환\n",
        "  empty.append([result_category, result_prob])"
      ],
      "execution_count": null,
      "outputs": []
    },
    {
      "cell_type": "code",
      "metadata": {
        "id": "UAdm2rYM9jaq",
        "colab_type": "code",
        "colab": {
          "base_uri": "https://localhost:8080/",
          "height": 402
        },
        "outputId": "dcfa977a-1926-4dc9-9ffd-5a515f26c5f5"
      },
      "source": [
        "result=pd.DataFrame(empty,columns=['category','prob'])\n",
        "resultttt=pd.concat([times_data,result],axis=1)\n",
        "\n",
        "resultttt[['title','category','prob']]"
      ],
      "execution_count": 289,
      "outputs": [
        {
          "output_type": "execute_result",
          "data": {
            "text/html": [
              "<div>\n",
              "<style scoped>\n",
              "    .dataframe tbody tr th:only-of-type {\n",
              "        vertical-align: middle;\n",
              "    }\n",
              "\n",
              "    .dataframe tbody tr th {\n",
              "        vertical-align: top;\n",
              "    }\n",
              "\n",
              "    .dataframe thead th {\n",
              "        text-align: right;\n",
              "    }\n",
              "</style>\n",
              "<table border=\"1\" class=\"dataframe\">\n",
              "  <thead>\n",
              "    <tr style=\"text-align: right;\">\n",
              "      <th></th>\n",
              "      <th>title</th>\n",
              "      <th>category</th>\n",
              "      <th>prob</th>\n",
              "    </tr>\n",
              "  </thead>\n",
              "  <tbody>\n",
              "    <tr>\n",
              "      <th>0</th>\n",
              "      <td>엔비디아  ARM 인수  확정  젠슨 황   AI 시대를 위한 결정</td>\n",
              "      <td>공통</td>\n",
              "      <td>0.989911</td>\n",
              "    </tr>\n",
              "    <tr>\n",
              "      <th>1</th>\n",
              "      <td>광주 전남 행정 통합 논의 시동 걸었다</td>\n",
              "      <td>기술</td>\n",
              "      <td>0.993323</td>\n",
              "    </tr>\n",
              "    <tr>\n",
              "      <th>2</th>\n",
              "      <td>Monday News   AI 중심도시 광주  이것이 풀어야 할 과제다 ④ 광주 ...</td>\n",
              "      <td>기술</td>\n",
              "      <td>0.592432</td>\n",
              "    </tr>\n",
              "    <tr>\n",
              "      <th>3</th>\n",
              "      <td>인체에 유해한 전자파  국립전파연구원   팩트체크  자리 마련</td>\n",
              "      <td>공통</td>\n",
              "      <td>0.873029</td>\n",
              "    </tr>\n",
              "    <tr>\n",
              "      <th>4</th>\n",
              "      <td>삼성전기  초소형 파워인덕터 개발 엣지 AI 소형화 가속</td>\n",
              "      <td>공통</td>\n",
              "      <td>0.991820</td>\n",
              "    </tr>\n",
              "    <tr>\n",
              "      <th>...</th>\n",
              "      <td>...</td>\n",
              "      <td>...</td>\n",
              "      <td>...</td>\n",
              "    </tr>\n",
              "    <tr>\n",
              "      <th>115</th>\n",
              "      <td>국내 주도 ICT 보안 표준안 8건  국제 표준  채택</td>\n",
              "      <td>기술</td>\n",
              "      <td>0.949060</td>\n",
              "    </tr>\n",
              "    <tr>\n",
              "      <th>116</th>\n",
              "      <td>로봇견  스폿   코로나19 최전방서 의료진 도와 활약할까</td>\n",
              "      <td>공통</td>\n",
              "      <td>0.774538</td>\n",
              "    </tr>\n",
              "    <tr>\n",
              "      <th>117</th>\n",
              "      <td>산업부  AI 반도체 상용화 위한 기술 개발 추진  미래차ㆍIoT 등에 적용한다</td>\n",
              "      <td>기술</td>\n",
              "      <td>0.734547</td>\n",
              "    </tr>\n",
              "    <tr>\n",
              "      <th>118</th>\n",
              "      <td>한국인공지능학회   2020년 하계학술대회  열어 AI 연구 조망</td>\n",
              "      <td>공통</td>\n",
              "      <td>0.882606</td>\n",
              "    </tr>\n",
              "    <tr>\n",
              "      <th>119</th>\n",
              "      <td>턱스크 잡는다    LG U    AIㆍ5G 방역로봇  개발</td>\n",
              "      <td>공통</td>\n",
              "      <td>0.997709</td>\n",
              "    </tr>\n",
              "  </tbody>\n",
              "</table>\n",
              "<p>120 rows × 3 columns</p>\n",
              "</div>"
            ],
            "text/plain": [
              "                                                 title category      prob\n",
              "0               엔비디아  ARM 인수  확정  젠슨 황   AI 시대를 위한 결정        공통  0.989911\n",
              "1                                광주 전남 행정 통합 논의 시동 걸었다       기술  0.993323\n",
              "2     Monday News   AI 중심도시 광주  이것이 풀어야 할 과제다 ④ 광주 ...       기술  0.592432\n",
              "3                   인체에 유해한 전자파  국립전파연구원   팩트체크  자리 마련       공통  0.873029\n",
              "4                      삼성전기  초소형 파워인덕터 개발 엣지 AI 소형화 가속       공통  0.991820\n",
              "..                                                 ...      ...       ...\n",
              "115                     국내 주도 ICT 보안 표준안 8건  국제 표준  채택       기술  0.949060\n",
              "116                   로봇견  스폿   코로나19 최전방서 의료진 도와 활약할까       공통  0.774538\n",
              "117       산업부  AI 반도체 상용화 위한 기술 개발 추진  미래차ㆍIoT 등에 적용한다       기술  0.734547\n",
              "118               한국인공지능학회   2020년 하계학술대회  열어 AI 연구 조망       공통  0.882606\n",
              "119                  턱스크 잡는다    LG U    AIㆍ5G 방역로봇  개발       공통  0.997709\n",
              "\n",
              "[120 rows x 3 columns]"
            ]
          },
          "metadata": {
            "tags": []
          },
          "execution_count": 289
        }
      ]
    },
    {
      "cell_type": "code",
      "metadata": {
        "id": "F9E7y8nwAwyE",
        "colab_type": "code",
        "colab": {
          "base_uri": "https://localhost:8080/",
          "height": 122
        },
        "outputId": "a0a486bc-469f-49e7-ba6f-ef3d4793dad2"
      },
      "source": [
        "resultttt.category.value_counts()"
      ],
      "execution_count": 290,
      "outputs": [
        {
          "output_type": "execute_result",
          "data": {
            "text/plain": [
              "기술       58\n",
              "공통       51\n",
              "문화/예술     7\n",
              "경제        3\n",
              "건강        1\n",
              "Name: category, dtype: int64"
            ]
          },
          "metadata": {
            "tags": []
          },
          "execution_count": 290
        }
      ]
    },
    {
      "cell_type": "code",
      "metadata": {
        "id": "rWiwXmvs-WTQ",
        "colab_type": "code",
        "colab": {
          "base_uri": "https://localhost:8080/",
          "height": 254
        },
        "outputId": "470769e4-83f7-4b38-cbb2-7c7597a85412"
      },
      "source": [
        "resultttt[resultttt.category == '문화/예술'][['tag','headline','category','prob']].sort_values(['prob'],ascending=False)"
      ],
      "execution_count": 300,
      "outputs": [
        {
          "output_type": "execute_result",
          "data": {
            "text/html": [
              "<div>\n",
              "<style scoped>\n",
              "    .dataframe tbody tr th:only-of-type {\n",
              "        vertical-align: middle;\n",
              "    }\n",
              "\n",
              "    .dataframe tbody tr th {\n",
              "        vertical-align: top;\n",
              "    }\n",
              "\n",
              "    .dataframe thead th {\n",
              "        text-align: right;\n",
              "    }\n",
              "</style>\n",
              "<table border=\"1\" class=\"dataframe\">\n",
              "  <thead>\n",
              "    <tr style=\"text-align: right;\">\n",
              "      <th></th>\n",
              "      <th>tag</th>\n",
              "      <th>headline</th>\n",
              "      <th>category</th>\n",
              "      <th>prob</th>\n",
              "    </tr>\n",
              "  </thead>\n",
              "  <tbody>\n",
              "    <tr>\n",
              "      <th>28</th>\n",
              "      <td>NaN</td>\n",
              "      <td>기획  ①코로나 블루 시대 AI음악이 위로한다 안창욱 지스트 교수   인공지능 이...</td>\n",
              "      <td>문화/예술</td>\n",
              "      <td>0.871107</td>\n",
              "    </tr>\n",
              "    <tr>\n",
              "      <th>66</th>\n",
              "      <td>산업부,교육부,ICT,디지털전환,에듀테크,비대면,언택트,AI,가상현실,AR,증강현실</td>\n",
              "      <td>2020 에듀테크 코리아  9일 온라인 개막 산업부 교육부 ICT 디지털전환 에듀...</td>\n",
              "      <td>문화/예술</td>\n",
              "      <td>0.619562</td>\n",
              "    </tr>\n",
              "    <tr>\n",
              "      <th>67</th>\n",
              "      <td>NaN</td>\n",
              "      <td>메디컬아이피  서울성모병원과 3D 해부학 모델 공동 개발     메디컬아이피 가 서...</td>\n",
              "      <td>문화/예술</td>\n",
              "      <td>0.604296</td>\n",
              "    </tr>\n",
              "    <tr>\n",
              "      <th>92</th>\n",
              "      <td>전자피부,인공피부,센서,로봇,RMIT</td>\n",
              "      <td>사람처럼 고통에 반응하는  전자피부  개발 전자피부 인공피부 센서 로봇 RMIT  ...</td>\n",
              "      <td>문화/예술</td>\n",
              "      <td>0.430442</td>\n",
              "    </tr>\n",
              "    <tr>\n",
              "      <th>52</th>\n",
              "      <td>NaN</td>\n",
              "      <td>난 인간을 전멸시키지 않을 것    가디언지에 칼럼 쓴 GPT3   “생각으로 머...</td>\n",
              "      <td>문화/예술</td>\n",
              "      <td>0.399849</td>\n",
              "    </tr>\n",
              "    <tr>\n",
              "      <th>31</th>\n",
              "      <td>브이리뷰,Vreview,인덴트코퍼레이션,챗봇,영상후기,구매후기동영상,위젯</td>\n",
              "      <td>인덴트코퍼레이션 AI 동영상 리뷰 서비스 3억건 노출 브이리뷰 Vreview 인덴트...</td>\n",
              "      <td>문화/예술</td>\n",
              "      <td>0.272593</td>\n",
              "    </tr>\n",
              "    <tr>\n",
              "      <th>99</th>\n",
              "      <td>NaN</td>\n",
              "      <td>전남에서 게임 창업하자  스타트업 지원 행사  눈길    미래 국내 게임 산업을 ...</td>\n",
              "      <td>문화/예술</td>\n",
              "      <td>0.239320</td>\n",
              "    </tr>\n",
              "  </tbody>\n",
              "</table>\n",
              "</div>"
            ],
            "text/plain": [
              "                                               tag  ...      prob\n",
              "28                                             NaN  ...  0.871107\n",
              "66  산업부,교육부,ICT,디지털전환,에듀테크,비대면,언택트,AI,가상현실,AR,증강현실  ...  0.619562\n",
              "67                                             NaN  ...  0.604296\n",
              "92                            전자피부,인공피부,센서,로봇,RMIT  ...  0.430442\n",
              "52                                             NaN  ...  0.399849\n",
              "31        브이리뷰,Vreview,인덴트코퍼레이션,챗봇,영상후기,구매후기동영상,위젯  ...  0.272593\n",
              "99                                             NaN  ...  0.239320\n",
              "\n",
              "[7 rows x 4 columns]"
            ]
          },
          "metadata": {
            "tags": []
          },
          "execution_count": 300
        }
      ]
    },
    {
      "cell_type": "code",
      "metadata": {
        "id": "ahQwx7I4AkVm",
        "colab_type": "code",
        "colab": {}
      },
      "source": [
        ""
      ],
      "execution_count": null,
      "outputs": []
    }
  ]
}